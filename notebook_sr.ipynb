{
  "nbformat": 4,
  "nbformat_minor": 0,
  "metadata": {
    "language_info": {
      "name": "python",
      "version": "3.7.9",
      "mimetype": "text/x-python",
      "codemirror_mode": {
        "name": "ipython",
        "version": 3
      },
      "pygments_lexer": "ipython3",
      "nbconvert_exporter": "python",
      "file_extension": ".py"
    },
    "kernelspec": {
      "language": "python",
      "display_name": "Python 3",
      "name": "python3"
    },
    "colab": {
      "name": "notebook-sr.ipynb",
      "provenance": []
    }
  },
  "cells": [
    {
      "cell_type": "code",
      "metadata": {
        "_uuid": "05981a4b-368c-47fb-ba92-db14e26c0f4d",
        "_cell_guid": "1880e4bc-e526-4d04-815c-f61378504635",
        "jupyter": {
          "outputs_hidden": false
        },
        "trusted": true,
        "id": "UFxwD6itrKFq"
      },
      "source": [
        ""
      ],
      "execution_count": null,
      "outputs": []
    },
    {
      "cell_type": "code",
      "metadata": {
        "_uuid": "0e77e74b-2935-4057-b503-55c1dfa40cd1",
        "_cell_guid": "2ea3471a-ecc4-4e8d-b7fb-deb10961ead4",
        "jupyter": {
          "outputs_hidden": false
        },
        "trusted": true,
        "id": "cMTPJDGBrKFz"
      },
      "source": [
        "\n",
        "import numpy as np # linear algebra\n",
        "import pandas as pd # data processing, CSV file I/O (e.g. pd.read_csv)\n",
        "\n",
        "\n",
        "import os\n",
        "for dirname, _, filenames in tqdm(os.walk('/kaggle/input')):\n",
        "    sleep(0.01)\n",
        "    d=dirname.split(os.path.sep)[-1]\n",
        "    for filename in filenames:\n",
        "        print(os.path.join(dirname, filename))\n"
      ],
      "execution_count": null,
      "outputs": []
    },
    {
      "cell_type": "code",
      "metadata": {
        "_uuid": "26ad9e3a-8a4c-428f-82e4-9fa1fdcb728b",
        "_cell_guid": "2927d028-6849-4bca-91a0-59b45c2aebfb",
        "jupyter": {
          "outputs_hidden": false
        },
        "trusted": true,
        "id": "g6TFZ3dxrKF1",
        "outputId": "8aa0e9c7-b219-4fb9-8102-579c17c7b796"
      },
      "source": [
        "!pip install https://s3-us-west-2.amazonaws.com/ai2-s2-scispacy/releases/v0.2.4/en_ner_bionlp13cg_md-0.2.4.tar.gz\n",
        "!pip install https://s3-us-west-2.amazonaws.com/ai2-s2-scispacy/releases/v0.4.0/en_ner_bc5cdr_md-0.4.0.tar.gz            \n",
        "!pip install scispacy"
      ],
      "execution_count": null,
      "outputs": [
        {
          "output_type": "stream",
          "text": [
            "Collecting https://s3-us-west-2.amazonaws.com/ai2-s2-scispacy/releases/v0.2.4/en_ner_bionlp13cg_md-0.2.4.tar.gz\n",
            "  Downloading https://s3-us-west-2.amazonaws.com/ai2-s2-scispacy/releases/v0.2.4/en_ner_bionlp13cg_md-0.2.4.tar.gz (70.1 MB)\n",
            "\u001b[K     |████████████████████████████████| 70.1 MB 131 kB/s eta 0:00:014��██████████████▋             | 40.8 MB 778 kB/s eta 0:00:38 eta 0:00:25\n",
            "\u001b[?25hRequirement already satisfied: spacy>=2.2.1 in /opt/conda/lib/python3.7/site-packages (from en-ner-bionlp13cg-md==0.2.4) (2.3.5)\n",
            "Requirement already satisfied: cymem<2.1.0,>=2.0.2 in /opt/conda/lib/python3.7/site-packages (from spacy>=2.2.1->en-ner-bionlp13cg-md==0.2.4) (2.0.5)\n",
            "Requirement already satisfied: tqdm<5.0.0,>=4.38.0 in /opt/conda/lib/python3.7/site-packages (from spacy>=2.2.1->en-ner-bionlp13cg-md==0.2.4) (4.56.2)\n",
            "Requirement already satisfied: preshed<3.1.0,>=3.0.2 in /opt/conda/lib/python3.7/site-packages (from spacy>=2.2.1->en-ner-bionlp13cg-md==0.2.4) (3.0.5)\n",
            "Requirement already satisfied: thinc<7.5.0,>=7.4.1 in /opt/conda/lib/python3.7/site-packages (from spacy>=2.2.1->en-ner-bionlp13cg-md==0.2.4) (7.4.5)\n",
            "Requirement already satisfied: blis<0.8.0,>=0.4.0 in /opt/conda/lib/python3.7/site-packages (from spacy>=2.2.1->en-ner-bionlp13cg-md==0.2.4) (0.7.4)\n",
            "Requirement already satisfied: catalogue<1.1.0,>=0.0.7 in /opt/conda/lib/python3.7/site-packages (from spacy>=2.2.1->en-ner-bionlp13cg-md==0.2.4) (1.0.0)\n",
            "Requirement already satisfied: setuptools in /opt/conda/lib/python3.7/site-packages (from spacy>=2.2.1->en-ner-bionlp13cg-md==0.2.4) (49.6.0.post20210108)\n",
            "Requirement already satisfied: plac<1.2.0,>=0.9.6 in /opt/conda/lib/python3.7/site-packages (from spacy>=2.2.1->en-ner-bionlp13cg-md==0.2.4) (1.1.3)\n",
            "Requirement already satisfied: murmurhash<1.1.0,>=0.28.0 in /opt/conda/lib/python3.7/site-packages (from spacy>=2.2.1->en-ner-bionlp13cg-md==0.2.4) (1.0.5)\n",
            "Requirement already satisfied: requests<3.0.0,>=2.13.0 in /opt/conda/lib/python3.7/site-packages (from spacy>=2.2.1->en-ner-bionlp13cg-md==0.2.4) (2.25.1)\n",
            "Requirement already satisfied: wasabi<1.1.0,>=0.4.0 in /opt/conda/lib/python3.7/site-packages (from spacy>=2.2.1->en-ner-bionlp13cg-md==0.2.4) (0.8.2)\n",
            "Requirement already satisfied: srsly<1.1.0,>=1.0.2 in /opt/conda/lib/python3.7/site-packages (from spacy>=2.2.1->en-ner-bionlp13cg-md==0.2.4) (1.0.5)\n",
            "Requirement already satisfied: numpy>=1.15.0 in /opt/conda/lib/python3.7/site-packages (from spacy>=2.2.1->en-ner-bionlp13cg-md==0.2.4) (1.19.5)\n",
            "Requirement already satisfied: importlib-metadata>=0.20 in /opt/conda/lib/python3.7/site-packages (from catalogue<1.1.0,>=0.0.7->spacy>=2.2.1->en-ner-bionlp13cg-md==0.2.4) (3.4.0)\n",
            "Requirement already satisfied: typing-extensions>=3.6.4 in /opt/conda/lib/python3.7/site-packages (from importlib-metadata>=0.20->catalogue<1.1.0,>=0.0.7->spacy>=2.2.1->en-ner-bionlp13cg-md==0.2.4) (3.7.4.3)\n",
            "Requirement already satisfied: zipp>=0.5 in /opt/conda/lib/python3.7/site-packages (from importlib-metadata>=0.20->catalogue<1.1.0,>=0.0.7->spacy>=2.2.1->en-ner-bionlp13cg-md==0.2.4) (3.4.0)\n",
            "Requirement already satisfied: urllib3<1.27,>=1.21.1 in /opt/conda/lib/python3.7/site-packages (from requests<3.0.0,>=2.13.0->spacy>=2.2.1->en-ner-bionlp13cg-md==0.2.4) (1.26.3)\n",
            "Requirement already satisfied: idna<3,>=2.5 in /opt/conda/lib/python3.7/site-packages (from requests<3.0.0,>=2.13.0->spacy>=2.2.1->en-ner-bionlp13cg-md==0.2.4) (2.10)\n",
            "Requirement already satisfied: certifi>=2017.4.17 in /opt/conda/lib/python3.7/site-packages (from requests<3.0.0,>=2.13.0->spacy>=2.2.1->en-ner-bionlp13cg-md==0.2.4) (2020.12.5)\n",
            "Requirement already satisfied: chardet<5,>=3.0.2 in /opt/conda/lib/python3.7/site-packages (from requests<3.0.0,>=2.13.0->spacy>=2.2.1->en-ner-bionlp13cg-md==0.2.4) (3.0.4)\n",
            "Building wheels for collected packages: en-ner-bionlp13cg-md\n",
            "  Building wheel for en-ner-bionlp13cg-md (setup.py) ... \u001b[?25ldone\n",
            "\u001b[?25h  Created wheel for en-ner-bionlp13cg-md: filename=en_ner_bionlp13cg_md-0.2.4-py3-none-any.whl size=70542691 sha256=98d529700c6fbb251eebc3ea97439637060c59622386baa664d1dc022fafc22e\n",
            "  Stored in directory: /root/.cache/pip/wheels/50/b2/7d/53cff131cb37c8b0197b02f45eb827ff4bb00b119c3a591b4d\n",
            "Successfully built en-ner-bionlp13cg-md\n",
            "Installing collected packages: en-ner-bionlp13cg-md\n",
            "Successfully installed en-ner-bionlp13cg-md-0.2.4\n",
            "Collecting https://s3-us-west-2.amazonaws.com/ai2-s2-scispacy/releases/v0.4.0/en_ner_bc5cdr_md-0.4.0.tar.gz\n",
            "  Downloading https://s3-us-west-2.amazonaws.com/ai2-s2-scispacy/releases/v0.4.0/en_ner_bc5cdr_md-0.4.0.tar.gz (125.1 MB)\n",
            "\u001b[K     |████████████████████████████████| 125.1 MB 42 kB/s  eta 0:00:01    |████▉                           | 19.1 MB 759 kB/s eta 0:02:20     |████████████▏                   | 47.7 MB 846 kB/s eta 0:01:32     |████████████▋                   | 49.1 MB 846 kB/s eta 0:01:30��██▌           | 80.1 MB 796 kB/s eta 0:00:57█████████████████████           | 82.2 MB 796 kB/s eta 0:00:54████████████████          | 86.0 MB 796 kB/s eta 0:00:506 MB 805 kB/s eta 0:00:06\n",
            "\u001b[?25hCollecting spacy<3.1.0,>=3.0.1\n",
            "  Downloading spacy-3.0.5-cp37-cp37m-manylinux2014_x86_64.whl (12.8 MB)\n",
            "\u001b[K     |████████████████████████████████| 12.8 MB 7.1 MB/s eta 0:00:01\n",
            "\u001b[?25hCollecting srsly<3.0.0,>=2.4.0\n",
            "  Downloading srsly-2.4.0-cp37-cp37m-manylinux2014_x86_64.whl (456 kB)\n",
            "\u001b[K     |████████████████████████████████| 456 kB 13.2 MB/s eta 0:00:01\n",
            "\u001b[?25hRequirement already satisfied: importlib-metadata>=0.20 in /opt/conda/lib/python3.7/site-packages (from spacy<3.1.0,>=3.0.1->en-ner-bc5cdr-md==0.4.0) (3.4.0)\n",
            "Requirement already satisfied: murmurhash<1.1.0,>=0.28.0 in /opt/conda/lib/python3.7/site-packages (from spacy<3.1.0,>=3.0.1->en-ner-bc5cdr-md==0.4.0) (1.0.5)\n",
            "Requirement already satisfied: typing-extensions<4.0.0.0,>=3.7.4 in /opt/conda/lib/python3.7/site-packages (from spacy<3.1.0,>=3.0.1->en-ner-bc5cdr-md==0.4.0) (3.7.4.3)\n",
            "Collecting thinc<8.1.0,>=8.0.2\n",
            "  Downloading thinc-8.0.2-cp37-cp37m-manylinux2014_x86_64.whl (1.1 MB)\n",
            "\u001b[K     |████████████████████████████████| 1.1 MB 12.9 MB/s eta 0:00:01\n",
            "\u001b[?25hRequirement already satisfied: preshed<3.1.0,>=3.0.2 in /opt/conda/lib/python3.7/site-packages (from spacy<3.1.0,>=3.0.1->en-ner-bc5cdr-md==0.4.0) (3.0.5)\n",
            "Requirement already satisfied: packaging>=20.0 in /opt/conda/lib/python3.7/site-packages (from spacy<3.1.0,>=3.0.1->en-ner-bc5cdr-md==0.4.0) (20.9)\n",
            "Collecting catalogue<2.1.0,>=2.0.1\n",
            "  Downloading catalogue-2.0.1-py3-none-any.whl (9.6 kB)\n",
            "Requirement already satisfied: numpy>=1.15.0 in /opt/conda/lib/python3.7/site-packages (from spacy<3.1.0,>=3.0.1->en-ner-bc5cdr-md==0.4.0) (1.19.5)\n",
            "Requirement already satisfied: setuptools in /opt/conda/lib/python3.7/site-packages (from spacy<3.1.0,>=3.0.1->en-ner-bc5cdr-md==0.4.0) (49.6.0.post20210108)\n",
            "Requirement already satisfied: blis<0.8.0,>=0.4.0 in /opt/conda/lib/python3.7/site-packages (from spacy<3.1.0,>=3.0.1->en-ner-bc5cdr-md==0.4.0) (0.7.4)\n",
            "Collecting pydantic<1.8.0,>=1.7.1\n",
            "  Downloading pydantic-1.7.3-cp37-cp37m-manylinux2014_x86_64.whl (9.1 MB)\n",
            "\u001b[K     |████████████████████████████████| 9.1 MB 13.9 MB/s eta 0:00:01\n",
            "\u001b[?25hRequirement already satisfied: cymem<2.1.0,>=2.0.2 in /opt/conda/lib/python3.7/site-packages (from spacy<3.1.0,>=3.0.1->en-ner-bc5cdr-md==0.4.0) (2.0.5)\n",
            "Collecting pathy>=0.3.5\n",
            "  Downloading pathy-0.4.0-py3-none-any.whl (36 kB)\n",
            "Collecting typer<0.4.0,>=0.3.0\n",
            "  Downloading typer-0.3.2-py3-none-any.whl (21 kB)\n",
            "Collecting spacy-legacy<3.1.0,>=3.0.0\n",
            "  Downloading spacy_legacy-3.0.2-py2.py3-none-any.whl (7.8 kB)\n",
            "Requirement already satisfied: jinja2 in /opt/conda/lib/python3.7/site-packages (from spacy<3.1.0,>=3.0.1->en-ner-bc5cdr-md==0.4.0) (2.11.3)\n",
            "Requirement already satisfied: tqdm<5.0.0,>=4.38.0 in /opt/conda/lib/python3.7/site-packages (from spacy<3.1.0,>=3.0.1->en-ner-bc5cdr-md==0.4.0) (4.56.2)\n",
            "Requirement already satisfied: wasabi<1.1.0,>=0.8.1 in /opt/conda/lib/python3.7/site-packages (from spacy<3.1.0,>=3.0.1->en-ner-bc5cdr-md==0.4.0) (0.8.2)\n",
            "Requirement already satisfied: requests<3.0.0,>=2.13.0 in /opt/conda/lib/python3.7/site-packages (from spacy<3.1.0,>=3.0.1->en-ner-bc5cdr-md==0.4.0) (2.25.1)\n",
            "Requirement already satisfied: zipp>=0.5 in /opt/conda/lib/python3.7/site-packages (from importlib-metadata>=0.20->spacy<3.1.0,>=3.0.1->en-ner-bc5cdr-md==0.4.0) (3.4.0)\n",
            "Requirement already satisfied: pyparsing>=2.0.2 in /opt/conda/lib/python3.7/site-packages (from packaging>=20.0->spacy<3.1.0,>=3.0.1->en-ner-bc5cdr-md==0.4.0) (2.4.7)\n",
            "Collecting smart-open<4.0.0,>=2.2.0\n",
            "  Downloading smart_open-3.0.0.tar.gz (113 kB)\n",
            "\u001b[K     |████████████████████████████████| 113 kB 22.0 MB/s eta 0:00:01\n",
            "\u001b[?25hRequirement already satisfied: certifi>=2017.4.17 in /opt/conda/lib/python3.7/site-packages (from requests<3.0.0,>=2.13.0->spacy<3.1.0,>=3.0.1->en-ner-bc5cdr-md==0.4.0) (2020.12.5)\n",
            "Requirement already satisfied: urllib3<1.27,>=1.21.1 in /opt/conda/lib/python3.7/site-packages (from requests<3.0.0,>=2.13.0->spacy<3.1.0,>=3.0.1->en-ner-bc5cdr-md==0.4.0) (1.26.3)\n",
            "Requirement already satisfied: idna<3,>=2.5 in /opt/conda/lib/python3.7/site-packages (from requests<3.0.0,>=2.13.0->spacy<3.1.0,>=3.0.1->en-ner-bc5cdr-md==0.4.0) (2.10)\n",
            "Requirement already satisfied: chardet<5,>=3.0.2 in /opt/conda/lib/python3.7/site-packages (from requests<3.0.0,>=2.13.0->spacy<3.1.0,>=3.0.1->en-ner-bc5cdr-md==0.4.0) (3.0.4)\n",
            "Requirement already satisfied: click<7.2.0,>=7.1.1 in /opt/conda/lib/python3.7/site-packages (from typer<0.4.0,>=0.3.0->spacy<3.1.0,>=3.0.1->en-ner-bc5cdr-md==0.4.0) (7.1.2)\n",
            "Requirement already satisfied: MarkupSafe>=0.23 in /opt/conda/lib/python3.7/site-packages (from jinja2->spacy<3.1.0,>=3.0.1->en-ner-bc5cdr-md==0.4.0) (1.1.1)\n",
            "Building wheels for collected packages: en-ner-bc5cdr-md, smart-open\n",
            "  Building wheel for en-ner-bc5cdr-md (setup.py) ... \u001b[?25ldone\n",
            "\u001b[?25h  Created wheel for en-ner-bc5cdr-md: filename=en_ner_bc5cdr_md-0.4.0-py3-none-any.whl size=125666883 sha256=0b9a9c9fe3eb242963cdaf0d450621c85d10452aad272cf9ffa0420ebbca8402\n",
            "  Stored in directory: /root/.cache/pip/wheels/6a/17/04/ed8f50ffdcb9b9e4ce601c0c3cf88361f2b3f54a10c0fa0803\n",
            "  Building wheel for smart-open (setup.py) ... \u001b[?25ldone\n",
            "\u001b[?25h  Created wheel for smart-open: filename=smart_open-3.0.0-py3-none-any.whl size=107097 sha256=373bdbc7792c22bfc4870a72ecae63cf13cb2faff1648b33cc4afc804e229731\n",
            "  Stored in directory: /root/.cache/pip/wheels/83/a6/12/bf3c1a667bde4251be5b7a3368b2d604c9af2105b5c1cb1870\n",
            "Successfully built en-ner-bc5cdr-md smart-open\n",
            "Installing collected packages: catalogue, typer, srsly, smart-open, pydantic, thinc, spacy-legacy, pathy, spacy, en-ner-bc5cdr-md\n",
            "  Attempting uninstall: catalogue\n",
            "    Found existing installation: catalogue 1.0.0\n",
            "    Uninstalling catalogue-1.0.0:\n",
            "      Successfully uninstalled catalogue-1.0.0\n",
            "  Attempting uninstall: srsly\n",
            "    Found existing installation: srsly 1.0.5\n",
            "    Uninstalling srsly-1.0.5:\n",
            "      Successfully uninstalled srsly-1.0.5\n",
            "  Attempting uninstall: smart-open\n",
            "    Found existing installation: smart-open 5.0.0\n",
            "    Uninstalling smart-open-5.0.0:\n",
            "      Successfully uninstalled smart-open-5.0.0\n",
            "  Attempting uninstall: thinc\n",
            "    Found existing installation: thinc 7.4.5\n",
            "    Uninstalling thinc-7.4.5:\n",
            "      Successfully uninstalled thinc-7.4.5\n",
            "  Attempting uninstall: spacy\n",
            "    Found existing installation: spacy 2.3.5\n",
            "    Uninstalling spacy-2.3.5:\n",
            "      Successfully uninstalled spacy-2.3.5\n",
            "\u001b[31mERROR: pip's dependency resolver does not currently take into account all the packages that are installed. This behaviour is the source of the following dependency conflicts.\n",
            "fastai 2.2.7 requires spacy<3, but you have spacy 3.0.5 which is incompatible.\n",
            "en-core-web-sm 2.3.1 requires spacy<2.4.0,>=2.3.0, but you have spacy 3.0.5 which is incompatible.\n",
            "en-core-web-lg 2.3.1 requires spacy<2.4.0,>=2.3.0, but you have spacy 3.0.5 which is incompatible.\u001b[0m\n",
            "Successfully installed catalogue-2.0.1 en-ner-bc5cdr-md-0.4.0 pathy-0.4.0 pydantic-1.7.3 smart-open-3.0.0 spacy-3.0.5 spacy-legacy-3.0.2 srsly-2.4.0 thinc-8.0.2 typer-0.3.2\n",
            "Collecting scispacy\n",
            "  Downloading scispacy-0.4.0-py3-none-any.whl (44 kB)\n",
            "\u001b[K     |████████████████████████████████| 44 kB 242 kB/s eta 0:00:01\n",
            "\u001b[?25hRequirement already satisfied: scikit-learn>=0.20.3 in /opt/conda/lib/python3.7/site-packages (from scispacy) (0.24.1)\n",
            "Collecting nmslib>=1.7.3.6\n",
            "  Downloading nmslib-2.1.1-cp37-cp37m-manylinux2010_x86_64.whl (13.5 MB)\n",
            "\u001b[K     |████████████████████████████████| 13.5 MB 10.2 MB/s eta 0:00:01\n",
            "\u001b[?25hRequirement already satisfied: joblib in /opt/conda/lib/python3.7/site-packages (from scispacy) (1.0.1)\n",
            "Requirement already satisfied: spacy<3.1.0,>=3.0.0 in /opt/conda/lib/python3.7/site-packages (from scispacy) (3.0.5)\n",
            "Collecting pysbd\n",
            "  Downloading pysbd-0.3.4-py3-none-any.whl (71 kB)\n",
            "\u001b[K     |████████████████████████████████| 71 kB 6.1 MB/s  eta 0:00:01\n",
            "\u001b[?25hRequirement already satisfied: requests<3.0.0,>=2.0.0 in /opt/conda/lib/python3.7/site-packages (from scispacy) (2.25.1)\n",
            "Requirement already satisfied: numpy in /opt/conda/lib/python3.7/site-packages (from scispacy) (1.19.5)\n",
            "Collecting conllu\n",
            "  Downloading conllu-4.4-py2.py3-none-any.whl (15 kB)\n",
            "Requirement already satisfied: psutil in /opt/conda/lib/python3.7/site-packages (from nmslib>=1.7.3.6->scispacy) (5.8.0)\n",
            "Collecting pybind11<2.6.2\n",
            "  Downloading pybind11-2.6.1-py2.py3-none-any.whl (188 kB)\n",
            "\u001b[K     |████████████████████████████████| 188 kB 15.0 MB/s eta 0:00:01\n",
            "\u001b[?25hRequirement already satisfied: idna<3,>=2.5 in /opt/conda/lib/python3.7/site-packages (from requests<3.0.0,>=2.0.0->scispacy) (2.10)\n",
            "Requirement already satisfied: certifi>=2017.4.17 in /opt/conda/lib/python3.7/site-packages (from requests<3.0.0,>=2.0.0->scispacy) (2020.12.5)\n",
            "Requirement already satisfied: urllib3<1.27,>=1.21.1 in /opt/conda/lib/python3.7/site-packages (from requests<3.0.0,>=2.0.0->scispacy) (1.26.3)\n",
            "Requirement already satisfied: chardet<5,>=3.0.2 in /opt/conda/lib/python3.7/site-packages (from requests<3.0.0,>=2.0.0->scispacy) (3.0.4)\n",
            "Requirement already satisfied: threadpoolctl>=2.0.0 in /opt/conda/lib/python3.7/site-packages (from scikit-learn>=0.20.3->scispacy) (2.1.0)\n",
            "Requirement already satisfied: scipy>=0.19.1 in /opt/conda/lib/python3.7/site-packages (from scikit-learn>=0.20.3->scispacy) (1.5.4)\n",
            "Requirement already satisfied: preshed<3.1.0,>=3.0.2 in /opt/conda/lib/python3.7/site-packages (from spacy<3.1.0,>=3.0.0->scispacy) (3.0.5)\n",
            "Requirement already satisfied: jinja2 in /opt/conda/lib/python3.7/site-packages (from spacy<3.1.0,>=3.0.0->scispacy) (2.11.3)\n",
            "Requirement already satisfied: wasabi<1.1.0,>=0.8.1 in /opt/conda/lib/python3.7/site-packages (from spacy<3.1.0,>=3.0.0->scispacy) (0.8.2)\n",
            "Requirement already satisfied: thinc<8.1.0,>=8.0.2 in /opt/conda/lib/python3.7/site-packages (from spacy<3.1.0,>=3.0.0->scispacy) (8.0.2)\n",
            "Requirement already satisfied: blis<0.8.0,>=0.4.0 in /opt/conda/lib/python3.7/site-packages (from spacy<3.1.0,>=3.0.0->scispacy) (0.7.4)\n",
            "Requirement already satisfied: typing-extensions<4.0.0.0,>=3.7.4 in /opt/conda/lib/python3.7/site-packages (from spacy<3.1.0,>=3.0.0->scispacy) (3.7.4.3)\n",
            "Requirement already satisfied: srsly<3.0.0,>=2.4.0 in /opt/conda/lib/python3.7/site-packages (from spacy<3.1.0,>=3.0.0->scispacy) (2.4.0)\n",
            "Requirement already satisfied: typer<0.4.0,>=0.3.0 in /opt/conda/lib/python3.7/site-packages (from spacy<3.1.0,>=3.0.0->scispacy) (0.3.2)\n",
            "Requirement already satisfied: pydantic<1.8.0,>=1.7.1 in /opt/conda/lib/python3.7/site-packages (from spacy<3.1.0,>=3.0.0->scispacy) (1.7.3)\n",
            "Requirement already satisfied: cymem<2.1.0,>=2.0.2 in /opt/conda/lib/python3.7/site-packages (from spacy<3.1.0,>=3.0.0->scispacy) (2.0.5)\n",
            "Requirement already satisfied: importlib-metadata>=0.20 in /opt/conda/lib/python3.7/site-packages (from spacy<3.1.0,>=3.0.0->scispacy) (3.4.0)\n",
            "Requirement already satisfied: spacy-legacy<3.1.0,>=3.0.0 in /opt/conda/lib/python3.7/site-packages (from spacy<3.1.0,>=3.0.0->scispacy) (3.0.2)\n",
            "Requirement already satisfied: packaging>=20.0 in /opt/conda/lib/python3.7/site-packages (from spacy<3.1.0,>=3.0.0->scispacy) (20.9)\n",
            "Requirement already satisfied: tqdm<5.0.0,>=4.38.0 in /opt/conda/lib/python3.7/site-packages (from spacy<3.1.0,>=3.0.0->scispacy) (4.56.2)\n",
            "Requirement already satisfied: pathy>=0.3.5 in /opt/conda/lib/python3.7/site-packages (from spacy<3.1.0,>=3.0.0->scispacy) (0.4.0)\n",
            "Requirement already satisfied: catalogue<2.1.0,>=2.0.1 in /opt/conda/lib/python3.7/site-packages (from spacy<3.1.0,>=3.0.0->scispacy) (2.0.1)\n",
            "Requirement already satisfied: murmurhash<1.1.0,>=0.28.0 in /opt/conda/lib/python3.7/site-packages (from spacy<3.1.0,>=3.0.0->scispacy) (1.0.5)\n",
            "Requirement already satisfied: setuptools in /opt/conda/lib/python3.7/site-packages (from spacy<3.1.0,>=3.0.0->scispacy) (49.6.0.post20210108)\n",
            "Requirement already satisfied: zipp>=0.5 in /opt/conda/lib/python3.7/site-packages (from importlib-metadata>=0.20->spacy<3.1.0,>=3.0.0->scispacy) (3.4.0)\n",
            "Requirement already satisfied: pyparsing>=2.0.2 in /opt/conda/lib/python3.7/site-packages (from packaging>=20.0->spacy<3.1.0,>=3.0.0->scispacy) (2.4.7)\n",
            "Requirement already satisfied: smart-open<4.0.0,>=2.2.0 in /opt/conda/lib/python3.7/site-packages (from pathy>=0.3.5->spacy<3.1.0,>=3.0.0->scispacy) (3.0.0)\n",
            "Requirement already satisfied: click<7.2.0,>=7.1.1 in /opt/conda/lib/python3.7/site-packages (from typer<0.4.0,>=0.3.0->spacy<3.1.0,>=3.0.0->scispacy) (7.1.2)\n",
            "Requirement already satisfied: MarkupSafe>=0.23 in /opt/conda/lib/python3.7/site-packages (from jinja2->spacy<3.1.0,>=3.0.0->scispacy) (1.1.1)\n",
            "Installing collected packages: pybind11, pysbd, nmslib, conllu, scispacy\n",
            "  Attempting uninstall: pybind11\n",
            "    Found existing installation: pybind11 2.6.2\n",
            "    Uninstalling pybind11-2.6.2:\n",
            "      Successfully uninstalled pybind11-2.6.2\n",
            "Successfully installed conllu-4.4 nmslib-2.1.1 pybind11-2.6.2 pysbd-0.3.4 scispacy-0.4.0\n"
          ],
          "name": "stdout"
        }
      ]
    },
    {
      "cell_type": "code",
      "metadata": {
        "_uuid": "596fe116-38f7-4324-bb7e-beececbf34fd",
        "_cell_guid": "60774b75-8654-45e9-a2db-175275e618b0",
        "jupyter": {
          "outputs_hidden": false
        },
        "trusted": true,
        "id": "k6GuzGxHrKF2",
        "outputId": "2ac06ceb-253a-4487-dfd1-3d8a8f953620"
      },
      "source": [
        "import scispacy\n",
        "import en_ner_bionlp13cg_md\n",
        "import en_ner_bc5cdr_md\n",
        "import spacy\n",
        "from spacy import displacy\n",
        "from scispacy.abbreviation import AbbreviationDetector\n",
        "from scispacy.umls_linking import UmlsEntityLinker\n",
        "nlp = spacy.load(\"en_ner_bc5cdr_md\")"
      ],
      "execution_count": null,
      "outputs": [
        {
          "output_type": "stream",
          "text": [
            "/opt/conda/lib/python3.7/site-packages/spacy/util.py:715: UserWarning: [W094] Model 'en_ner_bionlp13cg_md' (0.2.4) specifies an under-constrained spaCy version requirement: >=2.2.1. This can lead to compatibility problems with older versions, or as new spaCy versions are released, because the model may say it's compatible when it's not. Consider changing the \"spacy_version\" in your meta.json to a version range, with a lower and upper pin. For example: >=3.0.5,<3.1.0\n",
            "  warnings.warn(warn_msg)\n"
          ],
          "name": "stderr"
        }
      ]
    },
    {
      "cell_type": "code",
      "metadata": {
        "_uuid": "ba82383e-8c76-4d75-b5ff-928c28a73c80",
        "_cell_guid": "955a4b66-39f9-4531-bc83-d5c09b1a455e",
        "jupyter": {
          "outputs_hidden": false
        },
        "trusted": true,
        "id": "Qi434qz5rKF3"
      },
      "source": [
        "!pip install spacy==2.2"
      ],
      "execution_count": null,
      "outputs": []
    },
    {
      "cell_type": "code",
      "metadata": {
        "_uuid": "50016479-e712-413f-b255-03780f4c0260",
        "_cell_guid": "6784c543-6f67-40d4-9dd4-cab97dfa4d5a",
        "jupyter": {
          "outputs_hidden": false
        },
        "trusted": true,
        "id": "JMq3dZForKF3"
      },
      "source": [
        "datafiles = [\n",
        "    '../input/CORD-19-research-challenge/document_parses/pdf_json/0000028b5cc154f68b8a269f6578f21e31f62977.json',\n",
        "    '../input/CORD-19-research-challenge/document_parses/pdf_json/00006903b396d50cc0037fed39916d57d50ee801.json',\n",
        "    '../input/CORD-19-research-challenge/document_parses/pdf_json/0000fcce604204b1b9d876dc073eb529eb5ce305.json',\n",
        "    '../input/CORD-19-research-challenge/document_parses/pdf_json/000122a9a774ec76fa35ec0c0f6734e7e8d0c541.json',\n",
        "    '../input/CORD-19-research-challenge/document_parses/pdf_json/0001418189999fea7f7cbe3e82703d71c85a6fe5.json',\n",
        "    '../input/CORD-19-research-challenge/document_parses/pdf_json/00035ac98d8bc38fbca02a1cc957f55141af67c0.json',\n",
        "    '../input/CORD-19-research-challenge/document_parses/pdf_json/00039b94e6cb7609ecbddee1755314bcfeb77faa.json',\n",
        "    '../input/CORD-19-research-challenge/document_parses/pdf_json/000379d7a7f37a2ccb978862b9f2016bd03259ea.json',\n",
        "    '../input/CORD-19-research-challenge/document_parses/pmc_json/PMC1065028.xml.json',\n",
        "    '../input/CORD-19-research-challenge/document_parses/pmc_json/PMC1065257.xml.json',\n",
        "    '../input/CORD-19-research-challenge/document_parses/pmc_json/PMC1072806.xml.json',\n",
        "    '../input/CORD-19-research-challenge/document_parses/pmc_json/PMC1065120.xml.json',\n",
        "    '../input/CORD-19-research-challenge/document_parses/pmc_json/PMC1084330.xml.json',\n",
        "    '../input/CORD-19-research-challenge/document_parses/pmc_json/PMC1087510.xml.json'\n",
        "]"
      ],
      "execution_count": null,
      "outputs": []
    },
    {
      "cell_type": "code",
      "metadata": {
        "_uuid": "e9398b64-44a4-47fb-a306-e49683926d41",
        "_cell_guid": "369006b1-54a1-4fcf-9b6e-d0999e060563",
        "jupyter": {
          "outputs_hidden": false
        },
        "trusted": true,
        "id": "wrSnfi9ArKF4"
      },
      "source": [
        "import json\n",
        "with open(datafiles[0], 'r')as f1:\n",
        "    sample = json.load(f1)\n",
        "    "
      ],
      "execution_count": null,
      "outputs": []
    },
    {
      "cell_type": "code",
      "metadata": {
        "_uuid": "d60c0bac-d140-4868-8b1b-19fc509f8c68",
        "_cell_guid": "da8d4061-38e5-47e0-a3ff-346abf8f21e3",
        "jupyter": {
          "outputs_hidden": false
        },
        "trusted": true,
        "id": "t0q63q-2rKF4"
      },
      "source": [
        ""
      ],
      "execution_count": null,
      "outputs": []
    },
    {
      "cell_type": "code",
      "metadata": {
        "_uuid": "65210756-aac0-4171-8098-243f67be5120",
        "_cell_guid": "4b52e8db-17b9-4cd6-b109-7c204dad0491",
        "jupyter": {
          "outputs_hidden": false
        },
        "trusted": true,
        "id": "1jMjkKOkrKF4",
        "outputId": "8c909e12-6bc6-437d-f45a-63da1e11e076"
      },
      "source": [
        "for key,value in sample.items():\n",
        "    print(key)"
      ],
      "execution_count": null,
      "outputs": [
        {
          "output_type": "stream",
          "text": [
            "paper_id\n",
            "metadata\n",
            "abstract\n",
            "body_text\n",
            "bib_entries\n",
            "ref_entries\n",
            "back_matter\n"
          ],
          "name": "stdout"
        }
      ]
    },
    {
      "cell_type": "markdown",
      "metadata": {
        "id": "qVIewcgDv9eG"
      },
      "source": [
        "##GETTING DATA FROM CORD 19 DATASET AND EXTRACTING INFORMATION FROM THAT AND THEN NER"
      ]
    },
    {
      "cell_type": "code",
      "metadata": {
        "_uuid": "4ef2b23f-d293-402d-a6ff-1f54565d6d29",
        "_cell_guid": "bde0a2cf-4278-4d23-b39b-3cb500476e69",
        "jupyter": {
          "outputs_hidden": false
        },
        "trusted": true,
        "id": "cCjk6UibrKF5"
      },
      "source": [
        "id2title = []\n",
        "for file in datafiles:\n",
        "    with open(file,'r')as f:\n",
        "        doc = json.load(f)\n",
        "    id = doc['paper_id'] \n",
        "    title = doc['metadata']['title']\n",
        "    id2title.append({id:title})"
      ],
      "execution_count": null,
      "outputs": []
    },
    {
      "cell_type": "code",
      "metadata": {
        "_uuid": "af712d25-c8d5-451e-8120-fd4fb10d9e54",
        "_cell_guid": "949b7f7a-1e4e-4116-a90e-0cb30ff3693f",
        "jupyter": {
          "outputs_hidden": false
        },
        "trusted": true,
        "id": "kLZPVfq_rKF5"
      },
      "source": [
        "id2abstract = []\n",
        "for file in datafiles:\n",
        "    with open(file,'r')as f:\n",
        "        doc = json.load(f)\n",
        "    id = doc['paper_id'] \n",
        "    abstract = ''\n",
        "    for item in doc['abstract']:\n",
        "        abstract = abstract + item['text']\n",
        "        \n",
        "    id2abstract.append({id:abstract})"
      ],
      "execution_count": null,
      "outputs": []
    },
    {
      "cell_type": "code",
      "metadata": {
        "_uuid": "4db4fb0c-8f39-4b01-a15c-f81d186cfe6b",
        "_cell_guid": "38305cb8-0719-4b2d-b41d-ef668ab2de6c",
        "jupyter": {
          "outputs_hidden": false
        },
        "trusted": true,
        "id": "WCnDFlgzrKF6"
      },
      "source": [
        "id2bodytext = []\n",
        "for file in datafiles:\n",
        "    with open(file,'r')as f:\n",
        "        doc = json.load(f)\n",
        "    id = doc['paper_id'] \n",
        "    bodytext = ''\n",
        "    for item in doc['body_text']:\n",
        "        bodytext = bodytext + item['text']\n",
        "        \n",
        "    id2bodytext.append({id:bodytext})"
      ],
      "execution_count": null,
      "outputs": []
    },
    {
      "cell_type": "code",
      "metadata": {
        "_uuid": "0940c5d1-2f75-4392-9ee6-c97fefb43005",
        "_cell_guid": "2d0344ea-eb62-42c6-b1e6-02c9ef76d49b",
        "jupyter": {
          "outputs_hidden": false
        },
        "trusted": true,
        "id": "C-P07sPprKF6"
      },
      "source": [
        "text = id2abstract[0].get(list(id2abstract[0].keys())[0])\n"
      ],
      "execution_count": null,
      "outputs": []
    },
    {
      "cell_type": "code",
      "metadata": {
        "_uuid": "20a1007f-7370-4f37-8ce8-71ff74f043bf",
        "_cell_guid": "15e8cfde-1577-4076-8da4-091da25dba0a",
        "jupyter": {
          "outputs_hidden": false
        },
        "trusted": true,
        "id": "dYzJVTvOrKF7",
        "outputId": "3e74a774-4d93-4a60-8443-b368e85386bb"
      },
      "source": [
        "doc = nlp(text)\n",
        "d_i=displacy.render(doc,jupyter=True,style='ent')"
      ],
      "execution_count": null,
      "outputs": [
        {
          "output_type": "stream",
          "text": [
            "/opt/conda/lib/python3.7/site-packages/spacy/displacy/__init__.py:189: UserWarning: [W006] No entities to visualize found in Doc object. If this is surprising to you, make sure the Doc was processed using a model that supports named entity recognition, and check the `doc.ents` property manually if necessary.\n",
            "  warnings.warn(Warnings.W006)\n"
          ],
          "name": "stderr"
        },
        {
          "output_type": "display_data",
          "data": {
            "text/plain": [
              "<IPython.core.display.HTML object>"
            ],
            "text/html": [
              "<span class=\"tex2jax_ignore\"><div class=\"entities\" style=\"line-height: 2.5; direction: ltr\"></div></span>"
            ]
          },
          "metadata": {
            "tags": []
          }
        }
      ]
    },
    {
      "cell_type": "code",
      "metadata": {
        "_uuid": "360e70bb-b102-4dc9-baa6-504fe78088a1",
        "_cell_guid": "16e11749-51a3-4892-96cd-f3ce92cbe688",
        "jupyter": {
          "outputs_hidden": false
        },
        "trusted": true,
        "id": "yIQP3vWXrKF7"
      },
      "source": [
        "displacy.render(next(doc.sents), style='dep', jupyter=True)"
      ],
      "execution_count": null,
      "outputs": []
    },
    {
      "cell_type": "code",
      "metadata": {
        "_uuid": "54a8d783-4251-4302-afb9-3ad820994829",
        "_cell_guid": "54b9532f-eb62-49df-9950-52e9f5e51c53",
        "jupyter": {
          "outputs_hidden": false
        },
        "trusted": true,
        "id": "t2MaFHBrrKF8"
      },
      "source": [
        "for x in doc.ents:\n",
        "    print(x.text,x.label_)"
      ],
      "execution_count": null,
      "outputs": []
    },
    {
      "cell_type": "code",
      "metadata": {
        "_uuid": "a522e377-8f83-42ea-9263-19bdb615c309",
        "_cell_guid": "e16b3a05-7f74-4933-80ef-3a67683968a9",
        "jupyter": {
          "outputs_hidden": false
        },
        "trusted": true,
        "id": "jmh0lxCyrKF8",
        "outputId": "8f1f610f-5769-4b40-c5d0-6ccd8e719c52"
      },
      "source": [
        "text1 = id2bodytext[0].get(list(id2bodytext[0].keys())[0])\n",
        "doc1 = nlp(text1)\n",
        "d_i=displacy.render(doc1,jupyter=True,style='ent')\n",
        "for x in doc1.ents:\n",
        "    print(x.text,x.label_)"
      ],
      "execution_count": null,
      "outputs": [
        {
          "output_type": "display_data",
          "data": {
            "text/plain": [
              "<IPython.core.display.HTML object>"
            ],
            "text/html": [
              "<span class=\"tex2jax_ignore\"><div class=\"entities\" style=\"line-height: 2.5; direction: ltr\">According to current live statistics at the time of editing this letter, Russia has been the third country in the world to be affected by \n",
              "<mark class=\"entity\" style=\"background: #ddd; padding: 0.45em 0.6em; margin: 0 0.25em; line-height: 1; border-radius: 0.35em;\">\n",
              "    COVID-19\n",
              "    <span style=\"font-size: 0.8em; font-weight: bold; line-height: 1; border-radius: 0.35em; vertical-align: middle; margin-left: 0.5rem\">CHEMICAL</span>\n",
              "</mark>\n",
              " with both new cases and \n",
              "<mark class=\"entity\" style=\"background: #ddd; padding: 0.45em 0.6em; margin: 0 0.25em; line-height: 1; border-radius: 0.35em;\">\n",
              "    death\n",
              "    <span style=\"font-size: 0.8em; font-weight: bold; line-height: 1; border-radius: 0.35em; vertical-align: middle; margin-left: 0.5rem\">DISEASE</span>\n",
              "</mark>\n",
              " rates rising. It remains in a position of advantage due to the later onset of the viral spread within the country since the worldwide disease outbreak.The first step in &quot;fighting&quot; the epidemic was nationwide lock down on March 30 th , 2020.Most of the multidisciplinary hospitals have been repurposed as dedicated \n",
              "<mark class=\"entity\" style=\"background: #ddd; padding: 0.45em 0.6em; margin: 0 0.25em; line-height: 1; border-radius: 0.35em;\">\n",
              "    COVID-19\n",
              "    <span style=\"font-size: 0.8em; font-weight: bold; line-height: 1; border-radius: 0.35em; vertical-align: middle; margin-left: 0.5rem\">CHEMICAL</span>\n",
              "</mark>\n",
              " centres, so the surgeons started working as \n",
              "<mark class=\"entity\" style=\"background: #ddd; padding: 0.45em 0.6em; margin: 0 0.25em; line-height: 1; border-radius: 0.35em;\">\n",
              "    infectious disease\n",
              "    <span style=\"font-size: 0.8em; font-weight: bold; line-height: 1; border-radius: 0.35em; vertical-align: middle; margin-left: 0.5rem\">DISEASE</span>\n",
              "</mark>\n",
              " specialists. Such a reallocation of health care capacity results in the effective management of this epidemiological problem 1 . The staff has undergone on-line 36-hour training course to become qualified in \n",
              "<mark class=\"entity\" style=\"background: #ddd; padding: 0.45em 0.6em; margin: 0 0.25em; line-height: 1; border-radius: 0.35em;\">\n",
              "    coronavirus infection\n",
              "    <span style=\"font-size: 0.8em; font-weight: bold; line-height: 1; border-radius: 0.35em; vertical-align: middle; margin-left: 0.5rem\">DISEASE</span>\n",
              "</mark>\n",
              " treatment.The surgeons of \n",
              "<mark class=\"entity\" style=\"background: #ddd; padding: 0.45em 0.6em; margin: 0 0.25em; line-height: 1; border-radius: 0.35em;\">\n",
              "    COVID-19\n",
              "    <span style=\"font-size: 0.8em; font-weight: bold; line-height: 1; border-radius: 0.35em; vertical-align: middle; margin-left: 0.5rem\">CHEMICAL</span>\n",
              "</mark>\n",
              " dedicated hospitals do rarely practice surgery. When ICU patients need mechanical ventilation, percutaneous tracheostomy under endoscopic control is mostly performed, as it decreases the aerosol formation, viral load on staff and complications, associated with an endotracheal tube in comparison with surgical tracheostomy 2 . However, it is still associated with the risk of aerosol formation, so different approaches should be considered for a long-time perspective 3 .The majority of the studies dedicated to \n",
              "<mark class=\"entity\" style=\"background: #ddd; padding: 0.45em 0.6em; margin: 0 0.25em; line-height: 1; border-radius: 0.35em;\">\n",
              "    colorectal diseases\n",
              "    <span style=\"font-size: 0.8em; font-weight: bold; line-height: 1; border-radius: 0.35em; vertical-align: middle; margin-left: 0.5rem\">DISEASE</span>\n",
              "</mark>\n",
              " are temporarily paused. The teaching and training are mostly translated via online platforms, which has excluded the opportunity to get clinical experience in surgery 4 .The approach to patient routing has changed significantly. If one is not diagnosed with \n",
              "<mark class=\"entity\" style=\"background: #ddd; padding: 0.45em 0.6em; margin: 0 0.25em; line-height: 1; border-radius: 0.35em;\">\n",
              "    COVID-19\n",
              "    <span style=\"font-size: 0.8em; font-weight: bold; line-height: 1; border-radius: 0.35em; vertical-align: middle; margin-left: 0.5rem\">CHEMICAL</span>\n",
              "</mark>\n",
              " CT scan and laboratory testing are provided immediately. The patients should be admitted to the surgical department, where treatment is provided only to those \n",
              "<mark class=\"entity\" style=\"background: #ddd; padding: 0.45em 0.6em; margin: 0 0.25em; line-height: 1; border-radius: 0.35em;\">\n",
              "    COVID-19\n",
              "    <span style=\"font-size: 0.8em; font-weight: bold; line-height: 1; border-radius: 0.35em; vertical-align: middle; margin-left: 0.5rem\">CHEMICAL</span>\n",
              "</mark>\n",
              " negative.The patient isolated for more than 2 weeks and \n",
              "<mark class=\"entity\" style=\"background: #ddd; padding: 0.45em 0.6em; margin: 0 0.25em; line-height: 1; border-radius: 0.35em;\">\n",
              "    COVID-19\n",
              "    <span style=\"font-size: 0.8em; font-weight: bold; line-height: 1; border-radius: 0.35em; vertical-align: middle; margin-left: 0.5rem\">CHEMICAL</span>\n",
              "</mark>\n",
              " negative as a result of 2 subsequent tests is admitted to the surgical department with an option to readmission to the infectious department and can be treated by surgical staff, which does not work with \n",
              "<mark class=\"entity\" style=\"background: #ddd; padding: 0.45em 0.6em; margin: 0 0.25em; line-height: 1; border-radius: 0.35em;\">\n",
              "    COVID-19\n",
              "    <span style=\"font-size: 0.8em; font-weight: bold; line-height: 1; border-radius: 0.35em; vertical-align: middle; margin-left: 0.5rem\">CHEMICAL</span>\n",
              "</mark>\n",
              " positive patients.The patient, diagnosed with \n",
              "<mark class=\"entity\" style=\"background: #ddd; padding: 0.45em 0.6em; margin: 0 0.25em; line-height: 1; border-radius: 0.35em;\">\n",
              "    coronavirus infection\n",
              "    <span style=\"font-size: 0.8em; font-weight: bold; line-height: 1; border-radius: 0.35em; vertical-align: middle; margin-left: 0.5rem\">DISEASE</span>\n",
              "</mark>\n",
              " and treated at home is admitted to \n",
              "<mark class=\"entity\" style=\"background: #ddd; padding: 0.45em 0.6em; margin: 0 0.25em; line-height: 1; border-radius: 0.35em;\">\n",
              "    COVID-19\n",
              "    <span style=\"font-size: 0.8em; font-weight: bold; line-height: 1; border-radius: 0.35em; vertical-align: middle; margin-left: 0.5rem\">CHEMICAL</span>\n",
              "</mark>\n",
              " dedicated multidisciplinary hospital, where surgical care is provided. Those treated in \n",
              "<mark class=\"entity\" style=\"background: #ddd; padding: 0.45em 0.6em; margin: 0 0.25em; line-height: 1; border-radius: 0.35em;\">\n",
              "    infectious diseases\n",
              "    <span style=\"font-size: 0.8em; font-weight: bold; line-height: 1; border-radius: 0.35em; vertical-align: middle; margin-left: 0.5rem\">DISEASE</span>\n",
              "</mark>\n",
              " hospital or \n",
              "<mark class=\"entity\" style=\"background: #ddd; padding: 0.45em 0.6em; margin: 0 0.25em; line-height: 1; border-radius: 0.35em;\">\n",
              "    COVID-19\n",
              "    <span style=\"font-size: 0.8em; font-weight: bold; line-height: 1; border-radius: 0.35em; vertical-align: middle; margin-left: 0.5rem\">CHEMICAL</span>\n",
              "</mark>\n",
              " dedicated centre are managed by the surgical team present.Surgery has become highly elective, being mostly available for high-risk patients with emergencies, \n",
              "<mark class=\"entity\" style=\"background: #ddd; padding: 0.45em 0.6em; margin: 0 0.25em; line-height: 1; border-radius: 0.35em;\">\n",
              "    malignancies\n",
              "    <span style=\"font-size: 0.8em; font-weight: bold; line-height: 1; border-radius: 0.35em; vertical-align: middle; margin-left: 0.5rem\">DISEASE</span>\n",
              "</mark>\n",
              ", \n",
              "<mark class=\"entity\" style=\"background: #ddd; padding: 0.45em 0.6em; margin: 0 0.25em; line-height: 1; border-radius: 0.35em;\">\n",
              "    cardiovascular pathologies\n",
              "    <span style=\"font-size: 0.8em; font-weight: bold; line-height: 1; border-radius: 0.35em; vertical-align: middle; margin-left: 0.5rem\">DISEASE</span>\n",
              "</mark>\n",
              " or \n",
              "<mark class=\"entity\" style=\"background: #ddd; padding: 0.45em 0.6em; margin: 0 0.25em; line-height: 1; border-radius: 0.35em;\">\n",
              "    infections\n",
              "    <span style=\"font-size: 0.8em; font-weight: bold; line-height: 1; border-radius: 0.35em; vertical-align: middle; margin-left: 0.5rem\">DISEASE</span>\n",
              "</mark>\n",
              ". Preoperative testing in surgical patients with respiratory symptoms and history of travelling or contacting with \n",
              "<mark class=\"entity\" style=\"background: #ddd; padding: 0.45em 0.6em; margin: 0 0.25em; line-height: 1; border-radius: 0.35em;\">\n",
              "    COVID-19\n",
              "    <span style=\"font-size: 0.8em; font-weight: bold; line-height: 1; border-radius: 0.35em; vertical-align: middle; margin-left: 0.5rem\">CHEMICAL</span>\n",
              "</mark>\n",
              " positive people and postoperative recovery in the operating unit seem to be highly effective measures 5 . A lot of rearrangements are performed locally regarding personal protective equipment, the organization of scrubbing, donning and doffing, and dedicated changing areas. Moreover, observational departments are organized in surgical hospitals for patient allocation before \n",
              "<mark class=\"entity\" style=\"background: #ddd; padding: 0.45em 0.6em; margin: 0 0.25em; line-height: 1; border-radius: 0.35em;\">\n",
              "    coronavirus infection\n",
              "    <span style=\"font-size: 0.8em; font-weight: bold; line-height: 1; border-radius: 0.35em; vertical-align: middle; margin-left: 0.5rem\">DISEASE</span>\n",
              "</mark>\n",
              " status is defined 6 .Surgery for \n",
              "<mark class=\"entity\" style=\"background: #ddd; padding: 0.45em 0.6em; margin: 0 0.25em; line-height: 1; border-radius: 0.35em;\">\n",
              "    benign disorders\n",
              "    <span style=\"font-size: 0.8em; font-weight: bold; line-height: 1; border-radius: 0.35em; vertical-align: middle; margin-left: 0.5rem\">DISEASE</span>\n",
              "</mark>\n",
              ", \n",
              "<mark class=\"entity\" style=\"background: #ddd; padding: 0.45em 0.6em; margin: 0 0.25em; line-height: 1; border-radius: 0.35em;\">\n",
              "    precancerous lesions\n",
              "    <span style=\"font-size: 0.8em; font-weight: bold; line-height: 1; border-radius: 0.35em; vertical-align: middle; margin-left: 0.5rem\">DISEASE</span>\n",
              "</mark>\n",
              ", and reconstructive procedures are currently postponed. Regarding \n",
              "<mark class=\"entity\" style=\"background: #ddd; padding: 0.45em 0.6em; margin: 0 0.25em; line-height: 1; border-radius: 0.35em;\">\n",
              "    colorectal cancer\n",
              "    <span style=\"font-size: 0.8em; font-weight: bold; line-height: 1; border-radius: 0.35em; vertical-align: middle; margin-left: 0.5rem\">DISEASE</span>\n",
              "</mark>\n",
              ", surgical treatment may be postponed, if it is a non-obstructing disease 7 .Laparoscopic surgery and diathermy are limited as well. The importance of special operating theatre for \n",
              "<mark class=\"entity\" style=\"background: #ddd; padding: 0.45em 0.6em; margin: 0 0.25em; line-height: 1; border-radius: 0.35em;\">\n",
              "    COVID-19\n",
              "    <span style=\"font-size: 0.8em; font-weight: bold; line-height: 1; border-radius: 0.35em; vertical-align: middle; margin-left: 0.5rem\">CHEMICAL</span>\n",
              "</mark>\n",
              " patients with negative pressure ventilation, unidirectional laminar flow, as well as the use of \n",
              "<mark class=\"entity\" style=\"background: #ddd; padding: 0.45em 0.6em; margin: 0 0.25em; line-height: 1; border-radius: 0.35em;\">\n",
              "    smoke\n",
              "    <span style=\"font-size: 0.8em; font-weight: bold; line-height: 1; border-radius: 0.35em; vertical-align: middle; margin-left: 0.5rem\">CHEMICAL</span>\n",
              "</mark>\n",
              " evacuation systems during surgery are taken into account 8 .Such an electiveness of surgery is concerning, as it might cause a worldwide healthcare catastrophe in the post-pandemic era 5 . More efforts should be taken to expand the amount and types of surgical procedures performed.Due to the early preventive and corrective actions we have already reached the plateau in new cases curve, counting for up to 8 984 cases identified at the time of writing this paper (June 7 th , 2020), with a mortality rate of 1⋅5075%. These statistical outcomes are resulted by a 68-day lockdown, admission regime, and healthcare rearrangement. Thus, the multistep restriction lifting has already started to consistently recover in both social and economic aspects. </div></span>"
            ]
          },
          "metadata": {
            "tags": []
          }
        },
        {
          "output_type": "stream",
          "text": [
            "COVID-19 CHEMICAL\n",
            "death DISEASE\n",
            "COVID-19 CHEMICAL\n",
            "infectious disease DISEASE\n",
            "coronavirus infection DISEASE\n",
            "COVID-19 CHEMICAL\n",
            "colorectal diseases DISEASE\n",
            "COVID-19 CHEMICAL\n",
            "COVID-19 CHEMICAL\n",
            "COVID-19 CHEMICAL\n",
            "COVID-19 CHEMICAL\n",
            "coronavirus infection DISEASE\n",
            "COVID-19 CHEMICAL\n",
            "infectious diseases DISEASE\n",
            "COVID-19 CHEMICAL\n",
            "malignancies DISEASE\n",
            "cardiovascular pathologies DISEASE\n",
            "infections DISEASE\n",
            "COVID-19 CHEMICAL\n",
            "coronavirus infection DISEASE\n",
            "benign disorders DISEASE\n",
            "precancerous lesions DISEASE\n",
            "colorectal cancer DISEASE\n",
            "COVID-19 CHEMICAL\n",
            "smoke CHEMICAL\n"
          ],
          "name": "stdout"
        }
      ]
    },
    {
      "cell_type": "code",
      "metadata": {
        "_uuid": "ad2a1db6-6cbb-406b-8c0c-7ab3bf4243bc",
        "_cell_guid": "98d16a0a-0eab-461f-ae40-eede2b1833f6",
        "jupyter": {
          "outputs_hidden": false
        },
        "trusted": true,
        "id": "81gybhvSrKF8",
        "outputId": "c95f52a4-5431-4330-dd72-9c74d2d40967"
      },
      "source": [
        "text1 = id2bodytext[0].get(list(id2bodytext[0].keys())[0])\n",
        "doc1 = nlp(text1)\n",
        "d_i=displacy.render(doc1,jupyter=True,style='ent')\n",
        "for x in doc1.ents:\n",
        "    print(x.text,x.label_)"
      ],
      "execution_count": null,
      "outputs": [
        {
          "output_type": "display_data",
          "data": {
            "text/plain": [
              "<IPython.core.display.HTML object>"
            ],
            "text/html": [
              "<span class=\"tex2jax_ignore\"><div class=\"entities\" style=\"line-height: 2.5; direction: ltr\">According to current live statistics at the time of editing this letter, Russia has been the third country in the world to be affected by \n",
              "<mark class=\"entity\" style=\"background: #ddd; padding: 0.45em 0.6em; margin: 0 0.25em; line-height: 1; border-radius: 0.35em;\">\n",
              "    COVID-19\n",
              "    <span style=\"font-size: 0.8em; font-weight: bold; line-height: 1; border-radius: 0.35em; vertical-align: middle; margin-left: 0.5rem\">CHEMICAL</span>\n",
              "</mark>\n",
              " with both new cases and \n",
              "<mark class=\"entity\" style=\"background: #ddd; padding: 0.45em 0.6em; margin: 0 0.25em; line-height: 1; border-radius: 0.35em;\">\n",
              "    death\n",
              "    <span style=\"font-size: 0.8em; font-weight: bold; line-height: 1; border-radius: 0.35em; vertical-align: middle; margin-left: 0.5rem\">DISEASE</span>\n",
              "</mark>\n",
              " rates rising. It remains in a position of advantage due to the later onset of the viral spread within the country since the worldwide disease outbreak.The first step in &quot;fighting&quot; the epidemic was nationwide lock down on March 30 th , 2020.Most of the multidisciplinary hospitals have been repurposed as dedicated \n",
              "<mark class=\"entity\" style=\"background: #ddd; padding: 0.45em 0.6em; margin: 0 0.25em; line-height: 1; border-radius: 0.35em;\">\n",
              "    COVID-19\n",
              "    <span style=\"font-size: 0.8em; font-weight: bold; line-height: 1; border-radius: 0.35em; vertical-align: middle; margin-left: 0.5rem\">CHEMICAL</span>\n",
              "</mark>\n",
              " centres, so the surgeons started working as \n",
              "<mark class=\"entity\" style=\"background: #ddd; padding: 0.45em 0.6em; margin: 0 0.25em; line-height: 1; border-radius: 0.35em;\">\n",
              "    infectious disease\n",
              "    <span style=\"font-size: 0.8em; font-weight: bold; line-height: 1; border-radius: 0.35em; vertical-align: middle; margin-left: 0.5rem\">DISEASE</span>\n",
              "</mark>\n",
              " specialists. Such a reallocation of health care capacity results in the effective management of this epidemiological problem 1 . The staff has undergone on-line 36-hour training course to become qualified in \n",
              "<mark class=\"entity\" style=\"background: #ddd; padding: 0.45em 0.6em; margin: 0 0.25em; line-height: 1; border-radius: 0.35em;\">\n",
              "    coronavirus infection\n",
              "    <span style=\"font-size: 0.8em; font-weight: bold; line-height: 1; border-radius: 0.35em; vertical-align: middle; margin-left: 0.5rem\">DISEASE</span>\n",
              "</mark>\n",
              " treatment.The surgeons of \n",
              "<mark class=\"entity\" style=\"background: #ddd; padding: 0.45em 0.6em; margin: 0 0.25em; line-height: 1; border-radius: 0.35em;\">\n",
              "    COVID-19\n",
              "    <span style=\"font-size: 0.8em; font-weight: bold; line-height: 1; border-radius: 0.35em; vertical-align: middle; margin-left: 0.5rem\">CHEMICAL</span>\n",
              "</mark>\n",
              " dedicated hospitals do rarely practice surgery. When ICU patients need mechanical ventilation, percutaneous tracheostomy under endoscopic control is mostly performed, as it decreases the aerosol formation, viral load on staff and complications, associated with an endotracheal tube in comparison with surgical tracheostomy 2 . However, it is still associated with the risk of aerosol formation, so different approaches should be considered for a long-time perspective 3 .The majority of the studies dedicated to \n",
              "<mark class=\"entity\" style=\"background: #ddd; padding: 0.45em 0.6em; margin: 0 0.25em; line-height: 1; border-radius: 0.35em;\">\n",
              "    colorectal diseases\n",
              "    <span style=\"font-size: 0.8em; font-weight: bold; line-height: 1; border-radius: 0.35em; vertical-align: middle; margin-left: 0.5rem\">DISEASE</span>\n",
              "</mark>\n",
              " are temporarily paused. The teaching and training are mostly translated via online platforms, which has excluded the opportunity to get clinical experience in surgery 4 .The approach to patient routing has changed significantly. If one is not diagnosed with \n",
              "<mark class=\"entity\" style=\"background: #ddd; padding: 0.45em 0.6em; margin: 0 0.25em; line-height: 1; border-radius: 0.35em;\">\n",
              "    COVID-19\n",
              "    <span style=\"font-size: 0.8em; font-weight: bold; line-height: 1; border-radius: 0.35em; vertical-align: middle; margin-left: 0.5rem\">CHEMICAL</span>\n",
              "</mark>\n",
              " CT scan and laboratory testing are provided immediately. The patients should be admitted to the surgical department, where treatment is provided only to those \n",
              "<mark class=\"entity\" style=\"background: #ddd; padding: 0.45em 0.6em; margin: 0 0.25em; line-height: 1; border-radius: 0.35em;\">\n",
              "    COVID-19\n",
              "    <span style=\"font-size: 0.8em; font-weight: bold; line-height: 1; border-radius: 0.35em; vertical-align: middle; margin-left: 0.5rem\">CHEMICAL</span>\n",
              "</mark>\n",
              " negative.The patient isolated for more than 2 weeks and \n",
              "<mark class=\"entity\" style=\"background: #ddd; padding: 0.45em 0.6em; margin: 0 0.25em; line-height: 1; border-radius: 0.35em;\">\n",
              "    COVID-19\n",
              "    <span style=\"font-size: 0.8em; font-weight: bold; line-height: 1; border-radius: 0.35em; vertical-align: middle; margin-left: 0.5rem\">CHEMICAL</span>\n",
              "</mark>\n",
              " negative as a result of 2 subsequent tests is admitted to the surgical department with an option to readmission to the infectious department and can be treated by surgical staff, which does not work with \n",
              "<mark class=\"entity\" style=\"background: #ddd; padding: 0.45em 0.6em; margin: 0 0.25em; line-height: 1; border-radius: 0.35em;\">\n",
              "    COVID-19\n",
              "    <span style=\"font-size: 0.8em; font-weight: bold; line-height: 1; border-radius: 0.35em; vertical-align: middle; margin-left: 0.5rem\">CHEMICAL</span>\n",
              "</mark>\n",
              " positive patients.The patient, diagnosed with \n",
              "<mark class=\"entity\" style=\"background: #ddd; padding: 0.45em 0.6em; margin: 0 0.25em; line-height: 1; border-radius: 0.35em;\">\n",
              "    coronavirus infection\n",
              "    <span style=\"font-size: 0.8em; font-weight: bold; line-height: 1; border-radius: 0.35em; vertical-align: middle; margin-left: 0.5rem\">DISEASE</span>\n",
              "</mark>\n",
              " and treated at home is admitted to \n",
              "<mark class=\"entity\" style=\"background: #ddd; padding: 0.45em 0.6em; margin: 0 0.25em; line-height: 1; border-radius: 0.35em;\">\n",
              "    COVID-19\n",
              "    <span style=\"font-size: 0.8em; font-weight: bold; line-height: 1; border-radius: 0.35em; vertical-align: middle; margin-left: 0.5rem\">CHEMICAL</span>\n",
              "</mark>\n",
              " dedicated multidisciplinary hospital, where surgical care is provided. Those treated in \n",
              "<mark class=\"entity\" style=\"background: #ddd; padding: 0.45em 0.6em; margin: 0 0.25em; line-height: 1; border-radius: 0.35em;\">\n",
              "    infectious diseases\n",
              "    <span style=\"font-size: 0.8em; font-weight: bold; line-height: 1; border-radius: 0.35em; vertical-align: middle; margin-left: 0.5rem\">DISEASE</span>\n",
              "</mark>\n",
              " hospital or \n",
              "<mark class=\"entity\" style=\"background: #ddd; padding: 0.45em 0.6em; margin: 0 0.25em; line-height: 1; border-radius: 0.35em;\">\n",
              "    COVID-19\n",
              "    <span style=\"font-size: 0.8em; font-weight: bold; line-height: 1; border-radius: 0.35em; vertical-align: middle; margin-left: 0.5rem\">CHEMICAL</span>\n",
              "</mark>\n",
              " dedicated centre are managed by the surgical team present.Surgery has become highly elective, being mostly available for high-risk patients with emergencies, \n",
              "<mark class=\"entity\" style=\"background: #ddd; padding: 0.45em 0.6em; margin: 0 0.25em; line-height: 1; border-radius: 0.35em;\">\n",
              "    malignancies\n",
              "    <span style=\"font-size: 0.8em; font-weight: bold; line-height: 1; border-radius: 0.35em; vertical-align: middle; margin-left: 0.5rem\">DISEASE</span>\n",
              "</mark>\n",
              ", \n",
              "<mark class=\"entity\" style=\"background: #ddd; padding: 0.45em 0.6em; margin: 0 0.25em; line-height: 1; border-radius: 0.35em;\">\n",
              "    cardiovascular pathologies\n",
              "    <span style=\"font-size: 0.8em; font-weight: bold; line-height: 1; border-radius: 0.35em; vertical-align: middle; margin-left: 0.5rem\">DISEASE</span>\n",
              "</mark>\n",
              " or \n",
              "<mark class=\"entity\" style=\"background: #ddd; padding: 0.45em 0.6em; margin: 0 0.25em; line-height: 1; border-radius: 0.35em;\">\n",
              "    infections\n",
              "    <span style=\"font-size: 0.8em; font-weight: bold; line-height: 1; border-radius: 0.35em; vertical-align: middle; margin-left: 0.5rem\">DISEASE</span>\n",
              "</mark>\n",
              ". Preoperative testing in surgical patients with respiratory symptoms and history of travelling or contacting with \n",
              "<mark class=\"entity\" style=\"background: #ddd; padding: 0.45em 0.6em; margin: 0 0.25em; line-height: 1; border-radius: 0.35em;\">\n",
              "    COVID-19\n",
              "    <span style=\"font-size: 0.8em; font-weight: bold; line-height: 1; border-radius: 0.35em; vertical-align: middle; margin-left: 0.5rem\">CHEMICAL</span>\n",
              "</mark>\n",
              " positive people and postoperative recovery in the operating unit seem to be highly effective measures 5 . A lot of rearrangements are performed locally regarding personal protective equipment, the organization of scrubbing, donning and doffing, and dedicated changing areas. Moreover, observational departments are organized in surgical hospitals for patient allocation before \n",
              "<mark class=\"entity\" style=\"background: #ddd; padding: 0.45em 0.6em; margin: 0 0.25em; line-height: 1; border-radius: 0.35em;\">\n",
              "    coronavirus infection\n",
              "    <span style=\"font-size: 0.8em; font-weight: bold; line-height: 1; border-radius: 0.35em; vertical-align: middle; margin-left: 0.5rem\">DISEASE</span>\n",
              "</mark>\n",
              " status is defined 6 .Surgery for \n",
              "<mark class=\"entity\" style=\"background: #ddd; padding: 0.45em 0.6em; margin: 0 0.25em; line-height: 1; border-radius: 0.35em;\">\n",
              "    benign disorders\n",
              "    <span style=\"font-size: 0.8em; font-weight: bold; line-height: 1; border-radius: 0.35em; vertical-align: middle; margin-left: 0.5rem\">DISEASE</span>\n",
              "</mark>\n",
              ", \n",
              "<mark class=\"entity\" style=\"background: #ddd; padding: 0.45em 0.6em; margin: 0 0.25em; line-height: 1; border-radius: 0.35em;\">\n",
              "    precancerous lesions\n",
              "    <span style=\"font-size: 0.8em; font-weight: bold; line-height: 1; border-radius: 0.35em; vertical-align: middle; margin-left: 0.5rem\">DISEASE</span>\n",
              "</mark>\n",
              ", and reconstructive procedures are currently postponed. Regarding \n",
              "<mark class=\"entity\" style=\"background: #ddd; padding: 0.45em 0.6em; margin: 0 0.25em; line-height: 1; border-radius: 0.35em;\">\n",
              "    colorectal cancer\n",
              "    <span style=\"font-size: 0.8em; font-weight: bold; line-height: 1; border-radius: 0.35em; vertical-align: middle; margin-left: 0.5rem\">DISEASE</span>\n",
              "</mark>\n",
              ", surgical treatment may be postponed, if it is a non-obstructing disease 7 .Laparoscopic surgery and diathermy are limited as well. The importance of special operating theatre for \n",
              "<mark class=\"entity\" style=\"background: #ddd; padding: 0.45em 0.6em; margin: 0 0.25em; line-height: 1; border-radius: 0.35em;\">\n",
              "    COVID-19\n",
              "    <span style=\"font-size: 0.8em; font-weight: bold; line-height: 1; border-radius: 0.35em; vertical-align: middle; margin-left: 0.5rem\">CHEMICAL</span>\n",
              "</mark>\n",
              " patients with negative pressure ventilation, unidirectional laminar flow, as well as the use of \n",
              "<mark class=\"entity\" style=\"background: #ddd; padding: 0.45em 0.6em; margin: 0 0.25em; line-height: 1; border-radius: 0.35em;\">\n",
              "    smoke\n",
              "    <span style=\"font-size: 0.8em; font-weight: bold; line-height: 1; border-radius: 0.35em; vertical-align: middle; margin-left: 0.5rem\">CHEMICAL</span>\n",
              "</mark>\n",
              " evacuation systems during surgery are taken into account 8 .Such an electiveness of surgery is concerning, as it might cause a worldwide healthcare catastrophe in the post-pandemic era 5 . More efforts should be taken to expand the amount and types of surgical procedures performed.Due to the early preventive and corrective actions we have already reached the plateau in new cases curve, counting for up to 8 984 cases identified at the time of writing this paper (June 7 th , 2020), with a mortality rate of 1⋅5075%. These statistical outcomes are resulted by a 68-day lockdown, admission regime, and healthcare rearrangement. Thus, the multistep restriction lifting has already started to consistently recover in both social and economic aspects. </div></span>"
            ]
          },
          "metadata": {
            "tags": []
          }
        },
        {
          "output_type": "stream",
          "text": [
            "COVID-19 CHEMICAL\n",
            "death DISEASE\n",
            "COVID-19 CHEMICAL\n",
            "infectious disease DISEASE\n",
            "coronavirus infection DISEASE\n",
            "COVID-19 CHEMICAL\n",
            "colorectal diseases DISEASE\n",
            "COVID-19 CHEMICAL\n",
            "COVID-19 CHEMICAL\n",
            "COVID-19 CHEMICAL\n",
            "COVID-19 CHEMICAL\n",
            "coronavirus infection DISEASE\n",
            "COVID-19 CHEMICAL\n",
            "infectious diseases DISEASE\n",
            "COVID-19 CHEMICAL\n",
            "malignancies DISEASE\n",
            "cardiovascular pathologies DISEASE\n",
            "infections DISEASE\n",
            "COVID-19 CHEMICAL\n",
            "coronavirus infection DISEASE\n",
            "benign disorders DISEASE\n",
            "precancerous lesions DISEASE\n",
            "colorectal cancer DISEASE\n",
            "COVID-19 CHEMICAL\n",
            "smoke CHEMICAL\n"
          ],
          "name": "stdout"
        }
      ]
    },
    {
      "cell_type": "code",
      "metadata": {
        "_uuid": "0582fddc-1464-4fff-927f-014615d0ca92",
        "_cell_guid": "3db2f07d-8dba-4444-aec2-acbb86260e0f",
        "jupyter": {
          "outputs_hidden": false
        },
        "trusted": true,
        "id": "w6qEKfiZrKF9"
      },
      "source": [
        "chemicals = []\n",
        "diseases=[]\n",
        "for i in range (len(id2abstract)):\n",
        "    pid = list(id2abstract[i].keys())[0]\n",
        "    text = id2abstract[i].get(pid)\n",
        "    doc = nlp(text)\n",
        "    for en in doc.ents:\n",
        "        if en.label_== 'CHEMICAL':\n",
        "            chemicals.append(en)\n",
        "        if en.label_=='DISEASE':\n",
        "            diseases.append(en)"
      ],
      "execution_count": null,
      "outputs": []
    },
    {
      "cell_type": "code",
      "metadata": {
        "_uuid": "d55ca021-3660-4466-8ab8-b81d5a85a1c9",
        "_cell_guid": "8de2847c-ed4e-4126-a36a-1d67d9edc94d",
        "jupyter": {
          "outputs_hidden": false
        },
        "trusted": true,
        "id": "as6JPGuCrKF9"
      },
      "source": [
        "chem = list(map(str, chemicals)) # => [1,2,3]\n",
        "dis=list(map(str, diseases))"
      ],
      "execution_count": null,
      "outputs": []
    },
    {
      "cell_type": "code",
      "metadata": {
        "_uuid": "2938956c-a273-42bd-ab18-4de17acc08f8",
        "_cell_guid": "81c6971e-76e9-472b-b206-a8cfeca72b86",
        "jupyter": {
          "outputs_hidden": false
        },
        "trusted": true,
        "id": "Wr0EgL26rKF9"
      },
      "source": [
        "from collections import Counter\n",
        "d = Counter(dis)\n",
        "c = Counter(chem)"
      ],
      "execution_count": null,
      "outputs": []
    },
    {
      "cell_type": "code",
      "metadata": {
        "_uuid": "94a9651c-d3cc-47e2-99f6-d8c431ef86eb",
        "_cell_guid": "94cf0a27-658b-4a58-bfcd-5bb65d43cc4d",
        "jupyter": {
          "outputs_hidden": false
        },
        "trusted": true,
        "id": "318HMsUArKF-",
        "outputId": "ec196042-cb24-491e-a7de-6962daddc877"
      },
      "source": [
        "common_chem = c.most_common(5)\n",
        "common_disease= d.most_common(5)\n",
        "import matplotlib.pyplot as plt\n",
        "common_chem = dict(common_chem)\n",
        "\n",
        "\n",
        "plt.bar(range(len(common_chem)), list(common_chem.values()),align='center')\n",
        "plt.xticks(range(len(common_chem)), list(common_chem.keys()))\n",
        "plt.show()"
      ],
      "execution_count": null,
      "outputs": [
        {
          "output_type": "display_data",
          "data": {
            "text/plain": [
              "<Figure size 432x288 with 1 Axes>"
            ],
            "image/png": "[encoded data removed]"
          },
          "metadata": {
            "tags": [],
            "needs_background": "light"
          }
        }
      ]
    },
    {
      "cell_type": "code",
      "metadata": {
        "_uuid": "82df48fd-93bc-407f-9dd1-a5eb7a79cefd",
        "_cell_guid": "53480a5c-4fb9-4c03-8e03-7f4e99aa5011",
        "jupyter": {
          "outputs_hidden": false
        },
        "trusted": true,
        "id": "iitgBfYLrKF-",
        "outputId": "34896aea-8f3d-4320-a04a-91fd442a55d0"
      },
      "source": [
        "common_disease = dict(common_disease)\n",
        "\n",
        "\n",
        "plt.bar(range(len(common_disease)), list(common_disease.values()),align='center')\n",
        "plt.xticks(range(len(common_disease)), list(common_disease.keys()))\n",
        "plt.show()"
      ],
      "execution_count": null,
      "outputs": [
        {
          "output_type": "display_data",
          "data": {
            "text/plain": [
              "<Figure size 432x288 with 1 Axes>"
            ],
            "image/png": "[encoded data removed]"
          },
          "metadata": {
            "tags": [],
            "needs_background": "light"
          }
        }
      ]
    },
    {
      "cell_type": "code",
      "metadata": {
        "_uuid": "601420fb-0753-4dab-9fef-e86df8242208",
        "_cell_guid": "f9fee6ff-7b80-419f-a816-571287d8a2af",
        "jupyter": {
          "outputs_hidden": false
        },
        "trusted": true,
        "id": "0L4VblAqrKF-"
      },
      "source": [
        ""
      ],
      "execution_count": null,
      "outputs": []
    }
  ]
}