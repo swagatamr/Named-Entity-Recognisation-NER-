{
  "nbformat": 4,
  "nbformat_minor": 0,
  "metadata": {
    "colab": {
      "name": "Bert using torch to make custom NER.ipynb",
      "provenance": []
    },
    "kernelspec": {
      "name": "python3",
      "display_name": "Python 3"
    },
    "language_info": {
      "name": "python"
    },
    "accelerator": "GPU",
    "widgets": {
      "application/vnd.jupyter.widget-state+json": {
        "e1e970d17a134f2b85a95f0e8e03ee03": {
          "model_module": "@jupyter-widgets/controls",
          "model_name": "HBoxModel",
          "state": {
            "_view_name": "HBoxView",
            "_dom_classes": [],
            "_model_name": "HBoxModel",
            "_view_module": "@jupyter-widgets/controls",
            "_model_module_version": "1.5.0",
            "_view_count": null,
            "_view_module_version": "1.5.0",
            "box_style": "",
            "layout": "IPY_MODEL_91f12969a1e446388cd2cf8c2d0b292d",
            "_model_module": "@jupyter-widgets/controls",
            "children": [
              "IPY_MODEL_65889b885a1e4a738ec8695ea08e3fb9",
              "IPY_MODEL_7e162df0c58241eeb449ebd800e430c6"
            ]
          }
        },
        "91f12969a1e446388cd2cf8c2d0b292d": {
          "model_module": "@jupyter-widgets/base",
          "model_name": "LayoutModel",
          "state": {
            "_view_name": "LayoutView",
            "grid_template_rows": null,
            "right": null,
            "justify_content": null,
            "_view_module": "@jupyter-widgets/base",
            "overflow": null,
            "_model_module_version": "1.2.0",
            "_view_count": null,
            "flex_flow": null,
            "width": null,
            "min_width": null,
            "border": null,
            "align_items": null,
            "bottom": null,
            "_model_module": "@jupyter-widgets/base",
            "top": null,
            "grid_column": null,
            "overflow_y": null,
            "overflow_x": null,
            "grid_auto_flow": null,
            "grid_area": null,
            "grid_template_columns": null,
            "flex": null,
            "_model_name": "LayoutModel",
            "justify_items": null,
            "grid_row": null,
            "max_height": null,
            "align_content": null,
            "visibility": null,
            "align_self": null,
            "height": null,
            "min_height": null,
            "padding": null,
            "grid_auto_rows": null,
            "grid_gap": null,
            "max_width": null,
            "order": null,
            "_view_module_version": "1.2.0",
            "grid_template_areas": null,
            "object_position": null,
            "object_fit": null,
            "grid_auto_columns": null,
            "margin": null,
            "display": null,
            "left": null
          }
        },
        "65889b885a1e4a738ec8695ea08e3fb9": {
          "model_module": "@jupyter-widgets/controls",
          "model_name": "FloatProgressModel",
          "state": {
            "_view_name": "ProgressView",
            "style": "IPY_MODEL_2fff0e13503b4638bd96d52f8478bfbe",
            "_dom_classes": [],
            "description": "Downloading: 100%",
            "_model_name": "FloatProgressModel",
            "bar_style": "success",
            "max": 213450,
            "_view_module": "@jupyter-widgets/controls",
            "_model_module_version": "1.5.0",
            "value": 213450,
            "_view_count": null,
            "_view_module_version": "1.5.0",
            "orientation": "horizontal",
            "min": 0,
            "description_tooltip": null,
            "_model_module": "@jupyter-widgets/controls",
            "layout": "IPY_MODEL_3580a49db32642bd8fb99a1a028dd439"
          }
        },
        "7e162df0c58241eeb449ebd800e430c6": {
          "model_module": "@jupyter-widgets/controls",
          "model_name": "HTMLModel",
          "state": {
            "_view_name": "HTMLView",
            "style": "IPY_MODEL_4c54febec3744c4392468846f32ba8f3",
            "_dom_classes": [],
            "description": "",
            "_model_name": "HTMLModel",
            "placeholder": "​",
            "_view_module": "@jupyter-widgets/controls",
            "_model_module_version": "1.5.0",
            "value": " 213k/213k [00:00&lt;00:00, 851kB/s]",
            "_view_count": null,
            "_view_module_version": "1.5.0",
            "description_tooltip": null,
            "_model_module": "@jupyter-widgets/controls",
            "layout": "IPY_MODEL_975a6e27c70b49419314fd0791ddc71a"
          }
        },
        "2fff0e13503b4638bd96d52f8478bfbe": {
          "model_module": "@jupyter-widgets/controls",
          "model_name": "ProgressStyleModel",
          "state": {
            "_view_name": "StyleView",
            "_model_name": "ProgressStyleModel",
            "description_width": "initial",
            "_view_module": "@jupyter-widgets/base",
            "_model_module_version": "1.5.0",
            "_view_count": null,
            "_view_module_version": "1.2.0",
            "bar_color": null,
            "_model_module": "@jupyter-widgets/controls"
          }
        },
        "3580a49db32642bd8fb99a1a028dd439": {
          "model_module": "@jupyter-widgets/base",
          "model_name": "LayoutModel",
          "state": {
            "_view_name": "LayoutView",
            "grid_template_rows": null,
            "right": null,
            "justify_content": null,
            "_view_module": "@jupyter-widgets/base",
            "overflow": null,
            "_model_module_version": "1.2.0",
            "_view_count": null,
            "flex_flow": null,
            "width": null,
            "min_width": null,
            "border": null,
            "align_items": null,
            "bottom": null,
            "_model_module": "@jupyter-widgets/base",
            "top": null,
            "grid_column": null,
            "overflow_y": null,
            "overflow_x": null,
            "grid_auto_flow": null,
            "grid_area": null,
            "grid_template_columns": null,
            "flex": null,
            "_model_name": "LayoutModel",
            "justify_items": null,
            "grid_row": null,
            "max_height": null,
            "align_content": null,
            "visibility": null,
            "align_self": null,
            "height": null,
            "min_height": null,
            "padding": null,
            "grid_auto_rows": null,
            "grid_gap": null,
            "max_width": null,
            "order": null,
            "_view_module_version": "1.2.0",
            "grid_template_areas": null,
            "object_position": null,
            "object_fit": null,
            "grid_auto_columns": null,
            "margin": null,
            "display": null,
            "left": null
          }
        },
        "4c54febec3744c4392468846f32ba8f3": {
          "model_module": "@jupyter-widgets/controls",
          "model_name": "DescriptionStyleModel",
          "state": {
            "_view_name": "StyleView",
            "_model_name": "DescriptionStyleModel",
            "description_width": "",
            "_view_module": "@jupyter-widgets/base",
            "_model_module_version": "1.5.0",
            "_view_count": null,
            "_view_module_version": "1.2.0",
            "_model_module": "@jupyter-widgets/controls"
          }
        },
        "975a6e27c70b49419314fd0791ddc71a": {
          "model_module": "@jupyter-widgets/base",
          "model_name": "LayoutModel",
          "state": {
            "_view_name": "LayoutView",
            "grid_template_rows": null,
            "right": null,
            "justify_content": null,
            "_view_module": "@jupyter-widgets/base",
            "overflow": null,
            "_model_module_version": "1.2.0",
            "_view_count": null,
            "flex_flow": null,
            "width": null,
            "min_width": null,
            "border": null,
            "align_items": null,
            "bottom": null,
            "_model_module": "@jupyter-widgets/base",
            "top": null,
            "grid_column": null,
            "overflow_y": null,
            "overflow_x": null,
            "grid_auto_flow": null,
            "grid_area": null,
            "grid_template_columns": null,
            "flex": null,
            "_model_name": "LayoutModel",
            "justify_items": null,
            "grid_row": null,
            "max_height": null,
            "align_content": null,
            "visibility": null,
            "align_self": null,
            "height": null,
            "min_height": null,
            "padding": null,
            "grid_auto_rows": null,
            "grid_gap": null,
            "max_width": null,
            "order": null,
            "_view_module_version": "1.2.0",
            "grid_template_areas": null,
            "object_position": null,
            "object_fit": null,
            "grid_auto_columns": null,
            "margin": null,
            "display": null,
            "left": null
          }
        },
        "8b8b2ccad9ba4429a3cccb505ea60cd4": {
          "model_module": "@jupyter-widgets/controls",
          "model_name": "HBoxModel",
          "state": {
            "_view_name": "HBoxView",
            "_dom_classes": [],
            "_model_name": "HBoxModel",
            "_view_module": "@jupyter-widgets/controls",
            "_model_module_version": "1.5.0",
            "_view_count": null,
            "_view_module_version": "1.5.0",
            "box_style": "",
            "layout": "IPY_MODEL_3effae8235614977bc59598d5c113d7e",
            "_model_module": "@jupyter-widgets/controls",
            "children": [
              "IPY_MODEL_07a98823c98e429789a2aec7864ce82c",
              "IPY_MODEL_5ecb00b966e146fabbeee9994e323015"
            ]
          }
        },
        "3effae8235614977bc59598d5c113d7e": {
          "model_module": "@jupyter-widgets/base",
          "model_name": "LayoutModel",
          "state": {
            "_view_name": "LayoutView",
            "grid_template_rows": null,
            "right": null,
            "justify_content": null,
            "_view_module": "@jupyter-widgets/base",
            "overflow": null,
            "_model_module_version": "1.2.0",
            "_view_count": null,
            "flex_flow": null,
            "width": null,
            "min_width": null,
            "border": null,
            "align_items": null,
            "bottom": null,
            "_model_module": "@jupyter-widgets/base",
            "top": null,
            "grid_column": null,
            "overflow_y": null,
            "overflow_x": null,
            "grid_auto_flow": null,
            "grid_area": null,
            "grid_template_columns": null,
            "flex": null,
            "_model_name": "LayoutModel",
            "justify_items": null,
            "grid_row": null,
            "max_height": null,
            "align_content": null,
            "visibility": null,
            "align_self": null,
            "height": null,
            "min_height": null,
            "padding": null,
            "grid_auto_rows": null,
            "grid_gap": null,
            "max_width": null,
            "order": null,
            "_view_module_version": "1.2.0",
            "grid_template_areas": null,
            "object_position": null,
            "object_fit": null,
            "grid_auto_columns": null,
            "margin": null,
            "display": null,
            "left": null
          }
        },
        "07a98823c98e429789a2aec7864ce82c": {
          "model_module": "@jupyter-widgets/controls",
          "model_name": "FloatProgressModel",
          "state": {
            "_view_name": "ProgressView",
            "style": "IPY_MODEL_9342619e424e466395ae637322951e50",
            "_dom_classes": [],
            "description": "Downloading: 100%",
            "_model_name": "FloatProgressModel",
            "bar_style": "success",
            "max": 433,
            "_view_module": "@jupyter-widgets/controls",
            "_model_module_version": "1.5.0",
            "value": 433,
            "_view_count": null,
            "_view_module_version": "1.5.0",
            "orientation": "horizontal",
            "min": 0,
            "description_tooltip": null,
            "_model_module": "@jupyter-widgets/controls",
            "layout": "IPY_MODEL_02fbc6c9b11f4d3d9c58e19c7fea680b"
          }
        },
        "5ecb00b966e146fabbeee9994e323015": {
          "model_module": "@jupyter-widgets/controls",
          "model_name": "HTMLModel",
          "state": {
            "_view_name": "HTMLView",
            "style": "IPY_MODEL_c426eb0e4ede408b84ece6154dcf5268",
            "_dom_classes": [],
            "description": "",
            "_model_name": "HTMLModel",
            "placeholder": "​",
            "_view_module": "@jupyter-widgets/controls",
            "_model_module_version": "1.5.0",
            "value": " 433/433 [00:29&lt;00:00, 14.5B/s]",
            "_view_count": null,
            "_view_module_version": "1.5.0",
            "description_tooltip": null,
            "_model_module": "@jupyter-widgets/controls",
            "layout": "IPY_MODEL_79d1a74f9f25491888204be8e22b9dbc"
          }
        },
        "9342619e424e466395ae637322951e50": {
          "model_module": "@jupyter-widgets/controls",
          "model_name": "ProgressStyleModel",
          "state": {
            "_view_name": "StyleView",
            "_model_name": "ProgressStyleModel",
            "description_width": "initial",
            "_view_module": "@jupyter-widgets/base",
            "_model_module_version": "1.5.0",
            "_view_count": null,
            "_view_module_version": "1.2.0",
            "bar_color": null,
            "_model_module": "@jupyter-widgets/controls"
          }
        },
        "02fbc6c9b11f4d3d9c58e19c7fea680b": {
          "model_module": "@jupyter-widgets/base",
          "model_name": "LayoutModel",
          "state": {
            "_view_name": "LayoutView",
            "grid_template_rows": null,
            "right": null,
            "justify_content": null,
            "_view_module": "@jupyter-widgets/base",
            "overflow": null,
            "_model_module_version": "1.2.0",
            "_view_count": null,
            "flex_flow": null,
            "width": null,
            "min_width": null,
            "border": null,
            "align_items": null,
            "bottom": null,
            "_model_module": "@jupyter-widgets/base",
            "top": null,
            "grid_column": null,
            "overflow_y": null,
            "overflow_x": null,
            "grid_auto_flow": null,
            "grid_area": null,
            "grid_template_columns": null,
            "flex": null,
            "_model_name": "LayoutModel",
            "justify_items": null,
            "grid_row": null,
            "max_height": null,
            "align_content": null,
            "visibility": null,
            "align_self": null,
            "height": null,
            "min_height": null,
            "padding": null,
            "grid_auto_rows": null,
            "grid_gap": null,
            "max_width": null,
            "order": null,
            "_view_module_version": "1.2.0",
            "grid_template_areas": null,
            "object_position": null,
            "object_fit": null,
            "grid_auto_columns": null,
            "margin": null,
            "display": null,
            "left": null
          }
        },
        "c426eb0e4ede408b84ece6154dcf5268": {
          "model_module": "@jupyter-widgets/controls",
          "model_name": "DescriptionStyleModel",
          "state": {
            "_view_name": "StyleView",
            "_model_name": "DescriptionStyleModel",
            "description_width": "",
            "_view_module": "@jupyter-widgets/base",
            "_model_module_version": "1.5.0",
            "_view_count": null,
            "_view_module_version": "1.2.0",
            "_model_module": "@jupyter-widgets/controls"
          }
        },
        "79d1a74f9f25491888204be8e22b9dbc": {
          "model_module": "@jupyter-widgets/base",
          "model_name": "LayoutModel",
          "state": {
            "_view_name": "LayoutView",
            "grid_template_rows": null,
            "right": null,
            "justify_content": null,
            "_view_module": "@jupyter-widgets/base",
            "overflow": null,
            "_model_module_version": "1.2.0",
            "_view_count": null,
            "flex_flow": null,
            "width": null,
            "min_width": null,
            "border": null,
            "align_items": null,
            "bottom": null,
            "_model_module": "@jupyter-widgets/base",
            "top": null,
            "grid_column": null,
            "overflow_y": null,
            "overflow_x": null,
            "grid_auto_flow": null,
            "grid_area": null,
            "grid_template_columns": null,
            "flex": null,
            "_model_name": "LayoutModel",
            "justify_items": null,
            "grid_row": null,
            "max_height": null,
            "align_content": null,
            "visibility": null,
            "align_self": null,
            "height": null,
            "min_height": null,
            "padding": null,
            "grid_auto_rows": null,
            "grid_gap": null,
            "max_width": null,
            "order": null,
            "_view_module_version": "1.2.0",
            "grid_template_areas": null,
            "object_position": null,
            "object_fit": null,
            "grid_auto_columns": null,
            "margin": null,
            "display": null,
            "left": null
          }
        },
        "16f2afae2ed54e00a103162c77999725": {
          "model_module": "@jupyter-widgets/controls",
          "model_name": "HBoxModel",
          "state": {
            "_view_name": "HBoxView",
            "_dom_classes": [],
            "_model_name": "HBoxModel",
            "_view_module": "@jupyter-widgets/controls",
            "_model_module_version": "1.5.0",
            "_view_count": null,
            "_view_module_version": "1.5.0",
            "box_style": "",
            "layout": "IPY_MODEL_55c3f01ee3414067a5df5e344d4b1118",
            "_model_module": "@jupyter-widgets/controls",
            "children": [
              "IPY_MODEL_79b67edfa62c4833bb83aabed679fc41",
              "IPY_MODEL_e5cef3a8e4b5410d98028e90104a01a1"
            ]
          }
        },
        "55c3f01ee3414067a5df5e344d4b1118": {
          "model_module": "@jupyter-widgets/base",
          "model_name": "LayoutModel",
          "state": {
            "_view_name": "LayoutView",
            "grid_template_rows": null,
            "right": null,
            "justify_content": null,
            "_view_module": "@jupyter-widgets/base",
            "overflow": null,
            "_model_module_version": "1.2.0",
            "_view_count": null,
            "flex_flow": null,
            "width": null,
            "min_width": null,
            "border": null,
            "align_items": null,
            "bottom": null,
            "_model_module": "@jupyter-widgets/base",
            "top": null,
            "grid_column": null,
            "overflow_y": null,
            "overflow_x": null,
            "grid_auto_flow": null,
            "grid_area": null,
            "grid_template_columns": null,
            "flex": null,
            "_model_name": "LayoutModel",
            "justify_items": null,
            "grid_row": null,
            "max_height": null,
            "align_content": null,
            "visibility": null,
            "align_self": null,
            "height": null,
            "min_height": null,
            "padding": null,
            "grid_auto_rows": null,
            "grid_gap": null,
            "max_width": null,
            "order": null,
            "_view_module_version": "1.2.0",
            "grid_template_areas": null,
            "object_position": null,
            "object_fit": null,
            "grid_auto_columns": null,
            "margin": null,
            "display": null,
            "left": null
          }
        },
        "79b67edfa62c4833bb83aabed679fc41": {
          "model_module": "@jupyter-widgets/controls",
          "model_name": "FloatProgressModel",
          "state": {
            "_view_name": "ProgressView",
            "style": "IPY_MODEL_091a6c3b1d204b918b19fa8836546231",
            "_dom_classes": [],
            "description": "Downloading: 100%",
            "_model_name": "FloatProgressModel",
            "bar_style": "success",
            "max": 435779157,
            "_view_module": "@jupyter-widgets/controls",
            "_model_module_version": "1.5.0",
            "value": 435779157,
            "_view_count": null,
            "_view_module_version": "1.5.0",
            "orientation": "horizontal",
            "min": 0,
            "description_tooltip": null,
            "_model_module": "@jupyter-widgets/controls",
            "layout": "IPY_MODEL_4ada1da1c3ea4fc4b0d6339aa80bf717"
          }
        },
        "e5cef3a8e4b5410d98028e90104a01a1": {
          "model_module": "@jupyter-widgets/controls",
          "model_name": "HTMLModel",
          "state": {
            "_view_name": "HTMLView",
            "style": "IPY_MODEL_3b3832691394468f8e85146cf933d222",
            "_dom_classes": [],
            "description": "",
            "_model_name": "HTMLModel",
            "placeholder": "​",
            "_view_module": "@jupyter-widgets/controls",
            "_model_module_version": "1.5.0",
            "value": " 436M/436M [00:10&lt;00:00, 41.3MB/s]",
            "_view_count": null,
            "_view_module_version": "1.5.0",
            "description_tooltip": null,
            "_model_module": "@jupyter-widgets/controls",
            "layout": "IPY_MODEL_3998985f53a048ecb9c204269ea50157"
          }
        },
        "091a6c3b1d204b918b19fa8836546231": {
          "model_module": "@jupyter-widgets/controls",
          "model_name": "ProgressStyleModel",
          "state": {
            "_view_name": "StyleView",
            "_model_name": "ProgressStyleModel",
            "description_width": "initial",
            "_view_module": "@jupyter-widgets/base",
            "_model_module_version": "1.5.0",
            "_view_count": null,
            "_view_module_version": "1.2.0",
            "bar_color": null,
            "_model_module": "@jupyter-widgets/controls"
          }
        },
        "4ada1da1c3ea4fc4b0d6339aa80bf717": {
          "model_module": "@jupyter-widgets/base",
          "model_name": "LayoutModel",
          "state": {
            "_view_name": "LayoutView",
            "grid_template_rows": null,
            "right": null,
            "justify_content": null,
            "_view_module": "@jupyter-widgets/base",
            "overflow": null,
            "_model_module_version": "1.2.0",
            "_view_count": null,
            "flex_flow": null,
            "width": null,
            "min_width": null,
            "border": null,
            "align_items": null,
            "bottom": null,
            "_model_module": "@jupyter-widgets/base",
            "top": null,
            "grid_column": null,
            "overflow_y": null,
            "overflow_x": null,
            "grid_auto_flow": null,
            "grid_area": null,
            "grid_template_columns": null,
            "flex": null,
            "_model_name": "LayoutModel",
            "justify_items": null,
            "grid_row": null,
            "max_height": null,
            "align_content": null,
            "visibility": null,
            "align_self": null,
            "height": null,
            "min_height": null,
            "padding": null,
            "grid_auto_rows": null,
            "grid_gap": null,
            "max_width": null,
            "order": null,
            "_view_module_version": "1.2.0",
            "grid_template_areas": null,
            "object_position": null,
            "object_fit": null,
            "grid_auto_columns": null,
            "margin": null,
            "display": null,
            "left": null
          }
        },
        "3b3832691394468f8e85146cf933d222": {
          "model_module": "@jupyter-widgets/controls",
          "model_name": "DescriptionStyleModel",
          "state": {
            "_view_name": "StyleView",
            "_model_name": "DescriptionStyleModel",
            "description_width": "",
            "_view_module": "@jupyter-widgets/base",
            "_model_module_version": "1.5.0",
            "_view_count": null,
            "_view_module_version": "1.2.0",
            "_model_module": "@jupyter-widgets/controls"
          }
        },
        "3998985f53a048ecb9c204269ea50157": {
          "model_module": "@jupyter-widgets/base",
          "model_name": "LayoutModel",
          "state": {
            "_view_name": "LayoutView",
            "grid_template_rows": null,
            "right": null,
            "justify_content": null,
            "_view_module": "@jupyter-widgets/base",
            "overflow": null,
            "_model_module_version": "1.2.0",
            "_view_count": null,
            "flex_flow": null,
            "width": null,
            "min_width": null,
            "border": null,
            "align_items": null,
            "bottom": null,
            "_model_module": "@jupyter-widgets/base",
            "top": null,
            "grid_column": null,
            "overflow_y": null,
            "overflow_x": null,
            "grid_auto_flow": null,
            "grid_area": null,
            "grid_template_columns": null,
            "flex": null,
            "_model_name": "LayoutModel",
            "justify_items": null,
            "grid_row": null,
            "max_height": null,
            "align_content": null,
            "visibility": null,
            "align_self": null,
            "height": null,
            "min_height": null,
            "padding": null,
            "grid_auto_rows": null,
            "grid_gap": null,
            "max_width": null,
            "order": null,
            "_view_module_version": "1.2.0",
            "grid_template_areas": null,
            "object_position": null,
            "object_fit": null,
            "grid_auto_columns": null,
            "margin": null,
            "display": null,
            "left": null
          }
        }
      }
    }
  },
  "cells": [
    {
      "cell_type": "markdown",
      "metadata": {
        "id": "PCjLs2jIJbFF"
      },
      "source": [
        "Install required package"
      ]
    },
    {
      "cell_type": "code",
      "metadata": {
        "id": "Nn3du_GPXzor"
      },
      "source": [
        "import sys\n",
        "import time\n",
        "import numpy as np \n",
        "import pandas as pd \n",
        "\n",
        "import os\n",
        "import json\n",
        "import csv"
      ],
      "execution_count": 1,
      "outputs": []
    },
    {
      "cell_type": "code",
      "metadata": {
        "colab": {
          "base_uri": "https://localhost:8080/"
        },
        "id": "hH1yf2V8X5B3",
        "outputId": "97e1c8d6-3dc2-46bf-d1ab-396451bbee56"
      },
      "source": [
        "!pip install transformers==2.6.0"
      ],
      "execution_count": 2,
      "outputs": [
        {
          "output_type": "stream",
          "text": [
            "Collecting transformers==2.6.0\n",
            "\u001b[?25l  Downloading https://files.pythonhosted.org/packages/4c/a0/32e3a4501ef480f7ea01aac329a716132f32f7911ef1c2fac228acc57ca7/transformers-2.6.0-py3-none-any.whl (540kB)\n",
            "\r\u001b[K     |▋                               | 10kB 19.4MB/s eta 0:00:01\r\u001b[K     |█▏                              | 20kB 15.6MB/s eta 0:00:01\r\u001b[K     |█▉                              | 30kB 13.5MB/s eta 0:00:01\r\u001b[K     |██▍                             | 40kB 12.3MB/s eta 0:00:01\r\u001b[K     |███                             | 51kB 8.7MB/s eta 0:00:01\r\u001b[K     |███▋                            | 61kB 8.0MB/s eta 0:00:01\r\u001b[K     |████▎                           | 71kB 9.0MB/s eta 0:00:01\r\u001b[K     |████▉                           | 81kB 10.0MB/s eta 0:00:01\r\u001b[K     |█████▌                          | 92kB 9.1MB/s eta 0:00:01\r\u001b[K     |██████                          | 102kB 8.4MB/s eta 0:00:01\r\u001b[K     |██████▋                         | 112kB 8.4MB/s eta 0:00:01\r\u001b[K     |███████▎                        | 122kB 8.4MB/s eta 0:00:01\r\u001b[K     |███████▉                        | 133kB 8.4MB/s eta 0:00:01\r\u001b[K     |████████▌                       | 143kB 8.4MB/s eta 0:00:01\r\u001b[K     |█████████                       | 153kB 8.4MB/s eta 0:00:01\r\u001b[K     |█████████▊                      | 163kB 8.4MB/s eta 0:00:01\r\u001b[K     |██████████▎                     | 174kB 8.4MB/s eta 0:00:01\r\u001b[K     |███████████                     | 184kB 8.4MB/s eta 0:00:01\r\u001b[K     |███████████▌                    | 194kB 8.4MB/s eta 0:00:01\r\u001b[K     |████████████▏                   | 204kB 8.4MB/s eta 0:00:01\r\u001b[K     |████████████▊                   | 215kB 8.4MB/s eta 0:00:01\r\u001b[K     |█████████████▎                  | 225kB 8.4MB/s eta 0:00:01\r\u001b[K     |██████████████                  | 235kB 8.4MB/s eta 0:00:01\r\u001b[K     |██████████████▌                 | 245kB 8.4MB/s eta 0:00:01\r\u001b[K     |███████████████▏                | 256kB 8.4MB/s eta 0:00:01\r\u001b[K     |███████████████▊                | 266kB 8.4MB/s eta 0:00:01\r\u001b[K     |████████████████▍               | 276kB 8.4MB/s eta 0:00:01\r\u001b[K     |█████████████████               | 286kB 8.4MB/s eta 0:00:01\r\u001b[K     |█████████████████▋              | 296kB 8.4MB/s eta 0:00:01\r\u001b[K     |██████████████████▏             | 307kB 8.4MB/s eta 0:00:01\r\u001b[K     |██████████████████▉             | 317kB 8.4MB/s eta 0:00:01\r\u001b[K     |███████████████████▍            | 327kB 8.4MB/s eta 0:00:01\r\u001b[K     |████████████████████            | 337kB 8.4MB/s eta 0:00:01\r\u001b[K     |████████████████████▋           | 348kB 8.4MB/s eta 0:00:01\r\u001b[K     |█████████████████████▏          | 358kB 8.4MB/s eta 0:00:01\r\u001b[K     |█████████████████████▉          | 368kB 8.4MB/s eta 0:00:01\r\u001b[K     |██████████████████████▍         | 378kB 8.4MB/s eta 0:00:01\r\u001b[K     |███████████████████████         | 389kB 8.4MB/s eta 0:00:01\r\u001b[K     |███████████████████████▋        | 399kB 8.4MB/s eta 0:00:01\r\u001b[K     |████████████████████████▎       | 409kB 8.4MB/s eta 0:00:01\r\u001b[K     |████████████████████████▉       | 419kB 8.4MB/s eta 0:00:01\r\u001b[K     |█████████████████████████▍      | 430kB 8.4MB/s eta 0:00:01\r\u001b[K     |██████████████████████████      | 440kB 8.4MB/s eta 0:00:01\r\u001b[K     |██████████████████████████▋     | 450kB 8.4MB/s eta 0:00:01\r\u001b[K     |███████████████████████████▎    | 460kB 8.4MB/s eta 0:00:01\r\u001b[K     |███████████████████████████▉    | 471kB 8.4MB/s eta 0:00:01\r\u001b[K     |████████████████████████████▌   | 481kB 8.4MB/s eta 0:00:01\r\u001b[K     |█████████████████████████████   | 491kB 8.4MB/s eta 0:00:01\r\u001b[K     |█████████████████████████████▊  | 501kB 8.4MB/s eta 0:00:01\r\u001b[K     |██████████████████████████████▎ | 512kB 8.4MB/s eta 0:00:01\r\u001b[K     |███████████████████████████████ | 522kB 8.4MB/s eta 0:00:01\r\u001b[K     |███████████████████████████████▌| 532kB 8.4MB/s eta 0:00:01\r\u001b[K     |████████████████████████████████| 542kB 8.4MB/s \n",
            "\u001b[?25hRequirement already satisfied: tqdm>=4.27 in /usr/local/lib/python3.7/dist-packages (from transformers==2.6.0) (4.41.1)\n",
            "Collecting sentencepiece\n",
            "\u001b[?25l  Downloading https://files.pythonhosted.org/packages/f5/99/e0808cb947ba10f575839c43e8fafc9cc44e4a7a2c8f79c60db48220a577/sentencepiece-0.1.95-cp37-cp37m-manylinux2014_x86_64.whl (1.2MB)\n",
            "\u001b[K     |████████████████████████████████| 1.2MB 17.5MB/s \n",
            "\u001b[?25hCollecting boto3\n",
            "\u001b[?25l  Downloading https://files.pythonhosted.org/packages/b7/4f/62a3badb45bd88f6fbedcbb27273e379f11ecae86e69cd920e7c5ab51f84/boto3-1.17.36-py2.py3-none-any.whl (131kB)\n",
            "\u001b[K     |████████████████████████████████| 133kB 50.7MB/s \n",
            "\u001b[?25hCollecting sacremoses\n",
            "\u001b[?25l  Downloading https://files.pythonhosted.org/packages/7d/34/09d19aff26edcc8eb2a01bed8e98f13a1537005d31e95233fd48216eed10/sacremoses-0.0.43.tar.gz (883kB)\n",
            "\u001b[K     |████████████████████████████████| 890kB 32.8MB/s \n",
            "\u001b[?25hRequirement already satisfied: requests in /usr/local/lib/python3.7/dist-packages (from transformers==2.6.0) (2.23.0)\n",
            "Requirement already satisfied: numpy in /usr/local/lib/python3.7/dist-packages (from transformers==2.6.0) (1.19.5)\n",
            "Requirement already satisfied: regex!=2019.12.17 in /usr/local/lib/python3.7/dist-packages (from transformers==2.6.0) (2019.12.20)\n",
            "Requirement already satisfied: filelock in /usr/local/lib/python3.7/dist-packages (from transformers==2.6.0) (3.0.12)\n",
            "Collecting tokenizers==0.5.2\n",
            "\u001b[?25l  Downloading https://files.pythonhosted.org/packages/d6/e3/5e49e9a83fb605aaa34a1c1173e607302fecae529428c28696fb18f1c2c9/tokenizers-0.5.2-cp37-cp37m-manylinux1_x86_64.whl (5.6MB)\n",
            "\u001b[K     |████████████████████████████████| 5.6MB 43.6MB/s \n",
            "\u001b[?25hCollecting botocore<1.21.0,>=1.20.36\n",
            "\u001b[?25l  Downloading https://files.pythonhosted.org/packages/6a/19/72416dd9df0161e8494ed5dfc3f96ef1efcc1b91fc0b2dad43c555231e3c/botocore-1.20.36-py2.py3-none-any.whl (7.3MB)\n",
            "\u001b[K     |████████████████████████████████| 7.3MB 51.4MB/s \n",
            "\u001b[?25hCollecting jmespath<1.0.0,>=0.7.1\n",
            "  Downloading https://files.pythonhosted.org/packages/07/cb/5f001272b6faeb23c1c9e0acc04d48eaaf5c862c17709d20e3469c6e0139/jmespath-0.10.0-py2.py3-none-any.whl\n",
            "Collecting s3transfer<0.4.0,>=0.3.0\n",
            "\u001b[?25l  Downloading https://files.pythonhosted.org/packages/98/14/0b4be62b65c52d6d1c442f24e02d2a9889a73d3c352002e14c70f84a679f/s3transfer-0.3.6-py2.py3-none-any.whl (73kB)\n",
            "\u001b[K     |████████████████████████████████| 81kB 10.1MB/s \n",
            "\u001b[?25hRequirement already satisfied: six in /usr/local/lib/python3.7/dist-packages (from sacremoses->transformers==2.6.0) (1.15.0)\n",
            "Requirement already satisfied: click in /usr/local/lib/python3.7/dist-packages (from sacremoses->transformers==2.6.0) (7.1.2)\n",
            "Requirement already satisfied: joblib in /usr/local/lib/python3.7/dist-packages (from sacremoses->transformers==2.6.0) (1.0.1)\n",
            "Requirement already satisfied: urllib3!=1.25.0,!=1.25.1,<1.26,>=1.21.1 in /usr/local/lib/python3.7/dist-packages (from requests->transformers==2.6.0) (1.24.3)\n",
            "Requirement already satisfied: idna<3,>=2.5 in /usr/local/lib/python3.7/dist-packages (from requests->transformers==2.6.0) (2.10)\n",
            "Requirement already satisfied: chardet<4,>=3.0.2 in /usr/local/lib/python3.7/dist-packages (from requests->transformers==2.6.0) (3.0.4)\n",
            "Requirement already satisfied: certifi>=2017.4.17 in /usr/local/lib/python3.7/dist-packages (from requests->transformers==2.6.0) (2020.12.5)\n",
            "Requirement already satisfied: python-dateutil<3.0.0,>=2.1 in /usr/local/lib/python3.7/dist-packages (from botocore<1.21.0,>=1.20.36->boto3->transformers==2.6.0) (2.8.1)\n",
            "Building wheels for collected packages: sacremoses\n",
            "  Building wheel for sacremoses (setup.py) ... \u001b[?25l\u001b[?25hdone\n",
            "  Created wheel for sacremoses: filename=sacremoses-0.0.43-cp37-none-any.whl size=893262 sha256=2264ef643e619c72615a7baf014c5379c255465b977e76e243dbedbc91b9ab39\n",
            "  Stored in directory: /root/.cache/pip/wheels/29/3c/fd/7ce5c3f0666dab31a50123635e6fb5e19ceb42ce38d4e58f45\n",
            "Successfully built sacremoses\n",
            "\u001b[31mERROR: botocore 1.20.36 has requirement urllib3<1.27,>=1.25.4, but you'll have urllib3 1.24.3 which is incompatible.\u001b[0m\n",
            "Installing collected packages: sentencepiece, jmespath, botocore, s3transfer, boto3, sacremoses, tokenizers, transformers\n",
            "Successfully installed boto3-1.17.36 botocore-1.20.36 jmespath-0.10.0 s3transfer-0.3.6 sacremoses-0.0.43 sentencepiece-0.1.95 tokenizers-0.5.2 transformers-2.6.0\n"
          ],
          "name": "stdout"
        }
      ]
    },
    {
      "cell_type": "code",
      "metadata": {
        "colab": {
          "base_uri": "https://localhost:8080/"
        },
        "id": "VG2TqKxkYAJU",
        "outputId": "2cbdba66-6fdf-462b-f619-1b64169838ce"
      },
      "source": [
        "!pip install tqdm "
      ],
      "execution_count": 3,
      "outputs": [
        {
          "output_type": "stream",
          "text": [
            "Requirement already satisfied: tqdm in /usr/local/lib/python3.7/dist-packages (4.41.1)\n"
          ],
          "name": "stdout"
        }
      ]
    },
    {
      "cell_type": "code",
      "metadata": {
        "colab": {
          "resources": {
            "http://localhost:8080/nbextensions/google.colab/files.js": {
              "data": "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",
              "ok": true,
              "headers": [
                [
                  "content-type",
                  "application/javascript"
                ]
              ],
              "status": 200,
              "status_text": ""
            }
          },
          "base_uri": "https://localhost:8080/",
          "height": 111
        },
        "id": "rumTuV1dX52V",
        "outputId": "80d276b3-8ea0-4eb8-f95f-cc0cc5e1baad"
      },
      "source": [
        "from google.colab import files\n",
        "files.upload()\n"
      ],
      "execution_count": null,
      "outputs": [
        {
          "output_type": "display_data",
          "data": {
            "text/html": [
              "\n",
              "     <input type=\"file\" id=\"files-babea3eb-e334-4739-8ed7-9f71d9dcb31f\" name=\"files[]\" multiple disabled\n",
              "        style=\"border:none\" />\n",
              "     <output id=\"result-babea3eb-e334-4739-8ed7-9f71d9dcb31f\">\n",
              "      Upload widget is only available when the cell has been executed in the\n",
              "      current browser session. Please rerun this cell to enable.\n",
              "      </output>\n",
              "      <script src=\"/nbextensions/google.colab/files.js\"></script> "
            ],
            "text/plain": [
              "<IPython.core.display.HTML object>"
            ]
          },
          "metadata": {
            "tags": []
          }
        },
        {
          "output_type": "stream",
          "text": [
            "Saving HELLO (1).xlsx to HELLO (1).xlsx\n"
          ],
          "name": "stdout"
        },
        {
          "output_type": "execute_result",
          "data": {
            "text/plain": [
              "{'HELLO (1).xlsx': b'PK\\x03\\x04\\x14\\x00\\x06\\x00\\x08\\x00\\x00\\x00!\\x00\\xa7\\x95\\xf9\\x99\\x84\\x01\\x00\\x00\\x14\\x06\\x00\\x00\\x13\\x00\\xdd\\x01[Content_Types].xml \\xa2\\xd9\\x01(\\xa0\\x00\\x02\\x00\\x00\\x00\\x00\\x00\\x00\\x00\\x00\\x00\\x00\\x00\\x00\\x00\\x00\\x00\\x00\\x00\\x00\\x00\\x00\\x00\\x00\\x00\\x00\\x00\\x00\\x00\\x00\\x00\\x00\\x00\\x00\\x00\\x00\\x00\\x00\\x00\\x00\\x00\\x00\\x00\\x00\\x00\\x00\\x00\\x00\\x00\\x00\\x00\\x00\\x00\\x00\\x00\\x00\\x00\\x00\\x00\\x00\\x00\\x00\\x00\\x00\\x00\\x00\\x00\\x00\\x00\\x00\\x00\\x00\\x00\\x00\\x00\\x00\\x00\\x00\\x00\\x00\\x00\\x00\\x00\\x00\\x00\\x00\\x00\\x00\\x00\\x00\\x00\\x00\\x00\\x00\\x00\\x00\\x00\\x00\\x00\\x00\\x00\\x00\\x00\\x00\\x00\\x00\\x00\\x00\\x00\\x00\\x00\\x00\\x00\\x00\\x00\\x00\\x00\\x00\\x00\\x00\\x00\\x00\\x00\\x00\\x00\\x00\\x00\\x00\\x00\\x00\\x00\\x00\\x00\\x00\\x00\\x00\\x00\\x00\\x00\\x00\\x00\\x00\\x00\\x00\\x00\\x00\\x00\\x00\\x00\\x00\\x00\\x00\\x00\\x00\\x00\\x00\\x00\\x00\\x00\\x00\\x00\\x00\\x00\\x00\\x00\\x00\\x00\\x00\\x00\\x00\\x00\\x00\\x00\\x00\\x00\\x00\\x00\\x00\\x00\\x00\\x00\\x00\\x00\\x00\\x00\\x00\\x00\\x00\\x00\\x00\\x00\\x00\\x00\\x00\\x00\\x00\\x00\\x00\\x00\\x00\\x00\\x00\\x00\\x00\\x00\\x00\\x00\\x00\\x00\\x00\\x00\\x00\\x00\\x00\\x00\\x00\\x00\\x00\\x00\\x00\\x00\\x00\\x00\\x00\\x00\\x00\\x00\\x00\\x00\\x00\\x00\\x00\\x00\\x00\\x00\\x00\\x00\\x00\\x00\\x00\\x00\\x00\\x00\\x00\\x00\\x00\\x00\\x00\\x00\\x00\\x00\\x00\\x00\\x00\\x00\\x00\\x00\\x00\\x00\\x00\\x00\\x00\\x00\\x00\\x00\\x00\\x00\\x00\\x00\\x00\\x00\\x00\\x00\\x00\\x00\\x00\\x00\\x00\\x00\\x00\\x00\\x00\\x00\\x00\\x00\\x00\\x00\\x00\\x00\\x00\\x00\\x00\\x00\\x00\\x00\\x00\\x00\\x00\\x00\\x00\\x00\\x00\\x00\\x00\\x00\\x00\\x00\\x00\\x00\\x00\\x00\\x00\\x00\\x00\\x00\\x00\\x00\\x00\\x00\\x00\\x00\\x00\\x00\\x00\\x00\\x00\\x00\\x00\\x00\\x00\\x00\\x00\\x00\\x00\\x00\\x00\\x00\\x00\\x00\\x00\\x00\\x00\\x00\\x00\\x00\\x00\\x00\\x00\\x00\\x00\\x00\\x00\\x00\\x00\\x00\\x00\\x00\\x00\\x00\\x00\\x00\\x00\\x00\\x00\\x00\\x00\\x00\\x00\\x00\\x00\\x00\\x00\\x00\\x00\\x00\\x00\\x00\\x00\\x00\\x00\\x00\\x00\\x00\\x00\\x00\\x00\\x00\\x00\\x00\\x00\\x00\\x00\\x00\\x00\\x00\\x00\\x00\\x00\\x00\\x00\\x00\\x00\\x00\\x00\\x00\\x00\\x00\\x00\\x00\\x00\\x00\\x00\\x00\\x00\\x00\\x00\\x00\\x00\\x00\\x00\\x00\\x00\\x00\\x00\\x00\\x00\\x00\\x00\\x00\\x00\\x00\\x00\\x00\\x00\\x00\\x00\\x00\\x00\\x00\\x00\\x00\\x00\\x00\\x00\\x00\\x00\\x00\\x00\\x00\\x00\\x00\\x00\\x00\\x00\\x00\\x00\\x00\\x00\\x00\\x00\\x00\\x00\\x00\\x00\\x00\\x00\\x00\\x00\\x00\\x00\\x00\\xccT\\xc9n\\xc20\\x10\\xbdW\\xea?D\\xbeV\\xc4@\\xa5\\xaa\\xaa\\x128t9\\xb6H\\xd0\\x0f0\\xf1@,\\x12\\xdb\\xf2\\x0c\\x14\\xfe\\xbe\\x93PP\\xa9\\xd2H4\\x1czI\\x94\\xc5o\\x9bg\\'\\xe3mYD\\x1b\\x08h\\x9cM\\xc5 \\xee\\x8b\\x08l\\xe6\\xb4\\xb1\\xcbT\\xbc\\xcf^z\\xf7\"BRV\\xab\\xc2YH\\xc5\\x0eP\\x8cG\\xd7W\\xc9l\\xe7\\x01#^m1\\x159\\x91\\x7f\\x90\\x12\\xb3\\x1cJ\\x85\\xb1\\xf3`\\xf9\\xcb\\xc2\\x85R\\x11?\\x86\\xa5\\xf4*[\\xa9%\\xc8a\\xbf\\x7f\\'3g\\t,\\xf5\\xa8\\xc2\\x10\\xa3\\xe4\\t\\x16j]P\\xf4\\xbc\\xe5\\xd7{%scE\\xf4\\xb8\\xff\\xaf\\xa2J\\x85\\xf2\\xbe0\\x99\"\\x16*7V\\xff \\xe9\\xb9\\xc5\\xc2d\\xa0]\\xb6.\\x19:F\\x1f@i\\xcc\\x01\\xa8,b\\x1f\\x0c3\\x86)\\x10\\xb11\\x14r\\x94\\xbc\\xb1\\xe9`4D\\x13\\x15\\xe8U\\x95\\xcc \\xb7\\x85$v\\x00\\xfb\\xeb f\\x0f\\x9dD\\xd4`7\\x15\\xca\\xef\\x84H\\xbb\\x02\\xb03\\xd5\\xa9\\xdf=\\xe8\\x81\\xb9!\\xde\\x00\\x05\\x9eg\\xedk\\x801\\xaf\\xacg\\x80\\xb9\\xf1\\xd8\\xc2\\xd0\\x9e]{&\\x1f.\\xac\\xe6\\xce\\xad.\\x9dJ\\xd5\\x86\\xb8T\\xc6\\x1et7\\x95\\x80+4\\t\\xce\\xa3\\xe4\\xc2u\\x16\\x00U\\xa35\\xe8\\x9egH\\x08d\\xe0\\x98Y\\x137\\x17\\xb0\\xf2^\\xd7\\x16e}\\x1bv\\xd6pZ\\x8d#~[\\x06\\r:n\\xff\\x89\\x8e\\xee\\xbb\\xf2oy`\\xae\\x02\\xe8)\\xf1I\\xb2\\xbc\\xf8v\\xfd\\x8e\\xdd6\\x97c73\\x17\\xe0\\xfc\\x81\\x1c\\xf6p\\xb5\\xba\\xa1\\x91\\xb2>\\xd3G\\x9f\\x00\\x00\\x00\\xff\\xff\\x03\\x00PK\\x03\\x04\\x14\\x00\\x06\\x00\\x08\\x00\\x00\\x00!\\x00\\xb5U0#\\xf5\\x00\\x00\\x00L\\x02\\x00\\x00\\x0b\\x00\\xce\\x01_rels/.rels \\xa2\\xca\\x01(\\xa0\\x00\\x02\\x00\\x00\\x00\\x00\\x00\\x00\\x00\\x00\\x00\\x00\\x00\\x00\\x00\\x00\\x00\\x00\\x00\\x00\\x00\\x00\\x00\\x00\\x00\\x00\\x00\\x00\\x00\\x00\\x00\\x00\\x00\\x00\\x00\\x00\\x00\\x00\\x00\\x00\\x00\\x00\\x00\\x00\\x00\\x00\\x00\\x00\\x00\\x00\\x00\\x00\\x00\\x00\\x00\\x00\\x00\\x00\\x00\\x00\\x00\\x00\\x00\\x00\\x00\\x00\\x00\\x00\\x00\\x00\\x00\\x00\\x00\\x00\\x00\\x00\\x00\\x00\\x00\\x00\\x00\\x00\\x00\\x00\\x00\\x00\\x00\\x00\\x00\\x00\\x00\\x00\\x00\\x00\\x00\\x00\\x00\\x00\\x00\\x00\\x00\\x00\\x00\\x00\\x00\\x00\\x00\\x00\\x00\\x00\\x00\\x00\\x00\\x00\\x00\\x00\\x00\\x00\\x00\\x00\\x00\\x00\\x00\\x00\\x00\\x00\\x00\\x00\\x00\\x00\\x00\\x00\\x00\\x00\\x00\\x00\\x00\\x00\\x00\\x00\\x00\\x00\\x00\\x00\\x00\\x00\\x00\\x00\\x00\\x00\\x00\\x00\\x00\\x00\\x00\\x00\\x00\\x00\\x00\\x00\\x00\\x00\\x00\\x00\\x00\\x00\\x00\\x00\\x00\\x00\\x00\\x00\\x00\\x00\\x00\\x00\\x00\\x00\\x00\\x00\\x00\\x00\\x00\\x00\\x00\\x00\\x00\\x00\\x00\\x00\\x00\\x00\\x00\\x00\\x00\\x00\\x00\\x00\\x00\\x00\\x00\\x00\\x00\\x00\\x00\\x00\\x00\\x00\\x00\\x00\\x00\\x00\\x00\\x00\\x00\\x00\\x00\\x00\\x00\\x00\\x00\\x00\\x00\\x00\\x00\\x00\\x00\\x00\\x00\\x00\\x00\\x00\\x00\\x00\\x00\\x00\\x00\\x00\\x00\\x00\\x00\\x00\\x00\\x00\\x00\\x00\\x00\\x00\\x00\\x00\\x00\\x00\\x00\\x00\\x00\\x00\\x00\\x00\\x00\\x00\\x00\\x00\\x00\\x00\\x00\\x00\\x00\\x00\\x00\\x00\\x00\\x00\\x00\\x00\\x00\\x00\\x00\\x00\\x00\\x00\\x00\\x00\\x00\\x00\\x00\\x00\\x00\\x00\\x00\\x00\\x00\\x00\\x00\\x00\\x00\\x00\\x00\\x00\\x00\\x00\\x00\\x00\\x00\\x00\\x00\\x00\\x00\\x00\\x00\\x00\\x00\\x00\\x00\\x00\\x00\\x00\\x00\\x00\\x00\\x00\\x00\\x00\\x00\\x00\\x00\\x00\\x00\\x00\\x00\\x00\\x00\\x00\\x00\\x00\\x00\\x00\\x00\\x00\\x00\\x00\\x00\\x00\\x00\\x00\\x00\\x00\\x00\\x00\\x00\\x00\\x00\\x00\\x00\\x00\\x00\\x00\\x00\\x00\\x00\\x00\\x00\\x00\\x00\\x00\\x00\\x00\\x00\\x00\\x00\\x00\\x00\\x00\\x00\\x00\\x00\\x00\\x00\\x00\\x00\\x00\\x00\\x00\\x00\\x00\\x00\\x00\\x00\\x00\\x00\\x00\\x00\\x00\\x00\\x00\\x00\\x00\\x00\\x00\\x00\\x00\\x00\\x00\\x00\\x00\\x00\\x00\\x00\\x00\\x00\\x00\\x00\\x00\\x00\\x00\\x00\\x00\\x00\\x00\\x00\\x00\\x00\\x00\\x00\\x00\\x00\\x00\\x00\\x00\\x00\\x00\\x00\\x00\\x00\\x00\\x00\\x00\\x00\\x00\\x00\\x00\\x00\\x00\\x00\\x00\\x00\\x00\\x00\\x00\\x00\\x00\\x00\\x00\\x00\\x00\\x00\\x00\\x8c\\x92\\xcfN\\xc30\\x0c\\xc6\\xefH\\xbcC\\xe4\\xfb\\xeanH\\x08\\xa1\\xa5\\xbbLH\\xbb!T\\x1e\\xc0$\\xee\\x1f\\xb5\\x8d\\xa3$@\\xf7\\xf6\\x84\\x03\\x82Jc\\xdb\\xd1\\xf6\\xe7\\xcf?[\\xde\\xee\\xe6iT\\x1f\\x1cb/N\\xc3\\xba(A\\xb13b{\\xd7jx\\xad\\x9fV\\x0f\\xa0b\"gi\\x14\\xc7\\x1a\\x8e\\x1caW\\xdd\\xdel_x\\xa4\\x94\\x9bb\\xd7\\xfb\\xa8\\xb2\\x8b\\x8b\\x1a\\xba\\x94\\xfc#b4\\x1dO\\x14\\x0b\\xf1\\xecr\\xa5\\x910Q\\xcaah\\xd1\\x93\\x19\\xa8e\\xdc\\x94\\xe5=\\x86\\xbf\\x1eP-<\\xd5\\xc1j\\x08\\x07{\\x07\\xaa>\\xfa<\\xf9\\xb2\\xb74Mox/\\xe6}b\\x97N\\x8c@\\x9e\\x13;\\xcbv\\xe5Cf\\x0b\\xa9\\xcf\\xdb\\xa8\\x9aB\\xcbI\\x83\\x15\\xf3\\x9c\\xd3\\x11\\xc9\\xfb\"c\\x03\\x9e&\\xda\\\\O\\xf4\\xff\\xb68q\"K\\x89\\xd0H\\xe0\\xf3<\\xdf\\x8as@\\xeb\\xeb\\x81.\\x9fh\\xa9\\xf8\\xbd\\xce<\\xe2\\xa7\\x84\\xe1Md\\xf8a\\xc1\\xc5\\x0fT_\\x00\\x00\\x00\\xff\\xff\\x03\\x00PK\\x03\\x04\\x14\\x00\\x06\\x00\\x08\\x00\\x00\\x00!\\x00\\xde\\t\\xfd(\\x02\\x01\\x00\\x00\\xd4\\x03\\x00\\x00\\x1a\\x00\\x08\\x01xl/_rels/workbook.xml.rels \\xa2\\x04\\x01(\\xa0\\x00\\x01\\x00\\x00\\x00\\x00\\x00\\x00\\x00\\x00\\x00\\x00\\x00\\x00\\x00\\x00\\x00\\x00\\x00\\x00\\x00\\x00\\x00\\x00\\x00\\x00\\x00\\x00\\x00\\x00\\x00\\x00\\x00\\x00\\x00\\x00\\x00\\x00\\x00\\x00\\x00\\x00\\x00\\x00\\x00\\x00\\x00\\x00\\x00\\x00\\x00\\x00\\x00\\x00\\x00\\x00\\x00\\x00\\x00\\x00\\x00\\x00\\x00\\x00\\x00\\x00\\x00\\x00\\x00\\x00\\x00\\x00\\x00\\x00\\x00\\x00\\x00\\x00\\x00\\x00\\x00\\x00\\x00\\x00\\x00\\x00\\x00\\x00\\x00\\x00\\x00\\x00\\x00\\x00\\x00\\x00\\x00\\x00\\x00\\x00\\x00\\x00\\x00\\x00\\x00\\x00\\x00\\x00\\x00\\x00\\x00\\x00\\x00\\x00\\x00\\x00\\x00\\x00\\x00\\x00\\x00\\x00\\x00\\x00\\x00\\x00\\x00\\x00\\x00\\x00\\x00\\x00\\x00\\x00\\x00\\x00\\x00\\x00\\x00\\x00\\x00\\x00\\x00\\x00\\x00\\x00\\x00\\x00\\x00\\x00\\x00\\x00\\x00\\x00\\x00\\x00\\x00\\x00\\x00\\x00\\x00\\x00\\x00\\x00\\x00\\x00\\x00\\x00\\x00\\x00\\x00\\x00\\x00\\x00\\x00\\x00\\x00\\x00\\x00\\x00\\x00\\x00\\x00\\x00\\x00\\x00\\x00\\x00\\x00\\x00\\x00\\x00\\x00\\x00\\x00\\x00\\x00\\x00\\x00\\x00\\x00\\x00\\x00\\x00\\x00\\x00\\x00\\x00\\x00\\x00\\x00\\x00\\x00\\x00\\x00\\x00\\x00\\x00\\x00\\x00\\x00\\x00\\x00\\x00\\x00\\x00\\x00\\x00\\x00\\x00\\x00\\x00\\x00\\x00\\x00\\x00\\x00\\x00\\x00\\x00\\x00\\x00\\x00\\x00\\x00\\x00\\x00\\x00\\x00\\x00\\x00\\x00\\x00\\x00\\x00\\x00\\x00\\x00\\xbc\\x93\\xcfj\\xc30\\x0c\\xc6\\xef\\x83\\xbd\\x83\\xd1}q\\x92ne\\x94:\\xbd\\x8cA\\xaf[\\xf7\\x00&Q\\xe2\\xd0\\xc46\\x96\\xf6\\'o?\\x93C\\xba@\\xc9.\\xa1\\x17\\x83$\\xfc}?\\xd0\\xa7\\xfd\\xe1\\xa7\\xef\\xc4\\x17\\x06j\\x9dU\\x90%)\\x08\\xb4\\xa5\\xabZ\\xdb(\\xf88\\xbd><\\x83 \\xd6\\xb6\\xd2\\x9d\\xb3\\xa8`@\\x82Cq\\x7f\\xb7\\x7f\\xc3Ns\\xfcD\\xa6\\xf5$\\xa2\\x8a%\\x05\\x86\\xd9\\xef\\xa4\\xa4\\xd2`\\xaf)q\\x1em\\x9c\\xd4.\\xf4\\x9ac\\x19\\x1a\\xe9uy\\xd6\\r\\xca<M\\xb72\\xfc\\xd5\\x80b\\xa6)\\x8e\\x95\\x82p\\xac6 N\\x83\\x8f\\xce\\xffk\\xbb\\xbanK|q\\xe5g\\x8f\\x96\\xafX\\xc8o\\x17\\xced\\x109\\x8a\\xea\\xd0 +\\x98Z$\\xc7\\xc9&\\x89\\xc4 \\xaf\\xc3\\xe47\\x86\\xc9\\x97`\\xb2\\x1b\\xc3dK0\\xdb5a\\xc8\\xe8\\x80\\xd5;\\x87\\x98B\\xba\\xacj\\xd6^\\x82yZ\\x15\\x86\\x87.\\x86~\\n\\x0c\\x8d\\xf5\\x92\\xfd\\xe3\\x9a\\xf6\\x1cO\\t/\\xeec)\\xc7w\\xda\\x87\\x9c\\xddb\\xf1\\x0b\\x00\\x00\\xff\\xff\\x03\\x00PK\\x03\\x04\\x14\\x00\\x06\\x00\\x08\\x00\\x00\\x00!\\x00\\xb2M!\\xf7h\\x01\\x00\\x00\\x83\\x02\\x00\\x00\\x0f\\x00\\x00\\x00xl/workbook.xml\\x8cR\\xcbn\\xc20\\x10\\xbcW\\xea?X\\xbe\\x97<\\x08\\x88\"\\x12\\xa4\\xaa\\xad\\xca\\xa5B*\\x85\\xb3\\x1bo\\x88\\x85cG\\xb6C\\xe0\\xef\\xbb6\\xe2Q\\xb5\\x87\\x9e\\xbc\\x8f\\xc9\\xec\\xcc(\\xb3\\xf9\\xa1\\x91d\\x0f\\xc6\\n\\xadr\\x9a\\x0cbJ@\\x95\\x9a\\x0b\\xb5\\xcd\\xe9\\xe7\\xea\\xf5aB\\x89uLq&\\xb5\\x82\\x9c\\x1e\\xc1\\xd2yq\\x7f7\\xeb\\xb5\\xd9}i\\xbd#H\\xa0lNk\\xe7\\xdai\\x14\\xd9\\xb2\\x86\\x86\\xd9\\x81nA\\xe1\\xa6\\xd2\\xa6a\\x0e[\\xb3\\x8dlk\\x80q[\\x03\\xb8FFi\\x1c\\x8f\\xa3\\x86\\tEO\\x0cS\\xf3\\x1f\\x0e]U\\xa2\\x84g]v\\r(w\"1 \\x99C\\xf9\\xb6\\x16\\xad\\xa5\\xc5\\xac\\x12\\x12\\xd6\\'G\\x84\\xb5\\xed;kP\\xf7AR\"\\x99u/\\\\8\\xe09\\xcd\\xb0\\xd5=\\xfc\\x18\\x98\\xae}\\xea\\x84\\xf4\\xdbQ<\\xa2Qq1\\xb94\\x04Y\\x1d\\x98\\xa5\\x11{V\\x1e1)J8T\\xac\\x93n\\x85\\x86\\xcf\\xf7p\\x9efi:\\xf6\\xdf\\xfap\\xd6\\x02z{\\xa5\\xf1-9l\\x84\\xe2\\xba\\xcfi\\x9aa\\xd8\\xc7s\\x97\\xe0E\\xd2\\x87\\xd5FpW#U6\\xb9\\xce\\xde@lk\\x97\\xd3I\\x9c\\xc4\\x9e=\\xba\\xa1\\x0f\\x91\\xe2\\x99\\xf0\\x12\\x15\\xfc~\\xf8\\x98Qd\\x98-\\xd0\\x12\\xd6f*\\xb00\\x0b\\x9ex\\x86_\\xe8\\xf4\\x06\\x8d\\xf5\\x05\\x9d\\xfe\\x89\\x1e\\xde\\xa0\\xb1\\xbe\\xa0\\x87A] GI%\\x93%\\x86\\xe7\\x9f \"\\xcdF\\xc9c@\\x9c\\xff\\x9f\\xe2\\x1b\\x00\\x00\\xff\\xff\\x03\\x00PK\\x03\\x04\\x14\\x00\\x06\\x00\\x08\\x00\\x00\\x00!\\x00\\xe9\\xa6%\\xb8\\x82\\x06\\x00\\x00S\\x1b\\x00\\x00\\x13\\x00\\x00\\x00xl/theme/theme1.xml\\xecYOo\\xdb6\\x14\\xbf\\x0f\\xd8w tom\\'\\xb6\\x1b\\x07u\\x8a\\xd8\\xb1\\x9b\\xadM\\x1b\\xc4n\\x87\\x1ei\\x99\\x96XS\\xa2@\\xd2I}\\x1b\\xda\\xe3\\x80\\x01\\xc3\\xbaa\\x97\\x01\\xbb\\xed0l+\\xd0\\x02\\xbbt\\x9f&[\\x87\\xad\\x03\\xfa\\x15\\xf6HJ\\xb2\\x18\\xcbK\\xd2\\x06\\x1b\\xd6\\xd5\\x87D\"\\x7f|\\xff\\xdf\\xe3#u\\xf5\\xda\\x83\\x88\\xa1C\"$\\xe5q\\xdb\\xab]\\xaez\\x88\\xc4>\\x1f\\xd38h{w\\x86\\xfdK\\x1b\\x1e\\x92\\n\\xc7c\\xccxL\\xda\\xde\\x9cH\\xef\\xda\\xd6\\xfb\\xef]\\xc5\\x9b*$\\x11A\\xb0>\\x96\\x9b\\xb8\\xed\\x85J%\\x9b\\x95\\x8a\\xf4a\\x18\\xcb\\xcb<!1\\xccM\\xb8\\x88\\xb0\\x82W\\x11T\\xc6\\x02\\x1f\\x01\\xdd\\x88U\\xd6\\xaa\\xd5f%\\xc24\\xf6P\\x8c# {{2\\xa1>ACM\\xd2\\xdb\\xca\\x88\\xf7\\x18\\xbc\\xc6J\\xea\\x01\\x9f\\x89\\x81&M\\x9c\\x15\\x06;\\x9e\\xd64B\\xcee\\x97\\tt\\x88Y\\xdb\\x03>c~4$\\x0f\\x94\\x87\\x18\\x96\\n&\\xda^\\xd5\\xfc\\xbc\\xca\\xd6\\xd5\\n\\xdeL\\x171\\xb5bma]\\xdf\\xfc\\xd2u\\xe9\\x82\\xf1t\\xcd\\xf0\\x14\\xc1(gZ\\xeb\\xd7[Wvr\\xfa\\x06\\xc0\\xd42\\xae\\xd7\\xebu{\\xb5\\x9c\\x9e\\x01`\\xdf\\x07M\\xad,E\\x9a\\xf5\\xfeF\\xad\\x93\\xd1,\\x80\\xec\\xe32\\xedn\\xb5Q\\xad\\xbb\\xf8\\x02\\xfd\\xf5%\\x99[\\x9dN\\xa7\\xd1Je\\xb1D\\r\\xc8>\\xd6\\x97\\xf0\\x1b\\xd5f}{\\xcd\\xc1\\x1b\\x90\\xc57\\x96\\xf0\\xf5\\xcev\\xb7\\xdbt\\xf0\\x06d\\xf1\\xcd%|\\xffJ\\xabYw\\xf1\\x06\\x142\\x1aO\\x97\\xd0\\xda\\xa1\\xfd~J=\\x87L8\\xdb-\\x85o\\x00|\\xa3\\x9a\\xc2\\x17(\\x88\\x86<\\xba4\\x8b\\t\\x8f\\xd5\\xaaX\\x8b\\xf0}.\\xfa\\x00\\xd0@\\x86\\x15\\x8d\\x91\\x9a\\'d\\x82}\\x88\\xe2.\\x8eF\\x82b\\xcd\\x00o\\x12\\\\\\x98\\xb1C\\xbe\\\\\\x1a\\xd2\\xbc\\x90\\xf4\\x05MT\\xdb\\xfb0\\xc1\\x90\\x11\\x0bz\\xaf\\x9e\\x7f\\xff\\xea\\xf9S\\xf4\\xea\\xf9\\x93\\xe3\\x87\\xcf\\x8e\\x1f\\xfet\\xfc\\xe8\\xd1\\xf1\\xc3\\x1f--g\\xe1.\\x8e\\x83\\xe2\\xc2\\x97\\xdf~\\xf6\\xe7\\xd7\\x1f\\xa3?\\x9e~\\xf3\\xf2\\xf1\\x17\\xe5xY\\xc4\\xff\\xfa\\xc3\\'\\xbf\\xfc\\xfcy9\\x102h!\\xd1\\x8b/\\x9f\\xfc\\xf6\\xec\\xc9\\x8b\\xaf>\\xfd\\xfd\\xbb\\xc7%\\xf0m\\x81GE\\xf8\\x90FD\\xa2[\\xe4\\x08\\x1d\\xf0\\x08t3\\x86q%\\'#q\\xbe\\x15\\xc3\\x10Sg\\x05\\x0e\\x81v\\t\\xe9\\x9e\\n\\x1d\\xe0\\xad9fe\\xb8\\x0eq\\x8dwW@\\xf1(\\x03^\\x9f\\xddwd\\x1d\\x84b\\xa6h\\t\\xe7\\x1ba\\xe4\\x00\\xf78g\\x1d.J\\rpC\\xf3*Xx8\\x8b\\x83r\\xe6bV\\xc4\\x1d`|X\\xc6\\xbb\\x8bc\\xc7\\xb5\\xbdY\\x02U3\\x0bJ\\xc7\\xf6\\xdd\\x908b\\xee3\\x1c+\\x1c\\x90\\x98(\\xa4\\xe7\\xf8\\x94\\x90\\x12\\xed\\xeeQ\\xea\\xd8u\\x8f\\xfa\\x82K>Q\\xe8\\x1eE\\x1dLKM2\\xa4#\\'\\x90\\x16\\x8bvi\\x04~\\x99\\x97\\xe9\\x0c\\xaevl\\xb3w\\x17u8+\\xd3z\\x87\\x1c\\xbaHH\\x08\\xccJ\\x84\\x1f\\x12\\xe6\\x98\\xf1:\\x9e)\\x1c\\x95\\x91\\x1c\\xe2\\x88\\x15\\r~\\x13\\xab\\xb0L\\xc8\\xc1\\\\\\xf8E\\\\O*\\xf0t@\\x18G\\xbd1\\x91\\xb2l\\xcdm\\x01\\xfa\\x16\\x9c~\\x03C\\xbd*u\\xfb\\x1e\\x9bG.R(:-\\xa3y\\x13s^D\\xee\\xf0i7\\xc4QR\\x86\\x1d\\xd08,b?\\x90S\\x08Q\\x8c\\xf6\\xb9*\\x83\\xefq7C\\xf4;\\xf8\\x01\\xc7+\\xdd}\\x97\\x12\\xc7\\xdd\\xa7\\x17\\x82;4pDZ\\x04\\x88\\x9e\\x99\\t\\xedK(\\xd4N\\xfd\\x8dh\\xfcw\\xc5\\x98Q\\xa8\\xc66\\x06\\xde\\x15\\xe3\\xb6\\xb7\\r[SYJ\\xec\\x9e(\\xc1\\xabp\\xff\\xc1\\xc2\\xbb\\x83g\\xf1>\\x81X_\\xdex\\xde\\xd5\\xddwu\\xd7{\\xeb\\xeb\\xee\\xaa\\\\>k\\xb5]\\x14X\\xa8\\xbd\\xbay\\xb0}\\xb1\\xe9\\x92\\xa3\\x95M\\xf2\\x8426PsFnJ\\xd3\\'K\\xd8,\\xc6}\\x18\\xd4\\xeb\\xcc\\x01\\x91\\xe4\\x87\\xa6$\\x84\\xc7\\xb4\\xb8;\\xb8@`\\xb3\\x06\\t\\xae>\\xa2*\\x1c\\x848\\x81\\x1e\\xbb\\xe6i\"\\x81LI\\x07\\x12%\\\\\\xc2\\xd9\\xce\\x0c\\x97\\xd2\\xd6x\\xe8\\xd3\\x95=\\x196\\xf4\\x99\\xc1\\xd6\\x03\\x89\\xd5\\x1e\\x1f\\xdb\\xe1u=\\x9c\\x1d\\rr2f\\xcb\\t\\xcc\\xf93c\\xb4\\xae\\t\\x9c\\x95\\xd9\\xfa\\x95\\x94(\\xa8\\xfd:\\xccjZ\\xa83s\\xab\\x19\\xd1L\\xa9s\\xb8\\xe5*\\x83\\x0f\\x97U\\x83\\xc1\\xdc\\x9a\\xd0\\x85 \\xe8]\\xc0\\xcaM8\\xa2k\\xd6p6\\xc1\\x8c\\x8c\\xb5\\xdd\\xed\\x06\\x9c\\xb9\\xc5x\\xe1\"]$C<&\\xa9\\x8f\\xb4\\xde\\xcb>\\xaa\\x19\\'e\\xb1b.\\x03 vJ|\\xa4\\xcfy\\xa7X\\xad\\xc0\\xad\\xa5\\xc9\\xbe\\x01\\xb7\\xb38\\xa9\\xc8\\xae\\xbe\\x82]\\xe6\\xbd7\\xf1R\\x16\\xc1\\x0b/\\xe9\\xbc=\\x91\\x8e,.&\\'\\x8b\\xd1Q\\xdbk5\\xd6\\x1a\\x1e\\xf2q\\xd2\\xf6&p\\xac\\x85\\xc7(\\x01\\xafK\\xdd\\xf8a\\x16\\xc0\\xdd\\x90\\xaf\\x84\\r\\xfbS\\x93\\xd9d\\xf9\\xc2\\x9b\\xadL17\\tjpSa\\xed\\xbe\\xa4\\xb0S\\x07\\x12!\\xd5\\x0e\\x96\\xa1\\r\\r3\\x95\\x86\\x00\\x8b5\\'+\\xffZ\\x03\\xcczQ\\n\\xd8H\\x7f\\r)\\xd67 \\x18\\xfe5)\\xc0\\x8e\\xaek\\xc9dB|UtvaD\\xdb\\xce\\xbe\\xa6\\xa5\\x94\\xcf\\x14\\x11\\x83p|\\x84Fl&\\x0e0\\xb8_\\x87*\\xe83\\xa6\\x12n\\'LE\\xd0/p\\x95\\xa6\\xadm\\xa6\\xdc\\xe2\\x9c&]\\xf1\\x02\\xcb\\xe0\\xec8fI\\x88\\xd3r\\xabS4\\xcbd\\x0b7y\\x9c\\xcb`\\xde\\n\\xe2\\x81n\\xa5\\xb2\\x1b\\xe5\\xce\\xaf\\x8aI\\xf9\\x0bR\\xa5\\x18\\xc6\\xff3U\\xf4~\\x02\\xd7\\x05\\xebc\\xed\\x01\\x1fnr\\x05F:_\\xdb\\x1e\\x17*\\xe4P\\x85\\x92\\x90\\xfa}\\x01\\x8d\\x83\\xa9\\x1d\\x10-p\\x1d\\x0b\\xd3\\x10Tp\\x9fl\\xfe\\x0br\\xa8\\xff\\xdb\\x9c\\xb34LZ\\xc3\\xa9O\\x1d\\xd0\\x00\\t\\n\\xfb\\x91\\n\\x05!\\xfbP\\x96L\\xf4\\x9dB\\xac\\x96\\xee]\\x96$K\\t\\x99\\x88*\\x88+\\x13+\\xf6\\x88\\x1c\\x126\\xd45\\xb0\\xa9\\xf7v\\x0f\\x85\\x10\\xea\\xa6\\x9a\\xa4e\\xc0\\xe0N\\xc6\\x9f\\xfb\\x9ef\\xd0(\\xd0MN1\\xdf\\x9c\\x1a\\x92\\xef\\xbd6\\x07\\xfe\\xe9\\xce\\xc7&3(\\xe5\\xd6a\\xd3\\xd0d\\xf6\\xcfE,\\xd9U\\xedz\\xb3<\\xdb{\\x8b\\x8a\\xe8\\x89E\\x9bU\\xcf\\xb2\\x02\\x98\\x15\\xb6\\x82V\\x9a\\xf6\\xaf)\\xc29\\xb7Z[\\xb1\\x964^kd\\xc2\\x81\\x17\\x975\\x86\\xc1\\xbc!J\\xe0\\xd2\\x07\\xe9?\\xb0\\xffQ\\xe13\\xfbqBo\\xa8C~\\x00\\xb5\\x15\\xc1\\xb7\\x06M\\x0c\\xc2\\x06\\xa2\\xfa\\x92m<\\x90.\\x90vp\\x04\\x8d\\x93\\x1d\\xb4\\xc1\\xa4IY\\xd3\\xa6\\xad\\x93\\xb6Z\\xb6Y_p\\xa7\\x9b\\xf3=al-\\xd9Y\\xfc}Nc\\xe7\\xcd\\x99\\xcb\\xce\\xc9\\xc5\\x8b4vja\\xc7\\xd6vl\\xa5\\xa9\\xc1\\xb3\\'S\\x14\\x86&\\xd9A\\xc68\\xc6|\\xd5*~x\\xe2\\xa3\\xfb\\xe0\\xe8\\x1d\\xb8\\xe2\\x9f1%M0\\xc1g%\\x81\\xa1\\xf5\\x1c\\x98<\\x80\\xe4\\xb7\\x1c\\xcd\\xd2\\xad\\xbf\\x00\\x00\\x00\\xff\\xff\\x03\\x00PK\\x03\\x04\\x14\\x00\\x06\\x00\\x08\\x00\\x00\\x00!\\x00;m2K\\xc1\\x00\\x00\\x00B\\x01\\x00\\x00#\\x00\\x00\\x00xl/worksheets/_rels/sheet1.xml.rels\\x84\\x8f\\xc1\\x8a\\xc20\\x14E\\xf7\\x03\\xfeCx{\\x93\\xd6\\x85\\x0cCS7\"\\xb8U\\xe7\\x03b\\xfa\\xda\\x06\\xdb\\x97\\x90\\xf7\\x14\\xfd{\\xb3\\x1ce\\xc0\\xe5\\xe5p\\xcf\\xe56\\x9b\\xfb<\\xa9\\x1bf\\x0e\\x91,\\xd4\\xba\\x02\\x85\\xe4c\\x17h\\xb0\\xf0{\\xda-\\xbfA\\xb18\\xea\\xdc\\x14\\t-<\\x90a\\xd3.\\xbe\\x9a\\x03NNJ\\x89\\xc7\\x90X\\x15\\x0b\\xb1\\x85Q$\\xfd\\x18\\xc3~\\xc4\\xd9\\xb1\\x8e\\t\\xa9\\x90>\\xe6\\xd9I\\x89y0\\xc9\\xf9\\x8b\\x1b\\xd0\\xac\\xaajm\\xf2_\\x07\\xb4/N\\xb5\\xef,\\xe4}W\\x83:=RY\\xfe\\xec\\x8e}\\x1f<n\\xa3\\xbf\\xceH\\xf2\\xcf\\x84I9\\x90`>\\xa2H9\\xc8E\\xed\\xf2\\x80bA\\xebw\\xf6\\x9ek}\\x0e\\x04\\xa6m\\xcc\\xcb\\xf3\\xf6\\t\\x00\\x00\\xff\\xff\\x03\\x00PK\\x03\\x04\\x14\\x00\\x06\\x00\\x08\\x00\\x00\\x00!\\x00\\xb8JK-\\x13\\x01\\x00\\x00\\xb7\\x01\\x00\\x00\\x18\\x00\\x00\\x00xl/worksheets/sheet2.xml\\x8cP\\xc1J\\xc40\\x10\\xbd\\x0b\\xfeC\\x98\\xbbMWY\\x95\\xa5\\xed\",\\x8b\\x1e\\x04\\x11\\xf5\\x9em\\'m\\xd8$\\x13\\x92YW\\xff\\xde\\xb4e\\x17\\xc1\\x8b\\xb7yyo^\\xe6\\xbdj\\xfd\\xe5\\xac\\xf8\\xc4\\x98\\x0c\\xf9\\x1a\\x16E\\t\\x02}K\\x9d\\xf1}\\r\\xefo\\xdb\\xab{\\x10\\x89\\x95\\xef\\x94%\\x8f5|c\\x82usyQ\\x1d)\\xee\\xd3\\x80\\xc8\";\\xf8T\\xc3\\xc0\\x1cVR\\xa6v@\\xa7RA\\x01}f4E\\xa78\\xc3\\xd8\\xcb\\x14\"\\xaanZrV^\\x97\\xe5\\xadt\\xcax\\x98\\x1dV\\xf1?\\x1e\\xa4\\xb5iqC\\xed\\xc1\\xa1\\xe7\\xd9$\\xa2U\\x9c\\xefO\\x83\\t\\t\\x9a\\xaa3\\x99\\x1b\\x03\\x89\\x88\\xba\\x86\\x87\\x05\\xc8\\xa6\\x9a\\xbe\\xfd0xL\\xbff1\\xa6\\xd8\\x11\\xedG\\xe2\\xa9\\xab\\xa1\\x1c\\xa5\\xf2\\x8fv;\\xa5x\\x89\\xa2C\\xad\\x0e\\x96_\\xe9\\xf8\\x88\\xa6\\x1f8W\\xb6<\\xbbo\\x14\\xab\\xbc\\x1eT\\x8f\\xcf*\\xf6\\xc6\\'aQgMY\\xdc\\x81\\x88\\xb3~\\x9a\\x99\\xc2\\xf4\\xba\\x04\\xb1#fr\\'4\\xe4\\x820\\x17Q\\x167 4\\x11\\x9f\\xc0x\\xd6\\xb9\\xf2\\xe6\\x07\\x00\\x00\\xff\\xff\\x03\\x00PK\\x03\\x04\\x14\\x00\\x06\\x00\\x08\\x00\\x00\\x00!\\x00\\xb8JK-\\x13\\x01\\x00\\x00\\xb7\\x01\\x00\\x00\\x18\\x00\\x00\\x00xl/worksheets/sheet3.xml\\x8cP\\xc1J\\xc40\\x10\\xbd\\x0b\\xfeC\\x98\\xbbMWY\\x95\\xa5\\xed\",\\x8b\\x1e\\x04\\x11\\xf5\\x9em\\'m\\xd8$\\x13\\x92YW\\xff\\xde\\xb4e\\x17\\xc1\\x8b\\xb7yyo^\\xe6\\xbdj\\xfd\\xe5\\xac\\xf8\\xc4\\x98\\x0c\\xf9\\x1a\\x16E\\t\\x02}K\\x9d\\xf1}\\r\\xefo\\xdb\\xab{\\x10\\x89\\x95\\xef\\x94%\\x8f5|c\\x82usyQ\\x1d)\\xee\\xd3\\x80\\xc8\";\\xf8T\\xc3\\xc0\\x1cVR\\xa6v@\\xa7RA\\x01}f4E\\xa78\\xc3\\xd8\\xcb\\x14\"\\xaanZrV^\\x97\\xe5\\xadt\\xcax\\x98\\x1dV\\xf1?\\x1e\\xa4\\xb5iqC\\xed\\xc1\\xa1\\xe7\\xd9$\\xa2U\\x9c\\xefO\\x83\\t\\t\\x9a\\xaa3\\x99\\x1b\\x03\\x89\\x88\\xba\\x86\\x87\\x05\\xc8\\xa6\\x9a\\xbe\\xfd0xL\\xbff1\\xa6\\xd8\\x11\\xedG\\xe2\\xa9\\xab\\xa1\\x1c\\xa5\\xf2\\x8fv;\\xa5x\\x89\\xa2C\\xad\\x0e\\x96_\\xe9\\xf8\\x88\\xa6\\x1f8W\\xb6<\\xbbo\\x14\\xab\\xbc\\x1eT\\x8f\\xcf*\\xf6\\xc6\\'aQgMY\\xdc\\x81\\x88\\xb3~\\x9a\\x99\\xc2\\xf4\\xba\\x04\\xb1#fr\\'4\\xe4\\x820\\x17Q\\x167 4\\x11\\x9f\\xc0x\\xd6\\xb9\\xf2\\xe6\\x07\\x00\\x00\\xff\\xff\\x03\\x00PK\\x03\\x04\\x14\\x00\\x06\\x00\\x08\\x00\\x00\\x00!\\x00\\xd3Pb\\xbf\\x03\\x06\\x00\\x00;\\x1a\\x00\\x00\\x18\\x00\\x00\\x00xl/worksheets/sheet1.xml\\x8c\\x99\\xdbn\\xe36\\x10\\x86\\xef\\x0b\\xf4\\x1d\\x04\\xdd\\xd76)9\\'\\xd8^,\\xb9Xt\\x81\\x16(\\x9a\\x1e\\xae\\x15\\x9b\\x8e\\x85\\xb5-WR\\x92m\\x9f~\\x87\\xa4CrFC\\xa07\\xddd\\xfe\\xa1>\\xcep\\xf8\\xd7\\xb1V\\x1f\\xbe\\x9d\\x8e\\xc5\\xab\\xe9\\x87\\xb6;\\xafK1[\\x94\\x859o\\xbb]{~^\\x97\\x7f\\xfe\\xf1\\xf9\\xa7\\xbb\\xb2\\x18\\xc6\\xe6\\xbck\\x8e\\xdd\\xd9\\xac\\xcb\\x7f\\xcdP~\\xd8\\xfc\\xf8\\xc3\\xea\\xad\\xeb\\xbf\\x0e\\x07c\\xc6\\x02\\x9ep\\x1e\\xd6\\xe5a\\x1c/\\x0f\\xf3\\xf9\\xb0=\\x98S3\\xcc\\xba\\x8b9\\x83\\xb2\\xef\\xfaS3\\xc2\\xaf\\xfd\\xf3|\\xb8\\xf4\\xa6\\xd9\\xb9E\\xa7\\xe3\\\\.\\x167\\xf3S\\xd3\\x9eK\\xff\\x84\\x87\\xfe\\xff<\\xa3\\xdb\\xef\\xdb\\xad\\xf9\\xd4m_N\\xe6<\\xfa\\x87\\xf4\\xe6\\xd8\\x8c\\xb0\\xff\\xe1\\xd0^\\x86r\\xb3\\xda\\xb5\\xa0\\xd9\\x82\\x8a\\xde\\xec\\xd7\\xe5G\\xf1\\xa0\\x97U9\\xdf\\xac\\x1c\\xfa\\xaf\\xd6\\xbc\\r\\xc9\\xcf\\xc5\\xd8<=\\x9a\\xa3\\xd9\\x8ef\\x07\\x1d(\\x8b\\xb1\\xbb\\xfcb\\xf6\\xa36\\xc7#,\\xae\\xa0#\\xb6\\xd6\\xa7\\xae\\xfbj\\x97~\\x81\\xa4\\x05@\\x06\\xb7\\xc4B\\x9a\\xed\\xd8\\xbe\\x1a\\x9f\\xfe\\xb9^B\\xbf\\xfeq\\\\\\xfb3@\\xe7\\x81\\x9a\\xfe\\xfc\\xbe\\x83\\xcf\\xae?\\xbf\\xf5\\xc5\\xce\\xec\\x9b\\x97\\xe3\\xf8{\\xf7\\xf6\\xb3i\\x9f\\x0f#l\\xc5-\\xdfvG\\xc8\\x85\\xff\\x16\\xa7\\x16NH\\x96\\xc5\\xa9\\xf9\\xe6\\xfe}kw\\xe3a]\\xd6\\xd5\\xac\\x96\\xcb\\xdb;!\\x01\\xbd}\\x19\\xc6\\xee\\xf4\\xb7W\\x84\\xc5\\x87\\x95\\xf5u%\\xfc{]y?\\x13\\xf5\\xe2\\x86_6\\xf7\\\\\\xb7\\xf7O\\xcd\\xd8lV}\\xf7V\\xc0\\x11A\\x83\\x86Kc\\x0f\\\\<T\\xd0\\x87\\xad\\r~\\xb4Q\\xb7)\\xd8\\xb7=\\x82\\xd7\\x8d\\x14\\xab\\xf9+T\\xbc\\xbd\\xa6(\\x9fb\\xfb\\xfb\\x9e\\xb2\\xc0\\x19z\\xfa\\x90\\xf8\\x8c9\\xe0\\xc3\\x1e\\xa0\\t\\xcc\\x1e\\xa4\\xe3\\xc6%ng\\nr\\x03P\\x12`\\xaaUAC\\xa8\\x8aE\\xd9\\xc2\\xa1\\xc4\\xb0\\xc4\\xa3 7\\x8bJ\\xb5\\x0c\\n\\x0e\\x86\\xa9\\xaav\\xa8\\xb8\\xc4\\xa3 7\\xa0j\\xbc\\r\\x9djq\\x1d\\xaa\\xca\\x0e\\xe9\\xf4\\x10\\x97\\x0eE\\x1e\\xa7 7\\x8bJ\\xb5\\x0c\\xea\\x86E\\xdd8\\xd4\\x12\\xef\\\\An\\x16\\x95j\\x19\\xd4-\\x8b\\xbau\\xa8\\x1b\\x82\\x82\\xdc,*\\xd52(\\xeb\\x8a\\xd3\\x06\\xde9\\xd4-AAn@\\x91\\x8au\\xaaeP\\xf7,\\xea\\xde\\xa1\\xee\\x08\\nr\\x03\\x8aT\\xacS-\\x83\\x12\\xe0uLY\\x10\\xb6\\xe3~O`6;\\xd0haH\\xcc\\xe1\\xec\\x85\\x9fvQ\\x08\\x87\\x13\\xc4\\x1e\\x14\\xc4#\\x8f4Y#1\\xc7\\xe3}C\\\\\\x8d\\x83:\\x07\\xc4#\\x8ftZ#1\\xc7\\xe3\\xcdCx\\xf7\\x10\\xd4> \\x1ey\\xa4\\xd9\\x1a\\x89Ik\\xd0\\xb5\\x16\\xbc\\x85@\\xd8\\x9e\\x9f\\x88\\xdb\\xf4&b\\xd3\\xc3\\x01\\nR\\xbeFj\\\\\\x8a\\x81\\xbc\\x91\\xc0\\xff\\xb9\\x1c\\x90Z\\t\\xc4\\x13 \\xa9_c5\\x9e>&\\xf2~\"\\xbc\\xa1\\x082\\x86\\n\\xe2\\t1V\\xe1\\x1a\\xa0\\xb1\\x1aw\\x8b\\x89\\xbc\\xad\\x08\\xef+\\x82\\\\3\\x05\\xf1\\x84H\\xf6\\xa3\\x91\\x1a\\xb7\\x83\\x81\\xbc\\xb9\\x08\\xef.\\x82L\\xbe\\x82x\\x02$\\xdb\\xd1X\\xcd5\\x95\\xf7\\x18\\xe1MF\\x90\\xd9W\\x10O\\x88d?\\x1a\\xab\\x99\\xa6J\\xdei \\xec\\x06\\x87L\\xbf\\xb2\\xe9qR\\xc9~4V35J\\xdel l\\x892\\xae\\xf2w\\xc3\\xa6G\"\\xd9\\x8f\\xc6j\\\\\\x8b\\xceQ\\xf2v\\x03aG$\\xf7M\\xd9\\xf4@\\xa4\\xfb\\xd1H\\xcd\\xdd\\x7f\\xc9\\x1b\\x0e\\x84\\x1d\\x91\\\\8e\\xd3\\x03QLjDj\\xaeF\\xdeq\\xa4w\\x1c\\x19\\'\\xfc\\xda\\xd5\\xd4q\\xa65\\xa6j\\xb6F\\xder\\xe0S\\xac\\xab1\\xce\\xdb\\x95\\x98Z\\x8e$\\x1d\\xd0\\xf6\\xb3o\\xe8@\\xb2[|\\x8e\\xbc\\xe5Ho9\\x92\\\\q\\x05\\xf1\\xe4\\x99d?\\x1a\\xa9\\xb1=\\x18\\xc8;\\x8e\\xf4\\x8e#\\xc9\\x15W\\x10O\\x80d;\\x1a\\xa99 \\xef8\\xd2;\\x8e$7\\\\A<\\x01\\x92\\xedh\\xa4\\xe6\\x80\\xbc\\xe1Ho8\\x92\\\\p\\x05\\xf1\\x0489D\\xa4f\\x88\\xf6\\xcf8\\xe6\\xb3\\x06\\x84\\xdd\\xd8\\x90\\xe1W6=\\x0e\\x06i\\x80FjnP+\\xdep l\\x89U\\xbcP~Pmz$\\x92\\x0eh\\xa4f\\x89\\xbc\\xe1T\\xdep*j8\\x10O\\x88\\xa4\\x03\\x1a\\xa9Y\"o8\\x957\\x9c\\x8a\\x9c\\x94\\x82x$\\xd2\\x0eh\\xa4f\\x89\\xbc\\xe1T\\xd7?\\x93\\xe2\\xe9_\\xbb\\x9aZ\\n\\xed\\x80\\x86Uq?Y\"o8\\x957\\x9c\\x8a\\\\p\\x05\\xf1\\xe4\\x99\\xa4\\x03\\x1a\\xabq\\x06\\xd0\\xfd\\xafx\\xc3\\x81\\xb0\\x9b\\x1cr\\xc3\\x95M\\x0f\\x93C{\\xae\\x91\\x9a\\xad\\x91w\\x9c\\xca;NE\\xae\\xb8\\x82xB$=\\xd7H\\xcd\\x12y\\xcb\\xa9\\xbc\\xe5T\\xe4\\xc6)\\x88\\'D\\xd2s\\x8d\\xd4\\x9c\\x8dW\\xbc\\xe7@\\xd8u\\x95\\xdc8e\\xd3CW\\xe9\\xa7<\\x8d\\xd4\\x1c\\xb1\\xe6=\\x07\\xc2\\x8eHn\\x9c\\xb2\\xe9\\x81X\\x91S\\xd6H\\xcd\\x12y\\xcf\\xa9\\xbd\\xe7\\xd4q\\xde\\xfc\\xed\\x80xB$\\xa7\\xac\\x91*b\\xcf\\xd1\\xac\\xd6\\xbc\\xe7@\\xd8\\xd6XS\\xcf\\xb1\\xe9\\xa1F\\xfa\\xc1R#5[#\\xef9\\xb5\\xf7\\x9c\\x9a\\xdc8\\x05\\xf1\\x84Hz\\xae\\x91\\x9a%\\xf2\\x9eS{\\xcf\\xa9\\xc9\\xfc+\\x88G\"\\x9dd\\x8d\\xd5\\xf0\\'5n*o9\\xf0}\\xa2kj<\\x8a\\xeb1\\xa6\\x96S\\x91A\\xd6\\xf6\\x1b\\xc9\\xd8\\xf2\\xb8\\x16\\x13y\\xcb\\xa9\\xbd\\xe5\\xd4d\\x18\\x15\\xc4\\xe33\\xa9\\x05j\\xa4\\xe6\\x0c\\xa0\\xe6-\\x07\\xc2\\xaeF2\\x8c\\xca\\xa6\\x87*\\x88\\xa8\\x91\\x18\\x8f\\x03W\\xc8\\x1bN\\xed\\r\\xa7\\xa6\\x86\\x03\\xf1\\xc8\\x93\\x93\\xb1I\\xd5l\\x85\\xbc\\xe1\\xd4\\xdepjrN\\n\\xe2\\x91H\\xbf\\x1c\\xd0X\\x8d\\x17\\x19\\xd5\\xb8\\xe4\\r\\x07\\xc2\\xae\\xa7\\xa4\\ne\\xd3CO\\'5\"5W\\xe3\\x927\\x1c\\x08[\\xe22\\xee\\xd3O\\xaaM\\x0f\\xc4I\\x8dX\\x8dkq\\x8d\\xbc\\xe1,\\xbd\\xe1,\\xa9\\xe1@<\\x12\\xa75\\xa6j\\xb6F\\xdep\\xe0\\x95\\x82\\xab\\x91\\x1a\\x0e\\xc4#qZ#Ri\\x8d\\xfe]\\x81\\xff\\xbe\\xfd\\xd2<\\x9b_\\x9b\\xfe\\xb9=\\x0f\\xc5\\x11\\xdeG\\xc0k\\x87\\x19\\\\\\x82\\xde\\xbf\\x1cp?\\xc3\\x9b\\n\\x17\\x85\\x1b\\xfe\\xd4\\x8d\\xf0\\xc5\\xff\\xfbo\\x07x\\xcfb\\xe0{\\xf9\\xc5\\x0cp\\xfb\\xae\\x1b\\xdf\\x7f\\x81\\x17\\x02\\xf6\\xb9\\x8ff|\\xb9\\x14\\x97\\xe6b\\xfa\\xc7\\xf6?x\\xad\\x03\\xb3\\xd7\\xf5-\\xbcQq/R\\xd6\\xe5\\xa5\\xeb\\xc7\\xbeiG\\xe0=\\xb4\\xbbu\\xd9\\x7f\\xd9\\xb9\\xb7\\t\\xf3\\xf0\\xdag\\xf3\\x1d\\x00\\x00\\xff\\xff\\x03\\x00PK\\x03\\x04\\x14\\x00\\x06\\x00\\x08\\x00\\x00\\x00!\\x00J\\xd8\\xd9\\xab\\xcd\\x01\\x00\\x00\\xc6\\x04\\x00\\x00\\x14\\x00\\x00\\x00xl/sharedStrings.xml\\x8cT]\\x8b\\xdb0\\x10|/\\xf4?\\x18\\xbd\\xe7\\x9c\\xb6\\xd0\\x8f\\xc3\\xf6\\x11\\x92\\\\\\x13hhir\\x94>\\x95\\x8d\\xbc\\xb1\\x97\\xca\\x92+\\xad\\xc3\\xa5\\xbf\\xfe\\xd6\\\\\\xa1AJJ\\xfdd\\xcd\\xcezgW\\x9e-\\xee\\x1e;\\x93\\x1d\\xd1\\x07r\\xb6T\\xafn\\xa6*C\\xab]M\\xb6)\\xd5\\xc3\\xee~\\xf2^e\\x81\\xc1\\xd6`\\x9c\\xc5R\\x9d0\\xa8\\xbb\\xea\\xe5\\x8b\"\\x04\\xce$\\xd7\\x86R\\xb5\\xcc\\xfdm\\x9e\\x07\\xddb\\x07\\xe1\\xc6\\xf5h%rp\\xbe\\x03\\x96\\xa3o\\xf2\\xd0{\\x84:\\xb4\\x88\\xdc\\x99\\xfc\\xf5t\\xfa6\\xef\\x80\\xac\\xca\\xb4\\x1b,K\\xdd\\xe9;\\x95\\r\\x96~\\r8\\x7fF\\xde|PU\\x11\\xa8*\\xb8\\xfa\\xe6|]\\xe4\\\\\\x15\\xf9x~\\xc6\\x18\\x9a\\x18\\x82=y`\\xf4\"s\\x02\\x1aY\\xde\\'\\xd9\\x050\\xce[|}\\xf8\\x18c\\xff\\x91&\\x1d\\xd5\\x96\\x82T\\x8b\\x93g\\x7f\\x85d\\x7f\\x84\\xc4\\x94\\xb3\\xef_\\xa3\\xec\\xc9H\\x07qb\\x8b=\\xb0c\\xf7H\\x9a\\xf8\\x14G\\xb7\\xdf7_v\\x9f71\\xbc\\xa1Td{\\xea\\xddO0\\xd8\\x11\\xc4\\xf4\\xde1\\x84@C\\x17\\x07\\xe6\\xab\\xe5f=\\x9f}\\x8aq\\xed<\\x93v!\\x95\\xbb\\xfa\\xa7\\\\\\x0f\\xf5\\x85*\\xbb+\\xcd\\xadDqcN\\xfa\\x92\\xe4\\xb1\\x9bk\\xb1-Z\\xfe\\xb1^\\xc4\\xa2k\\x82=2\\x86\\x18_\\xac\\xb7\\xcb\\xd9v\\x19\\xc3\\xdc\\x12\\xfcv\\x86\\xc4\\x18X\\x8bW\\xd2\\xc4\\x9eD\\x02\\xb1\\xb0\\xd2i{\\x99\\x83\\x04-\\xd5\\xc9\\x8d\\x1e\\x80\\xa9\\x19\\x12\\x18<\\xb7\\x1eL\\x93^\\x8f\\xf4\\x8a\\x9e\\xd1\\x8e\\x8e\\x8dUZ\\x18\\x02&\\x17\\x8a\\xb5\\xf82\\xa6J\\xff\\xde\\xb7)\\xf9\\xe8:bq\\x7f\\xcc\\x1f\\xc7\\x7f\\xe5\\x87\\xb9\\xf7\\xa0y\\xf0\\xc9H\\xc6\\xfdp\\x1bz\\xf1@\\xa9\\xc4.\\x01\\xfd\\x11U\\xb5 \\xdd\\x1a\\xe7e\\x14\\x99<q\\x993\\xf3\\xc4\\xa1\\x03\\x99n\\xa2\\x9d\\xb8\\xe2l\\x1d\\xe4\\xb2\\x87\\xaa\\'\\x00\\x00\\x00\\xff\\xff\\x03\\x00PK\\x03\\x04\\x14\\x00\\x06\\x00\\x08\\x00\\x00\\x00!\\x00&\\xe9{\\xe8@\\x02\\x00\\x00\\xb7\\x05\\x00\\x00\\r\\x00\\x00\\x00xl/styles.xml\\x94T\\xdb\\x8a\\xdb0\\x10}/\\xf4\\x1f\\x84\\xde\\xbb\\x8eS\\xbat\\x8b\\xede[\\x08\\x14\\xdaR\\xd8]\\xe8\\xabb\\xcb\\xb6@\\x17#MB\\xbc_\\xdf\\x19\\xc9v\\xb24i\\xda\\x17{4\\x9a\\xcb\\x9933*\\xee\\x0fF\\xb3\\xbd\\xf4A9[\\xf2\\xfcf\\xc5\\x99\\xb4\\xb5k\\x94\\xedJ\\xfe\\xfc\\xb4y\\xf7\\x91\\xb3\\x00\\xc26B;+K>\\xca\\xc0\\xef\\xab\\xb7o\\x8a\\x00\\xa3\\x96\\x8f\\xbd\\x94\\xc00\\x84\\r%\\xef\\x01\\x86OY\\x16\\xea^\\x1a\\x11n\\xdc -\\xde\\xb4\\xce\\x1b\\x01x\\xf4]\\x16\\x06/E\\x13\\xc8\\xc9\\xe8l\\xbdZ\\xddfF(\\xcb\\xab\\xa2u\\x16\\x02\\xab\\xdd\\xceB\\xc9\\xdfO\\x8a\\xaa\\x08/l/4\\xe2\\xcayV\\x15\\xb5\\xd3\\xce3\\xc0\\xf0\\x08$j\\xac02Y|\\x11Zm\\xbd\"\\xb3V\\x18\\xa5\\xc7\\xa4^\\x93\"\"\\x9a\\xec\\x8c\\xb2\\xce\\x932\\xa3\\x94)qUl\\xc9\\xeaU\\xae\\x7f\\x8b|1\\xc8\\x1d\\xa5\\xf8\\x1b\\xde\\x07\\xaf\\x84&\\xa3?\\xd0N1\\xe3/\\xe0\\xbd\\xd2zafM\\xcc\\xa0\\xa2*\\x06\\x01 \\xbd\\xdd\\xe0\\x81M\\xf2\\xd38 /\\x16\\xdb\\x94\\xea\\x8bvW\\xac;/\\xc6|\\xfd\\xe1\\xc4!\\x8b\\t\\x91\\x12\\xe7\\x1b\\x1c\\x8b\\xb9\\'\\x949\\xa9\\xaaB\\xcb\\x16\\x10\\xb9W]O\\x7fp\\x03~\\xb7\\x0e\\xc0\\x19\\x14\\x1a%:g\\x85F1\\x9b=\\xe6?y\\xe28\\xe1\\xe4\\x94\\x1c\\xfa\\xd8\\xf9D\\x92\\xd8\\x81\\x9bz\\x9a\\x91\\xd1\\x14\\xfd\\xaam\\xc4\\x10!\\\\5E\\x983\\xca\\xab\\xb6\\xa9\\x98\\xf3\\xb5LEakj\\xa9\\xf5#\\x15\\xf3\\xab]x\\xca\\x91\\xa7C\\xcb\\xec\\xcel\\x0c|mJ\\x8e\\x0bE\\x936\\x8b\\xd8\\x94IL\\x9c\\xa4\\x03qu\\x1a-\\xc5>\\tK+\\xf1\\xffa\\xd9\\xa1]\\xe2_\\xf2\\xce\\x11\\xdf9P\\xa8\\x9f\\xbd\\x99\\x18\\x06=n\\xb0\\njQ:}\\x8e\\xe3q<?h\\xd5Y#\\x93IU\\xe06\\xa6#\\xeb\\x9dW/\\xe8Jk\\\\\\xe3\\xbd\\xf4\\x9c\\xde\\x1bP5i\\xb0)q\\xf6\\x0e\\xed\\xe5\\xfa\\xd6\\x17\\x10\"\\xb3\\xe7\\x11\\xcel\"\\x7f\\'Mz\\xd5\\xa2\\x85lF\\x8b^\\xf2\\x1f\\xf4J\\xe9\\x93\\x80\\xdb\\x9d\\xd2\\xa0\\xecB\\xdf\\xb1=\\x18\\xb39\\x1c\\x1b\\xbe\"\\xfc \\xb6\\xf8\\x18\\xd2(,Y\\x10]#[\\xb1\\xd3\\xf0\\xb4\\\\\\x96\\xfc(\\x7f\\x97\\x8d\\xda\\x99\\xbb\\xc5\\xea\\xa7\\xda;\\x88!J~\\x94\\xbf\\xd1\\x8e\\xe5\\xb7\\x91\\xa3\\xb87\\xf1\\xc5\\xad~\\x03\\x00\\x00\\xff\\xff\\x03\\x00PK\\x03\\x04\\x14\\x00\\x06\\x00\\x08\\x00\\x00\\x00!\\x00l\\x1b\\x96O\\x9c\\x01\\x00\\x00,\\x15\\x00\\x00\\'\\x00\\x00\\x00xl/printerSettings/printerSettings1.bin\\xecRMK\\x02Q\\x14=\\xe3\\xf4a\\xb5H!h\\xd3JZE\\x92\\xe2X\\xedJ\\xd4\\xca\\xd0F\\x1c\\x157-$g1`32*RQ\\x10\\xfd\\x8b\\xe8\\x87\\xb4l\\xe9\\xb2\\x1f\\xd0\\xbaU\\xf4\\x03\\xda\\xd4y6AFP\\xd0.\\xee\\x1d\\xee\\xbb\\xe7\\xdcw\\xde{\\xf3\\x0e\\x0f\\x7f\\x0cmB\\x9fz@yA_\\xd3\\xa0a\\x06\\xd7sF\\xb8E4\\x8fF(\\xc4\\xda\\x08\\xe9\\x1c30\\xfex\\xce\\xe7\\xe5Z@T\\r1U}e\\xec\\x16\\xac\\xb1cr\\x85\\x83Z\\x0cC,\\xeb\\xab\\xd1\\xad\\xc3\\xb3\\x8b`\\xd9\\xb7er\\xd4\\x9d\\x1c\\xed\\xf5\\xad@\\x9a\\xff\\xde\\x81\\x8fw\\xf5\\x9b\\x8b\\x0e)\\xb2J\\xd5}\\xa5\\x8d\\xe0\\x16gH`\\x93\\xaf|\\x875\\xc91\\x838\\xf2XG\\x8a\\xbd83\\x87\\r~qjR\\xec\\xe7\\x89\\x12\\xe4\\x06y\\x925K\\x96Bz\\xc4\\xce\\xb9c%o\\xe5\\x8aE\\xd4\\\\\\xc7\\xb7\\xbb\\n\\x95\\x9b\\x1d\\xdb\\xb7\\x9cS\\x1b\\x19\\x03\\xa6\\xef\\xd8n\\xaf\\xd9s<\\x17e\\xb3R\\xadd\\nUT\\xec\\xae\\xd7\\xee\\x8fz\\x84fG\\xa1$\\xb2^\\xdb\\xf3K^\\xcb~G\\xeao\\xc7c5\\n\\xd4\\x8d\\\\\\xe9\\xe3\\xee7\\xb3\\x9d\\xd8\\x12%OL\\x9d\\xf9\\xa2\\x99a\\xe3qP\\xbaz\\x9e\\xde[\\xbcK_\\xde\\xb3W\\x0c\\xe6\\x10&\\x08Bi\\x15_\\t\\xaa\\xe2\\xdb\\xcc\\xba\\xe2\\x11\\xf0\\xfe\\x1e\\x8e\\xd0\\xc71l\\xb8\\xe8\\xa1\\x86.\\x91\\x8f2\\x9aD]\\x0c8\\xef\\xa3E\\xf1W\\xa5\\xc99\\xf7\\x97\\xda,\\xf78A\\x87\\xfb[\\\\\\xa1\\xce\\xf3\\xe1\\x90\\x9d\\xa8\\xbf\\x90\\x10\\x07\\xc4\\x01q@\\x1c\\x10\\x07\\xc4\\x01q@\\x1c\\x10\\x07\\xc4\\x01q@\\x1c\\x10\\x07\\xc4\\x01q\\xe0G\\x07\\xde\\x00\\x00\\x00\\xff\\xff\\x03\\x00PK\\x03\\x04\\x14\\x00\\x06\\x00\\x08\\x00\\x00\\x00!\\x00\\x95k\\x81f?\\x01\\x00\\x00Q\\x02\\x00\\x00\\x11\\x00\\x08\\x01docProps/core.xml \\xa2\\x04\\x01(\\xa0\\x00\\x01\\x00\\x00\\x00\\x00\\x00\\x00\\x00\\x00\\x00\\x00\\x00\\x00\\x00\\x00\\x00\\x00\\x00\\x00\\x00\\x00\\x00\\x00\\x00\\x00\\x00\\x00\\x00\\x00\\x00\\x00\\x00\\x00\\x00\\x00\\x00\\x00\\x00\\x00\\x00\\x00\\x00\\x00\\x00\\x00\\x00\\x00\\x00\\x00\\x00\\x00\\x00\\x00\\x00\\x00\\x00\\x00\\x00\\x00\\x00\\x00\\x00\\x00\\x00\\x00\\x00\\x00\\x00\\x00\\x00\\x00\\x00\\x00\\x00\\x00\\x00\\x00\\x00\\x00\\x00\\x00\\x00\\x00\\x00\\x00\\x00\\x00\\x00\\x00\\x00\\x00\\x00\\x00\\x00\\x00\\x00\\x00\\x00\\x00\\x00\\x00\\x00\\x00\\x00\\x00\\x00\\x00\\x00\\x00\\x00\\x00\\x00\\x00\\x00\\x00\\x00\\x00\\x00\\x00\\x00\\x00\\x00\\x00\\x00\\x00\\x00\\x00\\x00\\x00\\x00\\x00\\x00\\x00\\x00\\x00\\x00\\x00\\x00\\x00\\x00\\x00\\x00\\x00\\x00\\x00\\x00\\x00\\x00\\x00\\x00\\x00\\x00\\x00\\x00\\x00\\x00\\x00\\x00\\x00\\x00\\x00\\x00\\x00\\x00\\x00\\x00\\x00\\x00\\x00\\x00\\x00\\x00\\x00\\x00\\x00\\x00\\x00\\x00\\x00\\x00\\x00\\x00\\x00\\x00\\x00\\x00\\x00\\x00\\x00\\x00\\x00\\x00\\x00\\x00\\x00\\x00\\x00\\x00\\x00\\x00\\x00\\x00\\x00\\x00\\x00\\x00\\x00\\x00\\x00\\x00\\x00\\x00\\x00\\x00\\x00\\x00\\x00\\x00\\x00\\x00\\x00\\x00\\x00\\x00\\x00\\x00\\x00\\x00\\x00\\x00\\x00\\x00\\x00\\x00\\x00\\x00\\x00\\x00\\x00\\x00\\x00\\x00\\x00\\x00\\x00\\x00\\x00\\x00\\x00\\x00\\x00\\x00\\x00\\x00\\x00\\x00\\x00|\\x92Qk\\xc3 \\x14\\x85\\xdf\\x07\\xfb\\x0f\\xc1\\xf7\\xc4\\x98BX%Ia\\x1b}Za\\xb0\\x8c\\x8d\\xbe\\x89\\xde\\xb6\\xb2hD\\xdd\\xd2\\xfe\\xfb\\x99\\xa4\\xcdR(\\x03_\\xbc\\xe7\\xdc\\xef\\x1e/\\x16\\xab\\xa3j\\xa2\\x1f\\xb0N\\xb6\\xbaD$IQ\\x04\\x9a\\xb7B\\xea}\\x89\\xde\\xebu\\xfc\\x80\"\\xe7\\x99\\x16\\xaci5\\x94\\xe8\\x04\\x0e\\xad\\xaa\\xfb\\xbb\\x82\\x1b\\xca[\\x0b\\xaf\\xb65`\\xbd\\x04\\x17\\x05\\x92v\\x94\\x9b\\x12\\x1d\\xbc7\\x14c\\xc7\\x0f\\xa0\\x98K\\x82C\\x07q\\xd7Z\\xc5|\\xb8\\xda=6\\x8c\\x7f\\xb1=\\xe0,Ms\\xac\\xc03\\xc1<\\xc3=06\\x13\\x11\\x9d\\x91\\x82OH\\xf3m\\x9b\\x01 8\\x86\\x06\\x14h\\xef0I\\x08\\xfe\\xf3z\\xb0\\xca\\xddl\\x18\\x94\\x99SI\\x7f2\\xe1M\\xe7\\xb8s\\xb6\\xe0\\xa38\\xb9\\x8fNN\\xc6\\xae\\xeb\\x92n1\\xc4\\x08\\xf9\\t\\xfe\\xdc\\xbc\\xbc\\rO\\x8d\\xa5\\xeew\\xc5\\x01U\\x85\\xe0\\x94[`\\xbe\\xb5U\\x81\\xe7\\x97\\xb0\\xb8\\x869\\xbf\\t;\\xdeI\\x10\\x8f\\xa7\\xa0\\xdf\\xa8\\t>\\xc4\\x1d! \\xa2\\x10\\x80\\x8eq/\\xca\\xc7\\xe2\\xe9\\xb9^\\xa3\\xaa\\xdfa\\x9c.c\\x92\\xd7iJ\\x87\\xb3\\xedG^\\xf5\\xf7\\x81\\xc6\\x82:\\x0f\\xfe\\x97\\x98\\x918]\\xc4\\x19\\xa9IN\\xb3%%\\xf9\\x8cx\\x01\\x8c\\xb9\\xaf?A\\xf5\\x0b\\x00\\x00\\xff\\xff\\x03\\x00PK\\x03\\x04\\x14\\x00\\x06\\x00\\x08\\x00\\x00\\x00!\\x00\\x90VD\\x92\\x94\\x01\\x00\\x00G\\x03\\x00\\x00\\x10\\x00\\x08\\x01docProps/app.xml \\xa2\\x04\\x01(\\xa0\\x00\\x01\\x00\\x00\\x00\\x00\\x00\\x00\\x00\\x00\\x00\\x00\\x00\\x00\\x00\\x00\\x00\\x00\\x00\\x00\\x00\\x00\\x00\\x00\\x00\\x00\\x00\\x00\\x00\\x00\\x00\\x00\\x00\\x00\\x00\\x00\\x00\\x00\\x00\\x00\\x00\\x00\\x00\\x00\\x00\\x00\\x00\\x00\\x00\\x00\\x00\\x00\\x00\\x00\\x00\\x00\\x00\\x00\\x00\\x00\\x00\\x00\\x00\\x00\\x00\\x00\\x00\\x00\\x00\\x00\\x00\\x00\\x00\\x00\\x00\\x00\\x00\\x00\\x00\\x00\\x00\\x00\\x00\\x00\\x00\\x00\\x00\\x00\\x00\\x00\\x00\\x00\\x00\\x00\\x00\\x00\\x00\\x00\\x00\\x00\\x00\\x00\\x00\\x00\\x00\\x00\\x00\\x00\\x00\\x00\\x00\\x00\\x00\\x00\\x00\\x00\\x00\\x00\\x00\\x00\\x00\\x00\\x00\\x00\\x00\\x00\\x00\\x00\\x00\\x00\\x00\\x00\\x00\\x00\\x00\\x00\\x00\\x00\\x00\\x00\\x00\\x00\\x00\\x00\\x00\\x00\\x00\\x00\\x00\\x00\\x00\\x00\\x00\\x00\\x00\\x00\\x00\\x00\\x00\\x00\\x00\\x00\\x00\\x00\\x00\\x00\\x00\\x00\\x00\\x00\\x00\\x00\\x00\\x00\\x00\\x00\\x00\\x00\\x00\\x00\\x00\\x00\\x00\\x00\\x00\\x00\\x00\\x00\\x00\\x00\\x00\\x00\\x00\\x00\\x00\\x00\\x00\\x00\\x00\\x00\\x00\\x00\\x00\\x00\\x00\\x00\\x00\\x00\\x00\\x00\\x00\\x00\\x00\\x00\\x00\\x00\\x00\\x00\\x00\\x00\\x00\\x00\\x00\\x00\\x00\\x00\\x00\\x00\\x00\\x00\\x00\\x00\\x00\\x00\\x00\\x00\\x00\\x00\\x00\\x00\\x00\\x00\\x00\\x00\\x00\\x00\\x00\\x00\\x00\\x00\\x00\\x00\\x00\\x00\\x00\\x00\\x00\\x00\\x9c\\x93Ok\\xe30\\x10\\xc5\\xef\\x0b\\xfb\\x1d\\x8c\\xee\\x8d\\x9c\\xb4\\x94%\\xc8*%\\xdd\\xd2\\xc3.\\x1bH\\xda=\\xab\\xf28\\x16\\x95%\\xa3\\x99\\x9a\\xa4\\x9f~\\xc76I\\x9c\\xfdsY\\x9dF\\xf3\\x1e\\x8f\\x9fF\\x92\\xba\\xdb7>\\xeb \\xa1\\x8b\\xa1\\x10\\xf3Y.2\\x086\\x96.\\xec\\n\\xf1\\xbc}\\xbc\\xfa\"2$\\x13J\\xe3c\\x80B\\x1c\\x00\\xc5\\x9d\\xfe\\xfcI\\xadSl!\\x91\\x03\\xcc8\"`!j\\xa2v)%\\xda\\x1a\\x1a\\x833\\x96\\x03+UL\\x8d!\\xde\\xa6\\x9d\\x8cU\\xe5,<D\\xfb\\xde@ \\xb9\\xc8\\xf3[\\t{\\x82PBy\\xd5\\x9e\\x02\\xc5\\x98\\xb8\\xec\\xe8\\x7fC\\xcbh{>|\\xd9\\x1eZ\\x06\\xd6\\xea\\xbem\\xbd\\xb3\\x86\\xf8\\x94\\xfa\\xbb\\xb3)b\\xac(\\xfb\\xba\\xb7\\xe0\\x95\\x9c\\x8a\\x8a\\xe96`\\xdf\\x93\\xa3\\x83\\xce\\x95\\x9cn\\xd5\\xc6\\x1a\\x0f+\\x0e\\xd6\\x95\\xf1\\x08J\\x9e\\x1b\\xea\\tL?\\xb4\\xb5q\\t\\xb5\\xeah\\xd9\\x81\\xa5\\x982t\\x1f<\\xb6\\x85\\xc8^\\rB\\x8fS\\x88\\xce$g\\x021Vo\\x1b7C\\xed[\\xa4\\xa4\\x7f\\xc6\\xf4\\x865\\x00\\xa1\\x92l\\x18\\x9bC9\\xf5Nkw\\xa3\\xaf\\x07\\x03\\x17\\x97\\xc6>`\\x04a\\xe1\\x12q\\xeb\\xc8\\x03\\xfe\\xa8\\xd6&\\xd1_\\x88\\xaf\\xa7\\xc4\\x03\\xc3\\xc8;\\xe2lz\\xbe\\xf9\\x94\\xefD:H\\x8b\\x7fK#\\xe9\\xf4T\\xc3\\xa0\\x98\\xef7\\xa2UlZ\\x13\\x0e,\\x9c\\xaao.\\xbc\\xe1s\\xbb\\x8d\\x0f\\x86\\xe0x\\t\\x97M\\xb5\\xa9M\\x82\\x92\\xef\\xed\\xa8\\x9f\\x1b\\xea\\x89\\xe7\\x9f|\\x1f\\xb2\\xaaM\\xd8Ay\\xf4\\xfc)\\xf4O\\xe6e\\xfc\\x17z\\xbe\\x98\\xe5\\xbc\\x86\\x97r\\xec)y\\xfe\\x01\\xfa\\x17\\x00\\x00\\x00\\xff\\xff\\x03\\x00PK\\x01\\x02-\\x00\\x14\\x00\\x06\\x00\\x08\\x00\\x00\\x00!\\x00\\xa7\\x95\\xf9\\x99\\x84\\x01\\x00\\x00\\x14\\x06\\x00\\x00\\x13\\x00\\x00\\x00\\x00\\x00\\x00\\x00\\x00\\x00\\x00\\x00\\x00\\x00\\x00\\x00\\x00\\x00[Content_Types].xmlPK\\x01\\x02-\\x00\\x14\\x00\\x06\\x00\\x08\\x00\\x00\\x00!\\x00\\xb5U0#\\xf5\\x00\\x00\\x00L\\x02\\x00\\x00\\x0b\\x00\\x00\\x00\\x00\\x00\\x00\\x00\\x00\\x00\\x00\\x00\\x00\\x00\\x92\\x03\\x00\\x00_rels/.relsPK\\x01\\x02-\\x00\\x14\\x00\\x06\\x00\\x08\\x00\\x00\\x00!\\x00\\xde\\t\\xfd(\\x02\\x01\\x00\\x00\\xd4\\x03\\x00\\x00\\x1a\\x00\\x00\\x00\\x00\\x00\\x00\\x00\\x00\\x00\\x00\\x00\\x00\\x00~\\x06\\x00\\x00xl/_rels/workbook.xml.relsPK\\x01\\x02-\\x00\\x14\\x00\\x06\\x00\\x08\\x00\\x00\\x00!\\x00\\xb2M!\\xf7h\\x01\\x00\\x00\\x83\\x02\\x00\\x00\\x0f\\x00\\x00\\x00\\x00\\x00\\x00\\x00\\x00\\x00\\x00\\x00\\x00\\x00\\xc0\\x08\\x00\\x00xl/workbook.xmlPK\\x01\\x02-\\x00\\x14\\x00\\x06\\x00\\x08\\x00\\x00\\x00!\\x00\\xe9\\xa6%\\xb8\\x82\\x06\\x00\\x00S\\x1b\\x00\\x00\\x13\\x00\\x00\\x00\\x00\\x00\\x00\\x00\\x00\\x00\\x00\\x00\\x00\\x00U\\n\\x00\\x00xl/theme/theme1.xmlPK\\x01\\x02-\\x00\\x14\\x00\\x06\\x00\\x08\\x00\\x00\\x00!\\x00;m2K\\xc1\\x00\\x00\\x00B\\x01\\x00\\x00#\\x00\\x00\\x00\\x00\\x00\\x00\\x00\\x00\\x00\\x00\\x00\\x00\\x00\\x08\\x11\\x00\\x00xl/worksheets/_rels/sheet1.xml.relsPK\\x01\\x02-\\x00\\x14\\x00\\x06\\x00\\x08\\x00\\x00\\x00!\\x00\\xb8JK-\\x13\\x01\\x00\\x00\\xb7\\x01\\x00\\x00\\x18\\x00\\x00\\x00\\x00\\x00\\x00\\x00\\x00\\x00\\x00\\x00\\x00\\x00\\n\\x12\\x00\\x00xl/worksheets/sheet2.xmlPK\\x01\\x02-\\x00\\x14\\x00\\x06\\x00\\x08\\x00\\x00\\x00!\\x00\\xb8JK-\\x13\\x01\\x00\\x00\\xb7\\x01\\x00\\x00\\x18\\x00\\x00\\x00\\x00\\x00\\x00\\x00\\x00\\x00\\x00\\x00\\x00\\x00S\\x13\\x00\\x00xl/worksheets/sheet3.xmlPK\\x01\\x02-\\x00\\x14\\x00\\x06\\x00\\x08\\x00\\x00\\x00!\\x00\\xd3Pb\\xbf\\x03\\x06\\x00\\x00;\\x1a\\x00\\x00\\x18\\x00\\x00\\x00\\x00\\x00\\x00\\x00\\x00\\x00\\x00\\x00\\x00\\x00\\x9c\\x14\\x00\\x00xl/worksheets/sheet1.xmlPK\\x01\\x02-\\x00\\x14\\x00\\x06\\x00\\x08\\x00\\x00\\x00!\\x00J\\xd8\\xd9\\xab\\xcd\\x01\\x00\\x00\\xc6\\x04\\x00\\x00\\x14\\x00\\x00\\x00\\x00\\x00\\x00\\x00\\x00\\x00\\x00\\x00\\x00\\x00\\xd5\\x1a\\x00\\x00xl/sharedStrings.xmlPK\\x01\\x02-\\x00\\x14\\x00\\x06\\x00\\x08\\x00\\x00\\x00!\\x00&\\xe9{\\xe8@\\x02\\x00\\x00\\xb7\\x05\\x00\\x00\\r\\x00\\x00\\x00\\x00\\x00\\x00\\x00\\x00\\x00\\x00\\x00\\x00\\x00\\xd4\\x1c\\x00\\x00xl/styles.xmlPK\\x01\\x02-\\x00\\x14\\x00\\x06\\x00\\x08\\x00\\x00\\x00!\\x00l\\x1b\\x96O\\x9c\\x01\\x00\\x00,\\x15\\x00\\x00\\'\\x00\\x00\\x00\\x00\\x00\\x00\\x00\\x00\\x00\\x00\\x00\\x00\\x00?\\x1f\\x00\\x00xl/printerSettings/printerSettings1.binPK\\x01\\x02-\\x00\\x14\\x00\\x06\\x00\\x08\\x00\\x00\\x00!\\x00\\x95k\\x81f?\\x01\\x00\\x00Q\\x02\\x00\\x00\\x11\\x00\\x00\\x00\\x00\\x00\\x00\\x00\\x00\\x00\\x00\\x00\\x00\\x00 !\\x00\\x00docProps/core.xmlPK\\x01\\x02-\\x00\\x14\\x00\\x06\\x00\\x08\\x00\\x00\\x00!\\x00\\x90VD\\x92\\x94\\x01\\x00\\x00G\\x03\\x00\\x00\\x10\\x00\\x00\\x00\\x00\\x00\\x00\\x00\\x00\\x00\\x00\\x00\\x00\\x00\\x96#\\x00\\x00docProps/app.xmlPK\\x05\\x06\\x00\\x00\\x00\\x00\\x0e\\x00\\x0e\\x00\\xb2\\x03\\x00\\x00`&\\x00\\x00\\x00\\x00'}"
            ]
          },
          "metadata": {
            "tags": []
          },
          "execution_count": 33
        }
      ]
    },
    {
      "cell_type": "code",
      "metadata": {
        "id": "enSO00SMX_bn"
      },
      "source": [
        "import pandas as pd\n",
        "import numpy as np\n",
        "from tqdm import tqdm, trange"
      ],
      "execution_count": 4,
      "outputs": []
    },
    {
      "cell_type": "markdown",
      "metadata": {
        "id": "L1ettS1hKGG7"
      },
      "source": [
        "DIRECTLY IMPORT FROM KAGGLE"
      ]
    },
    {
      "cell_type": "markdown",
      "metadata": {
        "id": "9lQg0_ACJ25K"
      },
      "source": [
        "Get you Kaggle API Token\n",
        "Go to Your Account and click on Create New API Token.\n",
        "A file named kaggle.json will get downloaded containing your username and token key"
      ]
    },
    {
      "cell_type": "code",
      "metadata": {
        "id": "61Simz1hJ0O8"
      },
      "source": [
        "! pip install -q kaggle"
      ],
      "execution_count": 5,
      "outputs": []
    },
    {
      "cell_type": "markdown",
      "metadata": {
        "id": "0TqVOqGyLiUJ"
      },
      "source": [
        "using mounting from drive"
      ]
    },
    {
      "cell_type": "code",
      "metadata": {
        "colab": {
          "base_uri": "https://localhost:8080/"
        },
        "id": "p94woT0NKCKk",
        "outputId": "016081a8-6f09-4fe1-adf8-82a13758a22a"
      },
      "source": [
        "from google.colab import drive\n",
        "drive.mount('/content/gdrive')"
      ],
      "execution_count": 6,
      "outputs": [
        {
          "output_type": "stream",
          "text": [
            "Mounted at /content/gdrive\n"
          ],
          "name": "stdout"
        }
      ]
    },
    {
      "cell_type": "code",
      "metadata": {
        "id": "9jp3VB49KCMh"
      },
      "source": [
        "import os\n",
        "os.environ['KAGGLE_CONFIG_DIR'] = '/content/gdrive/MyDrive/Kaggle'"
      ],
      "execution_count": 8,
      "outputs": []
    },
    {
      "cell_type": "code",
      "metadata": {
        "colab": {
          "base_uri": "https://localhost:8080/"
        },
        "id": "2L34NowuKCRz",
        "outputId": "633c6529-14aa-45a9-8824-96fb5aa5efe6"
      },
      "source": [
        "#changing the working directory\n",
        "%cd /content/gdrive/My Drive/Kaggle"
      ],
      "execution_count": 9,
      "outputs": [
        {
          "output_type": "stream",
          "text": [
            "/content/gdrive/My Drive/Kaggle\n"
          ],
          "name": "stdout"
        }
      ]
    },
    {
      "cell_type": "code",
      "metadata": {
        "colab": {
          "base_uri": "https://localhost:8080/",
          "height": 36
        },
        "id": "0MnnvAp0KRIg",
        "outputId": "d0316121-9692-425c-89c7-3081f7906e05"
      },
      "source": [
        "pwd"
      ],
      "execution_count": 10,
      "outputs": [
        {
          "output_type": "execute_result",
          "data": {
            "application/vnd.google.colaboratory.intrinsic+json": {
              "type": "string"
            },
            "text/plain": [
              "'/content/gdrive/My Drive/Kaggle'"
            ]
          },
          "metadata": {
            "tags": []
          },
          "execution_count": 10
        }
      ]
    },
    {
      "cell_type": "markdown",
      "metadata": {
        "id": "6MAIxtGWa7fO"
      },
      "source": [
        "API LINK TO DOWNLOAD "
      ]
    },
    {
      "cell_type": "code",
      "metadata": {
        "id": "ZyzWNHzgKXB3"
      },
      "source": [
        "!kaggle datasets download -d abhinavwalia95/entity-annotated-corpus"
      ],
      "execution_count": null,
      "outputs": []
    },
    {
      "cell_type": "markdown",
      "metadata": {
        "id": "X0G8VGW9LqUo"
      },
      "source": [
        "From local"
      ]
    },
    {
      "cell_type": "code",
      "metadata": {
        "id": "2aSZssJaLsCl"
      },
      "source": [
        "from google.colab import files\n",
        "files.upload()"
      ],
      "execution_count": null,
      "outputs": []
    },
    {
      "cell_type": "markdown",
      "metadata": {
        "id": "q83ZOkDEL4n2"
      },
      "source": [
        ""
      ]
    },
    {
      "cell_type": "code",
      "metadata": {
        "id": "Oem-q5LKL0kM"
      },
      "source": [
        "#MAKE DIRECTORY\n",
        "! mkdir ~/.kaggle"
      ],
      "execution_count": null,
      "outputs": []
    },
    {
      "cell_type": "code",
      "metadata": {
        "id": "_LGKPpljL0nc"
      },
      "source": [
        "#Make directory named kaggle and copy kaggle.json file there.\n",
        "! cp kaggle.json ~/.kaggle/"
      ],
      "execution_count": null,
      "outputs": []
    },
    {
      "cell_type": "code",
      "metadata": {
        "id": "EUdehtqqL0r0"
      },
      "source": [
        "#Change the permissions of the file.\n",
        "! chmod 600 ~/.kaggle/kaggle.json"
      ],
      "execution_count": null,
      "outputs": []
    },
    {
      "cell_type": "code",
      "metadata": {
        "id": "9Zevh0AmMEZZ"
      },
      "source": [
        "pwd"
      ],
      "execution_count": null,
      "outputs": []
    },
    {
      "cell_type": "code",
      "metadata": {
        "colab": {
          "base_uri": "https://localhost:8080/"
        },
        "id": "yJWOmqthKXNT",
        "outputId": "d456d2ce-c7f9-4e75-fa98-4e6e9f13588b"
      },
      "source": [
        "!pip install sklearn_crfsuite"
      ],
      "execution_count": 11,
      "outputs": [
        {
          "output_type": "stream",
          "text": [
            "Collecting sklearn_crfsuite\n",
            "  Downloading https://files.pythonhosted.org/packages/25/74/5b7befa513482e6dee1f3dd68171a6c9dfc14c0eaa00f885ffeba54fe9b0/sklearn_crfsuite-0.3.6-py2.py3-none-any.whl\n",
            "Requirement already satisfied: tabulate in /usr/local/lib/python3.7/dist-packages (from sklearn_crfsuite) (0.8.9)\n",
            "Requirement already satisfied: six in /usr/local/lib/python3.7/dist-packages (from sklearn_crfsuite) (1.15.0)\n",
            "Collecting python-crfsuite>=0.8.3\n",
            "\u001b[?25l  Downloading https://files.pythonhosted.org/packages/79/47/58f16c46506139f17de4630dbcfb877ce41a6355a1bbf3c443edb9708429/python_crfsuite-0.9.7-cp37-cp37m-manylinux1_x86_64.whl (743kB)\n",
            "\u001b[K     |████████████████████████████████| 747kB 7.6MB/s \n",
            "\u001b[?25hRequirement already satisfied: tqdm>=2.0 in /usr/local/lib/python3.7/dist-packages (from sklearn_crfsuite) (4.41.1)\n",
            "Installing collected packages: python-crfsuite, sklearn-crfsuite\n",
            "Successfully installed python-crfsuite-0.9.7 sklearn-crfsuite-0.3.6\n"
          ],
          "name": "stdout"
        }
      ]
    },
    {
      "cell_type": "code",
      "metadata": {
        "id": "xX6OykeoKXPY"
      },
      "source": [
        "!pip install keras_contrib"
      ],
      "execution_count": null,
      "outputs": []
    },
    {
      "cell_type": "code",
      "metadata": {
        "colab": {
          "base_uri": "https://localhost:8080/"
        },
        "id": "W9YeiXCFKXUh",
        "outputId": "d793e9b8-987e-43b9-c19c-5f0613d0bf51"
      },
      "source": [
        "!pip install seqeval"
      ],
      "execution_count": 12,
      "outputs": [
        {
          "output_type": "stream",
          "text": [
            "Collecting seqeval\n",
            "\u001b[?25l  Downloading https://files.pythonhosted.org/packages/9d/2d/233c79d5b4e5ab1dbf111242299153f3caddddbb691219f363ad55ce783d/seqeval-1.2.2.tar.gz (43kB)\n",
            "\r\u001b[K     |███████▌                        | 10kB 22.6MB/s eta 0:00:01\r\u001b[K     |███████████████                 | 20kB 13.8MB/s eta 0:00:01\r\u001b[K     |██████████████████████▌         | 30kB 13.8MB/s eta 0:00:01\r\u001b[K     |██████████████████████████████  | 40kB 13.0MB/s eta 0:00:01\r\u001b[K     |████████████████████████████████| 51kB 4.5MB/s \n",
            "\u001b[?25hRequirement already satisfied: numpy>=1.14.0 in /usr/local/lib/python3.7/dist-packages (from seqeval) (1.19.5)\n",
            "Requirement already satisfied: scikit-learn>=0.21.3 in /usr/local/lib/python3.7/dist-packages (from seqeval) (0.22.2.post1)\n",
            "Requirement already satisfied: joblib>=0.11 in /usr/local/lib/python3.7/dist-packages (from scikit-learn>=0.21.3->seqeval) (1.0.1)\n",
            "Requirement already satisfied: scipy>=0.17.0 in /usr/local/lib/python3.7/dist-packages (from scikit-learn>=0.21.3->seqeval) (1.4.1)\n",
            "Building wheels for collected packages: seqeval\n",
            "  Building wheel for seqeval (setup.py) ... \u001b[?25l\u001b[?25hdone\n",
            "  Created wheel for seqeval: filename=seqeval-1.2.2-cp37-none-any.whl size=16172 sha256=5ee45977a9980a7397caff648a239425c56feadf81f90257c0476bacb36ffb54\n",
            "  Stored in directory: /root/.cache/pip/wheels/52/df/1b/45d75646c37428f7e626214704a0e35bd3cfc32eda37e59e5f\n",
            "Successfully built seqeval\n",
            "Installing collected packages: seqeval\n",
            "Successfully installed seqeval-1.2.2\n"
          ],
          "name": "stdout"
        }
      ]
    },
    {
      "cell_type": "code",
      "metadata": {
        "colab": {
          "base_uri": "https://localhost:8080/"
        },
        "id": "vr6baMhtK6OK",
        "outputId": "d070fa8b-a514-4d39-c9d2-19a17f48734f"
      },
      "source": [
        "#unzipping the zip files and deleting the zip files\n",
        "!unzip \\*.zip  && rm *.zip"
      ],
      "execution_count": 14,
      "outputs": [
        {
          "output_type": "stream",
          "text": [
            "Archive:  entity-annotated-corpus.zip\n",
            "replace ner.csv? [y]es, [n]o, [A]ll, [N]one, [r]ename: "
          ],
          "name": "stdout"
        }
      ]
    },
    {
      "cell_type": "code",
      "metadata": {
        "colab": {
          "base_uri": "https://localhost:8080/",
          "height": 399
        },
        "id": "6rRNKoPbK90W",
        "outputId": "4fc96ea7-009f-446a-866b-1e1d4144e7ef"
      },
      "source": [
        "#Reading the csv file\n",
        "df = pd.read_csv('/content/gdrive/MyDrive/Kaggle/ner_dataset.csv', encoding = \"ISO-8859-1\")\n",
        "df"
      ],
      "execution_count": 16,
      "outputs": [
        {
          "output_type": "execute_result",
          "data": {
            "text/html": [
              "<div>\n",
              "<style scoped>\n",
              "    .dataframe tbody tr th:only-of-type {\n",
              "        vertical-align: middle;\n",
              "    }\n",
              "\n",
              "    .dataframe tbody tr th {\n",
              "        vertical-align: top;\n",
              "    }\n",
              "\n",
              "    .dataframe thead th {\n",
              "        text-align: right;\n",
              "    }\n",
              "</style>\n",
              "<table border=\"1\" class=\"dataframe\">\n",
              "  <thead>\n",
              "    <tr style=\"text-align: right;\">\n",
              "      <th></th>\n",
              "      <th>Sentence #</th>\n",
              "      <th>Word</th>\n",
              "      <th>POS</th>\n",
              "      <th>Tag</th>\n",
              "    </tr>\n",
              "  </thead>\n",
              "  <tbody>\n",
              "    <tr>\n",
              "      <th>0</th>\n",
              "      <td>Sentence: 1</td>\n",
              "      <td>Thousands</td>\n",
              "      <td>NNS</td>\n",
              "      <td>O</td>\n",
              "    </tr>\n",
              "    <tr>\n",
              "      <th>1</th>\n",
              "      <td>NaN</td>\n",
              "      <td>of</td>\n",
              "      <td>IN</td>\n",
              "      <td>O</td>\n",
              "    </tr>\n",
              "    <tr>\n",
              "      <th>2</th>\n",
              "      <td>NaN</td>\n",
              "      <td>demonstrators</td>\n",
              "      <td>NNS</td>\n",
              "      <td>O</td>\n",
              "    </tr>\n",
              "    <tr>\n",
              "      <th>3</th>\n",
              "      <td>NaN</td>\n",
              "      <td>have</td>\n",
              "      <td>VBP</td>\n",
              "      <td>O</td>\n",
              "    </tr>\n",
              "    <tr>\n",
              "      <th>4</th>\n",
              "      <td>NaN</td>\n",
              "      <td>marched</td>\n",
              "      <td>VBN</td>\n",
              "      <td>O</td>\n",
              "    </tr>\n",
              "    <tr>\n",
              "      <th>...</th>\n",
              "      <td>...</td>\n",
              "      <td>...</td>\n",
              "      <td>...</td>\n",
              "      <td>...</td>\n",
              "    </tr>\n",
              "    <tr>\n",
              "      <th>1048570</th>\n",
              "      <td>NaN</td>\n",
              "      <td>they</td>\n",
              "      <td>PRP</td>\n",
              "      <td>O</td>\n",
              "    </tr>\n",
              "    <tr>\n",
              "      <th>1048571</th>\n",
              "      <td>NaN</td>\n",
              "      <td>responded</td>\n",
              "      <td>VBD</td>\n",
              "      <td>O</td>\n",
              "    </tr>\n",
              "    <tr>\n",
              "      <th>1048572</th>\n",
              "      <td>NaN</td>\n",
              "      <td>to</td>\n",
              "      <td>TO</td>\n",
              "      <td>O</td>\n",
              "    </tr>\n",
              "    <tr>\n",
              "      <th>1048573</th>\n",
              "      <td>NaN</td>\n",
              "      <td>the</td>\n",
              "      <td>DT</td>\n",
              "      <td>O</td>\n",
              "    </tr>\n",
              "    <tr>\n",
              "      <th>1048574</th>\n",
              "      <td>NaN</td>\n",
              "      <td>attack</td>\n",
              "      <td>NN</td>\n",
              "      <td>O</td>\n",
              "    </tr>\n",
              "  </tbody>\n",
              "</table>\n",
              "<p>1048575 rows × 4 columns</p>\n",
              "</div>"
            ],
            "text/plain": [
              "          Sentence #           Word  POS Tag\n",
              "0        Sentence: 1      Thousands  NNS   O\n",
              "1                NaN             of   IN   O\n",
              "2                NaN  demonstrators  NNS   O\n",
              "3                NaN           have  VBP   O\n",
              "4                NaN        marched  VBN   O\n",
              "...              ...            ...  ...  ..\n",
              "1048570          NaN           they  PRP   O\n",
              "1048571          NaN      responded  VBD   O\n",
              "1048572          NaN             to   TO   O\n",
              "1048573          NaN            the   DT   O\n",
              "1048574          NaN         attack   NN   O\n",
              "\n",
              "[1048575 rows x 4 columns]"
            ]
          },
          "metadata": {
            "tags": []
          },
          "execution_count": 16
        }
      ]
    },
    {
      "cell_type": "code",
      "metadata": {
        "colab": {
          "base_uri": "https://localhost:8080/"
        },
        "id": "D7haANquLP2g",
        "outputId": "dd027488-78ed-4398-9562-e801b0d83daf"
      },
      "source": [
        "df.shape"
      ],
      "execution_count": 17,
      "outputs": [
        {
          "output_type": "execute_result",
          "data": {
            "text/plain": [
              "(1048575, 4)"
            ]
          },
          "metadata": {
            "tags": []
          },
          "execution_count": 17
        }
      ]
    },
    {
      "cell_type": "code",
      "metadata": {
        "colab": {
          "base_uri": "https://localhost:8080/",
          "height": 1000
        },
        "id": "LWnPuxh9LWOD",
        "outputId": "c9f0e02c-c38e-4e03-82b3-66d9566310e5"
      },
      "source": [
        "df.head(50)"
      ],
      "execution_count": 19,
      "outputs": [
        {
          "output_type": "execute_result",
          "data": {
            "text/html": [
              "<div>\n",
              "<style scoped>\n",
              "    .dataframe tbody tr th:only-of-type {\n",
              "        vertical-align: middle;\n",
              "    }\n",
              "\n",
              "    .dataframe tbody tr th {\n",
              "        vertical-align: top;\n",
              "    }\n",
              "\n",
              "    .dataframe thead th {\n",
              "        text-align: right;\n",
              "    }\n",
              "</style>\n",
              "<table border=\"1\" class=\"dataframe\">\n",
              "  <thead>\n",
              "    <tr style=\"text-align: right;\">\n",
              "      <th></th>\n",
              "      <th>Sentence #</th>\n",
              "      <th>Word</th>\n",
              "      <th>POS</th>\n",
              "      <th>Tag</th>\n",
              "    </tr>\n",
              "  </thead>\n",
              "  <tbody>\n",
              "    <tr>\n",
              "      <th>0</th>\n",
              "      <td>Sentence: 1</td>\n",
              "      <td>Thousands</td>\n",
              "      <td>NNS</td>\n",
              "      <td>O</td>\n",
              "    </tr>\n",
              "    <tr>\n",
              "      <th>1</th>\n",
              "      <td>NaN</td>\n",
              "      <td>of</td>\n",
              "      <td>IN</td>\n",
              "      <td>O</td>\n",
              "    </tr>\n",
              "    <tr>\n",
              "      <th>2</th>\n",
              "      <td>NaN</td>\n",
              "      <td>demonstrators</td>\n",
              "      <td>NNS</td>\n",
              "      <td>O</td>\n",
              "    </tr>\n",
              "    <tr>\n",
              "      <th>3</th>\n",
              "      <td>NaN</td>\n",
              "      <td>have</td>\n",
              "      <td>VBP</td>\n",
              "      <td>O</td>\n",
              "    </tr>\n",
              "    <tr>\n",
              "      <th>4</th>\n",
              "      <td>NaN</td>\n",
              "      <td>marched</td>\n",
              "      <td>VBN</td>\n",
              "      <td>O</td>\n",
              "    </tr>\n",
              "    <tr>\n",
              "      <th>5</th>\n",
              "      <td>NaN</td>\n",
              "      <td>through</td>\n",
              "      <td>IN</td>\n",
              "      <td>O</td>\n",
              "    </tr>\n",
              "    <tr>\n",
              "      <th>6</th>\n",
              "      <td>NaN</td>\n",
              "      <td>London</td>\n",
              "      <td>NNP</td>\n",
              "      <td>B-geo</td>\n",
              "    </tr>\n",
              "    <tr>\n",
              "      <th>7</th>\n",
              "      <td>NaN</td>\n",
              "      <td>to</td>\n",
              "      <td>TO</td>\n",
              "      <td>O</td>\n",
              "    </tr>\n",
              "    <tr>\n",
              "      <th>8</th>\n",
              "      <td>NaN</td>\n",
              "      <td>protest</td>\n",
              "      <td>VB</td>\n",
              "      <td>O</td>\n",
              "    </tr>\n",
              "    <tr>\n",
              "      <th>9</th>\n",
              "      <td>NaN</td>\n",
              "      <td>the</td>\n",
              "      <td>DT</td>\n",
              "      <td>O</td>\n",
              "    </tr>\n",
              "    <tr>\n",
              "      <th>10</th>\n",
              "      <td>NaN</td>\n",
              "      <td>war</td>\n",
              "      <td>NN</td>\n",
              "      <td>O</td>\n",
              "    </tr>\n",
              "    <tr>\n",
              "      <th>11</th>\n",
              "      <td>NaN</td>\n",
              "      <td>in</td>\n",
              "      <td>IN</td>\n",
              "      <td>O</td>\n",
              "    </tr>\n",
              "    <tr>\n",
              "      <th>12</th>\n",
              "      <td>NaN</td>\n",
              "      <td>Iraq</td>\n",
              "      <td>NNP</td>\n",
              "      <td>B-geo</td>\n",
              "    </tr>\n",
              "    <tr>\n",
              "      <th>13</th>\n",
              "      <td>NaN</td>\n",
              "      <td>and</td>\n",
              "      <td>CC</td>\n",
              "      <td>O</td>\n",
              "    </tr>\n",
              "    <tr>\n",
              "      <th>14</th>\n",
              "      <td>NaN</td>\n",
              "      <td>demand</td>\n",
              "      <td>VB</td>\n",
              "      <td>O</td>\n",
              "    </tr>\n",
              "    <tr>\n",
              "      <th>15</th>\n",
              "      <td>NaN</td>\n",
              "      <td>the</td>\n",
              "      <td>DT</td>\n",
              "      <td>O</td>\n",
              "    </tr>\n",
              "    <tr>\n",
              "      <th>16</th>\n",
              "      <td>NaN</td>\n",
              "      <td>withdrawal</td>\n",
              "      <td>NN</td>\n",
              "      <td>O</td>\n",
              "    </tr>\n",
              "    <tr>\n",
              "      <th>17</th>\n",
              "      <td>NaN</td>\n",
              "      <td>of</td>\n",
              "      <td>IN</td>\n",
              "      <td>O</td>\n",
              "    </tr>\n",
              "    <tr>\n",
              "      <th>18</th>\n",
              "      <td>NaN</td>\n",
              "      <td>British</td>\n",
              "      <td>JJ</td>\n",
              "      <td>B-gpe</td>\n",
              "    </tr>\n",
              "    <tr>\n",
              "      <th>19</th>\n",
              "      <td>NaN</td>\n",
              "      <td>troops</td>\n",
              "      <td>NNS</td>\n",
              "      <td>O</td>\n",
              "    </tr>\n",
              "    <tr>\n",
              "      <th>20</th>\n",
              "      <td>NaN</td>\n",
              "      <td>from</td>\n",
              "      <td>IN</td>\n",
              "      <td>O</td>\n",
              "    </tr>\n",
              "    <tr>\n",
              "      <th>21</th>\n",
              "      <td>NaN</td>\n",
              "      <td>that</td>\n",
              "      <td>DT</td>\n",
              "      <td>O</td>\n",
              "    </tr>\n",
              "    <tr>\n",
              "      <th>22</th>\n",
              "      <td>NaN</td>\n",
              "      <td>country</td>\n",
              "      <td>NN</td>\n",
              "      <td>O</td>\n",
              "    </tr>\n",
              "    <tr>\n",
              "      <th>23</th>\n",
              "      <td>NaN</td>\n",
              "      <td>.</td>\n",
              "      <td>.</td>\n",
              "      <td>O</td>\n",
              "    </tr>\n",
              "    <tr>\n",
              "      <th>24</th>\n",
              "      <td>Sentence: 2</td>\n",
              "      <td>Families</td>\n",
              "      <td>NNS</td>\n",
              "      <td>O</td>\n",
              "    </tr>\n",
              "    <tr>\n",
              "      <th>25</th>\n",
              "      <td>NaN</td>\n",
              "      <td>of</td>\n",
              "      <td>IN</td>\n",
              "      <td>O</td>\n",
              "    </tr>\n",
              "    <tr>\n",
              "      <th>26</th>\n",
              "      <td>NaN</td>\n",
              "      <td>soldiers</td>\n",
              "      <td>NNS</td>\n",
              "      <td>O</td>\n",
              "    </tr>\n",
              "    <tr>\n",
              "      <th>27</th>\n",
              "      <td>NaN</td>\n",
              "      <td>killed</td>\n",
              "      <td>VBN</td>\n",
              "      <td>O</td>\n",
              "    </tr>\n",
              "    <tr>\n",
              "      <th>28</th>\n",
              "      <td>NaN</td>\n",
              "      <td>in</td>\n",
              "      <td>IN</td>\n",
              "      <td>O</td>\n",
              "    </tr>\n",
              "    <tr>\n",
              "      <th>29</th>\n",
              "      <td>NaN</td>\n",
              "      <td>the</td>\n",
              "      <td>DT</td>\n",
              "      <td>O</td>\n",
              "    </tr>\n",
              "    <tr>\n",
              "      <th>30</th>\n",
              "      <td>NaN</td>\n",
              "      <td>conflict</td>\n",
              "      <td>NN</td>\n",
              "      <td>O</td>\n",
              "    </tr>\n",
              "    <tr>\n",
              "      <th>31</th>\n",
              "      <td>NaN</td>\n",
              "      <td>joined</td>\n",
              "      <td>VBD</td>\n",
              "      <td>O</td>\n",
              "    </tr>\n",
              "    <tr>\n",
              "      <th>32</th>\n",
              "      <td>NaN</td>\n",
              "      <td>the</td>\n",
              "      <td>DT</td>\n",
              "      <td>O</td>\n",
              "    </tr>\n",
              "    <tr>\n",
              "      <th>33</th>\n",
              "      <td>NaN</td>\n",
              "      <td>protesters</td>\n",
              "      <td>NNS</td>\n",
              "      <td>O</td>\n",
              "    </tr>\n",
              "    <tr>\n",
              "      <th>34</th>\n",
              "      <td>NaN</td>\n",
              "      <td>who</td>\n",
              "      <td>WP</td>\n",
              "      <td>O</td>\n",
              "    </tr>\n",
              "    <tr>\n",
              "      <th>35</th>\n",
              "      <td>NaN</td>\n",
              "      <td>carried</td>\n",
              "      <td>VBD</td>\n",
              "      <td>O</td>\n",
              "    </tr>\n",
              "    <tr>\n",
              "      <th>36</th>\n",
              "      <td>NaN</td>\n",
              "      <td>banners</td>\n",
              "      <td>NNS</td>\n",
              "      <td>O</td>\n",
              "    </tr>\n",
              "    <tr>\n",
              "      <th>37</th>\n",
              "      <td>NaN</td>\n",
              "      <td>with</td>\n",
              "      <td>IN</td>\n",
              "      <td>O</td>\n",
              "    </tr>\n",
              "    <tr>\n",
              "      <th>38</th>\n",
              "      <td>NaN</td>\n",
              "      <td>such</td>\n",
              "      <td>JJ</td>\n",
              "      <td>O</td>\n",
              "    </tr>\n",
              "    <tr>\n",
              "      <th>39</th>\n",
              "      <td>NaN</td>\n",
              "      <td>slogans</td>\n",
              "      <td>NNS</td>\n",
              "      <td>O</td>\n",
              "    </tr>\n",
              "    <tr>\n",
              "      <th>40</th>\n",
              "      <td>NaN</td>\n",
              "      <td>as</td>\n",
              "      <td>IN</td>\n",
              "      <td>O</td>\n",
              "    </tr>\n",
              "    <tr>\n",
              "      <th>41</th>\n",
              "      <td>NaN</td>\n",
              "      <td>\"</td>\n",
              "      <td>``</td>\n",
              "      <td>O</td>\n",
              "    </tr>\n",
              "    <tr>\n",
              "      <th>42</th>\n",
              "      <td>NaN</td>\n",
              "      <td>Bush</td>\n",
              "      <td>NNP</td>\n",
              "      <td>B-per</td>\n",
              "    </tr>\n",
              "    <tr>\n",
              "      <th>43</th>\n",
              "      <td>NaN</td>\n",
              "      <td>Number</td>\n",
              "      <td>NN</td>\n",
              "      <td>O</td>\n",
              "    </tr>\n",
              "    <tr>\n",
              "      <th>44</th>\n",
              "      <td>NaN</td>\n",
              "      <td>One</td>\n",
              "      <td>CD</td>\n",
              "      <td>O</td>\n",
              "    </tr>\n",
              "    <tr>\n",
              "      <th>45</th>\n",
              "      <td>NaN</td>\n",
              "      <td>Terrorist</td>\n",
              "      <td>NN</td>\n",
              "      <td>O</td>\n",
              "    </tr>\n",
              "    <tr>\n",
              "      <th>46</th>\n",
              "      <td>NaN</td>\n",
              "      <td>\"</td>\n",
              "      <td>``</td>\n",
              "      <td>O</td>\n",
              "    </tr>\n",
              "    <tr>\n",
              "      <th>47</th>\n",
              "      <td>NaN</td>\n",
              "      <td>and</td>\n",
              "      <td>CC</td>\n",
              "      <td>O</td>\n",
              "    </tr>\n",
              "    <tr>\n",
              "      <th>48</th>\n",
              "      <td>NaN</td>\n",
              "      <td>\"</td>\n",
              "      <td>``</td>\n",
              "      <td>O</td>\n",
              "    </tr>\n",
              "    <tr>\n",
              "      <th>49</th>\n",
              "      <td>NaN</td>\n",
              "      <td>Stop</td>\n",
              "      <td>VB</td>\n",
              "      <td>O</td>\n",
              "    </tr>\n",
              "  </tbody>\n",
              "</table>\n",
              "</div>"
            ],
            "text/plain": [
              "     Sentence #           Word  POS    Tag\n",
              "0   Sentence: 1      Thousands  NNS      O\n",
              "1           NaN             of   IN      O\n",
              "2           NaN  demonstrators  NNS      O\n",
              "3           NaN           have  VBP      O\n",
              "4           NaN        marched  VBN      O\n",
              "5           NaN        through   IN      O\n",
              "6           NaN         London  NNP  B-geo\n",
              "7           NaN             to   TO      O\n",
              "8           NaN        protest   VB      O\n",
              "9           NaN            the   DT      O\n",
              "10          NaN            war   NN      O\n",
              "11          NaN             in   IN      O\n",
              "12          NaN           Iraq  NNP  B-geo\n",
              "13          NaN            and   CC      O\n",
              "14          NaN         demand   VB      O\n",
              "15          NaN            the   DT      O\n",
              "16          NaN     withdrawal   NN      O\n",
              "17          NaN             of   IN      O\n",
              "18          NaN        British   JJ  B-gpe\n",
              "19          NaN         troops  NNS      O\n",
              "20          NaN           from   IN      O\n",
              "21          NaN           that   DT      O\n",
              "22          NaN        country   NN      O\n",
              "23          NaN              .    .      O\n",
              "24  Sentence: 2       Families  NNS      O\n",
              "25          NaN             of   IN      O\n",
              "26          NaN       soldiers  NNS      O\n",
              "27          NaN         killed  VBN      O\n",
              "28          NaN             in   IN      O\n",
              "29          NaN            the   DT      O\n",
              "30          NaN       conflict   NN      O\n",
              "31          NaN         joined  VBD      O\n",
              "32          NaN            the   DT      O\n",
              "33          NaN     protesters  NNS      O\n",
              "34          NaN            who   WP      O\n",
              "35          NaN        carried  VBD      O\n",
              "36          NaN        banners  NNS      O\n",
              "37          NaN           with   IN      O\n",
              "38          NaN           such   JJ      O\n",
              "39          NaN        slogans  NNS      O\n",
              "40          NaN             as   IN      O\n",
              "41          NaN              \"   ``      O\n",
              "42          NaN           Bush  NNP  B-per\n",
              "43          NaN         Number   NN      O\n",
              "44          NaN            One   CD      O\n",
              "45          NaN      Terrorist   NN      O\n",
              "46          NaN              \"   ``      O\n",
              "47          NaN            and   CC      O\n",
              "48          NaN              \"   ``      O\n",
              "49          NaN           Stop   VB      O"
            ]
          },
          "metadata": {
            "tags": []
          },
          "execution_count": 19
        }
      ]
    },
    {
      "cell_type": "code",
      "metadata": {
        "colab": {
          "base_uri": "https://localhost:8080/",
          "height": 164
        },
        "id": "ThEHj2grLWi1",
        "outputId": "f04299b6-634d-48a2-a796-045cb9438bc0"
      },
      "source": [
        "df.describe()"
      ],
      "execution_count": 20,
      "outputs": [
        {
          "output_type": "execute_result",
          "data": {
            "text/html": [
              "<div>\n",
              "<style scoped>\n",
              "    .dataframe tbody tr th:only-of-type {\n",
              "        vertical-align: middle;\n",
              "    }\n",
              "\n",
              "    .dataframe tbody tr th {\n",
              "        vertical-align: top;\n",
              "    }\n",
              "\n",
              "    .dataframe thead th {\n",
              "        text-align: right;\n",
              "    }\n",
              "</style>\n",
              "<table border=\"1\" class=\"dataframe\">\n",
              "  <thead>\n",
              "    <tr style=\"text-align: right;\">\n",
              "      <th></th>\n",
              "      <th>Sentence #</th>\n",
              "      <th>Word</th>\n",
              "      <th>POS</th>\n",
              "      <th>Tag</th>\n",
              "    </tr>\n",
              "  </thead>\n",
              "  <tbody>\n",
              "    <tr>\n",
              "      <th>count</th>\n",
              "      <td>47959</td>\n",
              "      <td>1048575</td>\n",
              "      <td>1048575</td>\n",
              "      <td>1048575</td>\n",
              "    </tr>\n",
              "    <tr>\n",
              "      <th>unique</th>\n",
              "      <td>47959</td>\n",
              "      <td>35178</td>\n",
              "      <td>42</td>\n",
              "      <td>17</td>\n",
              "    </tr>\n",
              "    <tr>\n",
              "      <th>top</th>\n",
              "      <td>Sentence: 3988</td>\n",
              "      <td>the</td>\n",
              "      <td>NN</td>\n",
              "      <td>O</td>\n",
              "    </tr>\n",
              "    <tr>\n",
              "      <th>freq</th>\n",
              "      <td>1</td>\n",
              "      <td>52573</td>\n",
              "      <td>145807</td>\n",
              "      <td>887908</td>\n",
              "    </tr>\n",
              "  </tbody>\n",
              "</table>\n",
              "</div>"
            ],
            "text/plain": [
              "            Sentence #     Word      POS      Tag\n",
              "count            47959  1048575  1048575  1048575\n",
              "unique           47959    35178       42       17\n",
              "top     Sentence: 3988      the       NN        O\n",
              "freq                 1    52573   145807   887908"
            ]
          },
          "metadata": {
            "tags": []
          },
          "execution_count": 20
        }
      ]
    },
    {
      "cell_type": "code",
      "metadata": {
        "colab": {
          "base_uri": "https://localhost:8080/",
          "height": 287
        },
        "id": "gysjJf4VLWQv",
        "outputId": "146d3764-8b09-4a8a-8b5f-106b1054cad1"
      },
      "source": [
        "import seaborn\n",
        "seaborn.heatmap(df.isnull())"
      ],
      "execution_count": 21,
      "outputs": [
        {
          "output_type": "execute_result",
          "data": {
            "text/plain": [
              "<matplotlib.axes._subplots.AxesSubplot at 0x7f39d297f5d0>"
            ]
          },
          "metadata": {
            "tags": []
          },
          "execution_count": 21
        },
        {
          "output_type": "display_data",
          "data": {
            "image/png": "[encoded data removed]",
            "text/plain": [
              "<Figure size 432x288 with 2 Axes>"
            ]
          },
          "metadata": {
            "tags": [],
            "needs_background": "light"
          }
        }
      ]
    },
    {
      "cell_type": "code",
      "metadata": {
        "colab": {
          "base_uri": "https://localhost:8080/"
        },
        "id": "JYZeAhP-LWVJ",
        "outputId": "88ce855e-b0cc-4e59-9ab9-c6bccce45303"
      },
      "source": [
        "df.isnull().sum()"
      ],
      "execution_count": 22,
      "outputs": [
        {
          "output_type": "execute_result",
          "data": {
            "text/plain": [
              "Sentence #    1000616\n",
              "Word                0\n",
              "POS                 0\n",
              "Tag                 0\n",
              "dtype: int64"
            ]
          },
          "metadata": {
            "tags": []
          },
          "execution_count": 22
        }
      ]
    },
    {
      "cell_type": "code",
      "metadata": {
        "colab": {
          "base_uri": "https://localhost:8080/"
        },
        "id": "YWJJ6eLcLWZO",
        "outputId": "2e59f6a4-3faf-4c17-e325-8a94c6a356ea"
      },
      "source": [
        "print(df['Tag'].value_counts())\n",
        "#Displaying the unique Tags\n",
        "p=df['Tag'].unique()\n",
        "print(p)"
      ],
      "execution_count": 23,
      "outputs": [
        {
          "output_type": "stream",
          "text": [
            "O        887908\n",
            "B-geo     37644\n",
            "B-tim     20333\n",
            "B-org     20143\n",
            "I-per     17251\n",
            "B-per     16990\n",
            "I-org     16784\n",
            "B-gpe     15870\n",
            "I-geo      7414\n",
            "I-tim      6528\n",
            "B-art       402\n",
            "B-eve       308\n",
            "I-art       297\n",
            "I-eve       253\n",
            "B-nat       201\n",
            "I-gpe       198\n",
            "I-nat        51\n",
            "Name: Tag, dtype: int64\n",
            "['O' 'B-geo' 'B-gpe' 'B-per' 'I-geo' 'B-org' 'I-org' 'B-tim' 'B-art'\n",
            " 'I-art' 'I-per' 'I-gpe' 'I-tim' 'B-nat' 'B-eve' 'I-eve' 'I-nat']\n"
          ],
          "name": "stdout"
        }
      ]
    },
    {
      "cell_type": "code",
      "metadata": {
        "colab": {
          "base_uri": "https://localhost:8080/",
          "height": 446
        },
        "id": "EEZYVvz9LWeg",
        "outputId": "ac1a50a5-c0d0-41bc-87df-4a65e9930fdb"
      },
      "source": [
        "df['Tag'].value_counts().plot(kind='barh',figsize=(10,7))"
      ],
      "execution_count": 24,
      "outputs": [
        {
          "output_type": "execute_result",
          "data": {
            "text/plain": [
              "<matplotlib.axes._subplots.AxesSubplot at 0x7f39b62f8390>"
            ]
          },
          "metadata": {
            "tags": []
          },
          "execution_count": 24
        },
        {
          "output_type": "display_data",
          "data": {
            "image/png": "[encoded data removed]",
            "text/plain": [
              "<Figure size 720x504 with 1 Axes>"
            ]
          },
          "metadata": {
            "tags": [],
            "needs_background": "light"
          }
        }
      ]
    },
    {
      "cell_type": "code",
      "metadata": {
        "colab": {
          "base_uri": "https://localhost:8080/",
          "height": 627
        },
        "id": "9y_aGenmMuvc",
        "outputId": "c7a887e5-64fe-47c6-c9ef-11c4701741a6"
      },
      "source": [
        "df['POS'].value_counts().plot(kind='bar',figsize=(15,10))"
      ],
      "execution_count": 25,
      "outputs": [
        {
          "output_type": "execute_result",
          "data": {
            "text/plain": [
              "<matplotlib.axes._subplots.AxesSubplot at 0x7f39b678d7d0>"
            ]
          },
          "metadata": {
            "tags": []
          },
          "execution_count": 25
        },
        {
          "output_type": "display_data",
          "data": {
            "image/png": "[encoded data removed]",
            "text/plain": [
              "<Figure size 1080x720 with 1 Axes>"
            ]
          },
          "metadata": {
            "tags": [],
            "needs_background": "light"
          }
        }
      ]
    },
    {
      "cell_type": "code",
      "metadata": {
        "id": "XOC0FjMJMxQo"
      },
      "source": [
        "df = df.fillna(method = 'ffill')"
      ],
      "execution_count": 26,
      "outputs": []
    },
    {
      "cell_type": "code",
      "metadata": {
        "id": "N6aTpoRBMxZa"
      },
      "source": [
        "cols_to_check = ['Sentence #']\n",
        "df[cols_to_check] = df[cols_to_check].replace({'Sentence:':''}, regex=True)"
      ],
      "execution_count": 27,
      "outputs": []
    },
    {
      "cell_type": "code",
      "metadata": {
        "colab": {
          "base_uri": "https://localhost:8080/",
          "height": 399
        },
        "id": "V19HF0YvM_XE",
        "outputId": "69720f27-44a6-4e54-ac02-864ba8f68e64"
      },
      "source": [
        "df"
      ],
      "execution_count": 28,
      "outputs": [
        {
          "output_type": "execute_result",
          "data": {
            "text/html": [
              "<div>\n",
              "<style scoped>\n",
              "    .dataframe tbody tr th:only-of-type {\n",
              "        vertical-align: middle;\n",
              "    }\n",
              "\n",
              "    .dataframe tbody tr th {\n",
              "        vertical-align: top;\n",
              "    }\n",
              "\n",
              "    .dataframe thead th {\n",
              "        text-align: right;\n",
              "    }\n",
              "</style>\n",
              "<table border=\"1\" class=\"dataframe\">\n",
              "  <thead>\n",
              "    <tr style=\"text-align: right;\">\n",
              "      <th></th>\n",
              "      <th>Sentence #</th>\n",
              "      <th>Word</th>\n",
              "      <th>POS</th>\n",
              "      <th>Tag</th>\n",
              "    </tr>\n",
              "  </thead>\n",
              "  <tbody>\n",
              "    <tr>\n",
              "      <th>0</th>\n",
              "      <td>1</td>\n",
              "      <td>Thousands</td>\n",
              "      <td>NNS</td>\n",
              "      <td>O</td>\n",
              "    </tr>\n",
              "    <tr>\n",
              "      <th>1</th>\n",
              "      <td>1</td>\n",
              "      <td>of</td>\n",
              "      <td>IN</td>\n",
              "      <td>O</td>\n",
              "    </tr>\n",
              "    <tr>\n",
              "      <th>2</th>\n",
              "      <td>1</td>\n",
              "      <td>demonstrators</td>\n",
              "      <td>NNS</td>\n",
              "      <td>O</td>\n",
              "    </tr>\n",
              "    <tr>\n",
              "      <th>3</th>\n",
              "      <td>1</td>\n",
              "      <td>have</td>\n",
              "      <td>VBP</td>\n",
              "      <td>O</td>\n",
              "    </tr>\n",
              "    <tr>\n",
              "      <th>4</th>\n",
              "      <td>1</td>\n",
              "      <td>marched</td>\n",
              "      <td>VBN</td>\n",
              "      <td>O</td>\n",
              "    </tr>\n",
              "    <tr>\n",
              "      <th>...</th>\n",
              "      <td>...</td>\n",
              "      <td>...</td>\n",
              "      <td>...</td>\n",
              "      <td>...</td>\n",
              "    </tr>\n",
              "    <tr>\n",
              "      <th>1048570</th>\n",
              "      <td>47959</td>\n",
              "      <td>they</td>\n",
              "      <td>PRP</td>\n",
              "      <td>O</td>\n",
              "    </tr>\n",
              "    <tr>\n",
              "      <th>1048571</th>\n",
              "      <td>47959</td>\n",
              "      <td>responded</td>\n",
              "      <td>VBD</td>\n",
              "      <td>O</td>\n",
              "    </tr>\n",
              "    <tr>\n",
              "      <th>1048572</th>\n",
              "      <td>47959</td>\n",
              "      <td>to</td>\n",
              "      <td>TO</td>\n",
              "      <td>O</td>\n",
              "    </tr>\n",
              "    <tr>\n",
              "      <th>1048573</th>\n",
              "      <td>47959</td>\n",
              "      <td>the</td>\n",
              "      <td>DT</td>\n",
              "      <td>O</td>\n",
              "    </tr>\n",
              "    <tr>\n",
              "      <th>1048574</th>\n",
              "      <td>47959</td>\n",
              "      <td>attack</td>\n",
              "      <td>NN</td>\n",
              "      <td>O</td>\n",
              "    </tr>\n",
              "  </tbody>\n",
              "</table>\n",
              "<p>1048575 rows × 4 columns</p>\n",
              "</div>"
            ],
            "text/plain": [
              "        Sentence #           Word  POS Tag\n",
              "0                1      Thousands  NNS   O\n",
              "1                1             of   IN   O\n",
              "2                1  demonstrators  NNS   O\n",
              "3                1           have  VBP   O\n",
              "4                1        marched  VBN   O\n",
              "...            ...            ...  ...  ..\n",
              "1048570      47959           they  PRP   O\n",
              "1048571      47959      responded  VBD   O\n",
              "1048572      47959             to   TO   O\n",
              "1048573      47959            the   DT   O\n",
              "1048574      47959         attack   NN   O\n",
              "\n",
              "[1048575 rows x 4 columns]"
            ]
          },
          "metadata": {
            "tags": []
          },
          "execution_count": 28
        }
      ]
    },
    {
      "cell_type": "code",
      "metadata": {
        "id": "hnYDXfwZkMmt"
      },
      "source": [
        "class SentenceGetter(object):\n",
        "\n",
        "    def __init__(self, data):\n",
        "        self.n_sent = 1\n",
        "        self.data = data\n",
        "        self.empty = False\n",
        "       # agg_func = lambda s: [(w, p, t) for w, p, t in zip(s[\"Word\"].values.tolist(),\n",
        "       #                                                    s[\"POS\"].values.tolist(),\n",
        "        #                                                   s[\"Tag\"].values.tolist())]\n",
        "        agg_func = lambda s: [(w, t) for w, t in zip(s[\"Word\"].values.tolist(),\n",
        "                                                           s[\"Tag\"].values.tolist())]\n",
        "        self.grouped = self.data.groupby(\"Sentence #\").apply(agg_func)\n",
        "        self.sentences = [s for s in self.grouped]\n",
        "\n",
        "    def get_next(self):\n",
        "        try:\n",
        "            s = self.grouped[\"{}\".format(self.n_sent)]\n",
        "            self.n_sent += 1\n",
        "            return s\n",
        "        except:\n",
        "            return None"
      ],
      "execution_count": 32,
      "outputs": []
    },
    {
      "cell_type": "code",
      "metadata": {
        "id": "0T9wCJIhkUrj"
      },
      "source": [
        "getter = SentenceGetter(df)"
      ],
      "execution_count": 33,
      "outputs": []
    },
    {
      "cell_type": "code",
      "metadata": {
        "id": "cja9q2McXGAv"
      },
      "source": [
        "class SentenceGetter(object):\n",
        "    \n",
        "    def __init__(self, dataset, word_col, tag_col, sent_id_col):\n",
        "        self.n_sent = 1\n",
        "        self.dataset = dataset\n",
        "        self.empty = False\n",
        "        agg_func = lambda s: [\n",
        "            (w, t) for w,t in zip(s[word_col].values.tolist(), s[tag_col].values.tolist())\n",
        "        ]\n",
        "        self.grouped = self.dataset.groupby(sent_id_col).apply(agg_func)\n",
        "        self.sentences = [s for s in self.grouped]\n",
        "    \n",
        "    def get_next(self):\n",
        "        try:\n",
        "            s = self.grouped[\"Sentence: {}\".format(self.n_sent)]\n",
        "            self.n_sent += 1\n",
        "            return s\n",
        "        except:\n",
        "            return None"
      ],
      "execution_count": 54,
      "outputs": []
    },
    {
      "cell_type": "code",
      "metadata": {
        "colab": {
          "base_uri": "https://localhost:8080/"
        },
        "id": "EUhBmIMYVU_J",
        "outputId": "e515d868-c884-40a7-fef0-c4f0dc2e69c0"
      },
      "source": [
        "getter = SentenceGetter(dataset=df, word_col='Word', tag_col='Tag', sent_id_col='Sentence #')\n",
        "sentences = getter.sentences\n",
        "print(sentences[0])"
      ],
      "execution_count": 59,
      "outputs": [
        {
          "output_type": "stream",
          "text": [
            "[('Thousands', 'O'), ('of', 'O'), ('demonstrators', 'O'), ('have', 'O'), ('marched', 'O'), ('through', 'O'), ('London', 'B-geo'), ('to', 'O'), ('protest', 'O'), ('the', 'O'), ('war', 'O'), ('in', 'O'), ('Iraq', 'B-geo'), ('and', 'O'), ('demand', 'O'), ('the', 'O'), ('withdrawal', 'O'), ('of', 'O'), ('British', 'B-gpe'), ('troops', 'O'), ('from', 'O'), ('that', 'O'), ('country', 'O'), ('.', 'O')]\n"
          ],
          "name": "stdout"
        }
      ]
    },
    {
      "cell_type": "code",
      "metadata": {
        "colab": {
          "base_uri": "https://localhost:8080/",
          "height": 459
        },
        "id": "HOYNV6ydVi5G",
        "outputId": "7ed2b170-92a5-40ed-8092-6e4eee423e86"
      },
      "source": [
        "fig, ax = plt.subplots(figsize=(20, 6))\n",
        "ax.hist([len(s) for s in sentences], bins=50)\n",
        "ax.set_title('Number of words in each Sentence')\n",
        "\n",
        "maxlen = max([len(s) for s in sentences])\n",
        "print('Number of Sentences:', len(sentences))\n",
        "print ('Maximum sequence length:', maxlen)\n",
        "\n",
        "words = list(set(df[\"Word\"].values))\n",
        "words.append(\"ENDPAD\")\n",
        "n_words = len(words)\n",
        "print('Number of unique words:', n_words)"
      ],
      "execution_count": 61,
      "outputs": [
        {
          "output_type": "stream",
          "text": [
            "Number of Sentences: 47959\n",
            "Maximum sequence length: 104\n",
            "Number of unique words: 35179\n"
          ],
          "name": "stdout"
        },
        {
          "output_type": "display_data",
          "data": {
            "image/png": "[encoded data removed]",
            "text/plain": [
              "<Figure size 1440x432 with 1 Axes>"
            ]
          },
          "metadata": {
            "tags": []
          }
        }
      ]
    },
    {
      "cell_type": "code",
      "metadata": {
        "colab": {
          "base_uri": "https://localhost:8080/",
          "height": 852
        },
        "id": "uVON1L6CWCbo",
        "outputId": "b0cacc6b-422d-4567-8f0f-d23a8857b445"
      },
      "source": [
        "fig, ax = plt.subplots(2, 1, figsize=(30, 15))\n",
        "df.Tag.value_counts().plot.bar(ax=ax[0], title='Distribution of Tags')\n",
        "df[df.Tag != 'O'].Tag.value_counts().plot.bar(ax=ax[1], title='Distribution of non-O Tags')\n",
        "\n",
        "tags = list(set(df[\"Tag\"].values))\n",
        "n_tags = len(tags)\n",
        "print('Number of unique Tags:', n_tags)"
      ],
      "execution_count": 64,
      "outputs": [
        {
          "output_type": "stream",
          "text": [
            "Number of unique Tags: 17\n"
          ],
          "name": "stdout"
        },
        {
          "output_type": "display_data",
          "data": {
            "image/png": "[encoded data removed]",
            "text/plain": [
              "<Figure size 2160x1080 with 2 Axes>"
            ]
          },
          "metadata": {
            "tags": []
          }
        }
      ]
    },
    {
      "cell_type": "code",
      "metadata": {
        "colab": {
          "base_uri": "https://localhost:8080/"
        },
        "id": "7j-9GmbwkVY6",
        "outputId": "69439001-a653-444d-ebb2-c5f0bdead6fd"
      },
      "source": [
        "sentences = [[word[0] for word in sentence] for sentence in getter.sentences]\n",
        "sentences[0]\n"
      ],
      "execution_count": 34,
      "outputs": [
        {
          "output_type": "execute_result",
          "data": {
            "text/plain": [
              "['Thousands',\n",
              " 'of',\n",
              " 'demonstrators',\n",
              " 'have',\n",
              " 'marched',\n",
              " 'through',\n",
              " 'London',\n",
              " 'to',\n",
              " 'protest',\n",
              " 'the',\n",
              " 'war',\n",
              " 'in',\n",
              " 'Iraq',\n",
              " 'and',\n",
              " 'demand',\n",
              " 'the',\n",
              " 'withdrawal',\n",
              " 'of',\n",
              " 'British',\n",
              " 'troops',\n",
              " 'from',\n",
              " 'that',\n",
              " 'country',\n",
              " '.']"
            ]
          },
          "metadata": {
            "tags": []
          },
          "execution_count": 34
        }
      ]
    },
    {
      "cell_type": "code",
      "metadata": {
        "colab": {
          "base_uri": "https://localhost:8080/"
        },
        "id": "NxPod5mxZ5_g",
        "outputId": "8016612b-1f2a-4a6f-ed0d-0a8a090e3681"
      },
      "source": [
        "labels = [[s[1] for s in sentence] for sentence in getter.sentences]\n",
        "print(labels[0])"
      ],
      "execution_count": 35,
      "outputs": [
        {
          "output_type": "stream",
          "text": [
            "['O', 'O', 'O', 'O', 'O', 'O', 'B-geo', 'O', 'O', 'O', 'O', 'O', 'B-geo', 'O', 'O', 'O', 'O', 'O', 'B-gpe', 'O', 'O', 'O', 'O', 'O']\n"
          ],
          "name": "stdout"
        }
      ]
    },
    {
      "cell_type": "code",
      "metadata": {
        "id": "sn5-rn5JkcXq"
      },
      "source": [
        "tag_values = list(set(df[\"Tag\"].values))\n",
        "tag_values.append(\"PAD\")\n",
        "tag2idx = {t: i for i, t in enumerate(tag_values)}\n",
        "#Padding is addded end of each sentence,"
      ],
      "execution_count": 37,
      "outputs": []
    },
    {
      "cell_type": "markdown",
      "metadata": {
        "id": "w_H0nvvONXtC"
      },
      "source": [
        "importing torch lib"
      ]
    },
    {
      "cell_type": "code",
      "metadata": {
        "colab": {
          "base_uri": "https://localhost:8080/",
          "height": 36
        },
        "id": "GYtu_OS0kgcx",
        "outputId": "8ad8413b-3579-4aa7-ea32-8fe289e6dd9f"
      },
      "source": [
        "import torch\n",
        "from torch.utils.data import TensorDataset, DataLoader, RandomSampler, SequentialSampler\n",
        "from transformers import BertTokenizer, BertConfig\n",
        "\n",
        "from keras.preprocessing.sequence import pad_sequences\n",
        "from sklearn.model_selection import train_test_split\n",
        "\n",
        "torch.__version__"
      ],
      "execution_count": 38,
      "outputs": [
        {
          "output_type": "execute_result",
          "data": {
            "application/vnd.google.colaboratory.intrinsic+json": {
              "type": "string"
            },
            "text/plain": [
              "'1.8.0+cu101'"
            ]
          },
          "metadata": {
            "tags": []
          },
          "execution_count": 38
        }
      ]
    },
    {
      "cell_type": "markdown",
      "metadata": {
        "id": "KweEpqsROGq2"
      },
      "source": [
        "For GPU"
      ]
    },
    {
      "cell_type": "code",
      "metadata": {
        "colab": {
          "base_uri": "https://localhost:8080/"
        },
        "id": "4mO5pJf1N2SF",
        "outputId": "60e32db1-d93e-4ca6-c62b-d1f4058a28e7"
      },
      "source": [
        "import os\n",
        "import time\n",
        "x=!nvidia-smi\n",
        "count=0\n",
        "for i in x:\n",
        "    if \"============\" in i:\n",
        "        count+=1\n",
        "        break\n",
        "    count+=1\n",
        "if 'p100' in x[count].lower():\n",
        "    print(\"found\")\n",
        "else:\n",
        "    print(x[count])\n",
        "    time.sleep(1)\n",
        "    \n",
        "    #os._exit(00)"
      ],
      "execution_count": 40,
      "outputs": [
        {
          "output_type": "stream",
          "text": [
            "|   0  Tesla T4            Off  | 00000000:00:04.0 Off |                    0 |\n"
          ],
          "name": "stdout"
        }
      ]
    },
    {
      "cell_type": "code",
      "metadata": {
        "colab": {
          "base_uri": "https://localhost:8080/"
        },
        "id": "w6IIM4MNN34q",
        "outputId": "1d11f2ef-a5c3-4c1c-89c2-00e57389d52f"
      },
      "source": [
        "!nvidia-smi"
      ],
      "execution_count": 41,
      "outputs": [
        {
          "output_type": "stream",
          "text": [
            "Thu Mar 25 16:30:07 2021       \n",
            "+-----------------------------------------------------------------------------+\n",
            "| NVIDIA-SMI 460.56       Driver Version: 460.32.03    CUDA Version: 11.2     |\n",
            "|-------------------------------+----------------------+----------------------+\n",
            "| GPU  Name        Persistence-M| Bus-Id        Disp.A | Volatile Uncorr. ECC |\n",
            "| Fan  Temp  Perf  Pwr:Usage/Cap|         Memory-Usage | GPU-Util  Compute M. |\n",
            "|                               |                      |               MIG M. |\n",
            "|===============================+======================+======================|\n",
            "|   0  Tesla T4            Off  | 00000000:00:04.0 Off |                    0 |\n",
            "| N/A   41C    P8     9W /  70W |      0MiB / 15109MiB |      0%      Default |\n",
            "|                               |                      |                  N/A |\n",
            "+-------------------------------+----------------------+----------------------+\n",
            "                                                                               \n",
            "+-----------------------------------------------------------------------------+\n",
            "| Processes:                                                                  |\n",
            "|  GPU   GI   CI        PID   Type   Process name                  GPU Memory |\n",
            "|        ID   ID                                                   Usage      |\n",
            "|=============================================================================|\n",
            "|  No running processes found                                                 |\n",
            "+-----------------------------------------------------------------------------+\n"
          ],
          "name": "stdout"
        }
      ]
    },
    {
      "cell_type": "code",
      "metadata": {
        "id": "-U6w159bkjbO"
      },
      "source": [
        "MAX_LEN = 61\n",
        "bs = 32"
      ],
      "execution_count": 42,
      "outputs": []
    },
    {
      "cell_type": "code",
      "metadata": {
        "id": "3jLx8yAKkpEV",
        "colab": {
          "base_uri": "https://localhost:8080/",
          "height": 67,
          "referenced_widgets": [
            "e1e970d17a134f2b85a95f0e8e03ee03",
            "91f12969a1e446388cd2cf8c2d0b292d",
            "65889b885a1e4a738ec8695ea08e3fb9",
            "7e162df0c58241eeb449ebd800e430c6",
            "2fff0e13503b4638bd96d52f8478bfbe",
            "3580a49db32642bd8fb99a1a028dd439",
            "4c54febec3744c4392468846f32ba8f3",
            "975a6e27c70b49419314fd0791ddc71a"
          ]
        },
        "outputId": "e340e222-d5d9-4a95-8e71-c47e1a3e50a8"
      },
      "source": [
        "device = torch.device(\"cuda\" if torch.cuda.is_available() else \"cpu\")\n",
        "n_gpu = torch.cuda.device_count()\n",
        "tokenizer = BertTokenizer.from_pretrained('bert-base-cased', do_lower_case=False)\n",
        "# tokenize \n",
        "def tokenize_and_preserve_labels(sentence, text_labels):\n",
        "    tokenized_sentence = []\n",
        "    labels = []\n",
        "\n",
        "    for word, label in zip(sentence, text_labels):\n",
        "\n",
        "        # Tokenize the word and count # of subwords the word is broken into\n",
        "        tokenized_word = tokenizer.tokenize(word)\n",
        "        n_subwords = len(tokenized_word)\n",
        "\n",
        "        # Add the tokenized word to the final tokenized word list\n",
        "        tokenized_sentence.extend(tokenized_word)\n",
        "\n",
        "        # Add the same label to the new list of labels `n_subwords` times\n",
        "        labels.extend([label] * n_subwords)\n",
        "\n",
        "    return tokenized_sentence, labels\n"
      ],
      "execution_count": 43,
      "outputs": [
        {
          "output_type": "display_data",
          "data": {
            "application/vnd.jupyter.widget-view+json": {
              "model_id": "e1e970d17a134f2b85a95f0e8e03ee03",
              "version_minor": 0,
              "version_major": 2
            },
            "text/plain": [
              "HBox(children=(FloatProgress(value=0.0, description='Downloading', max=213450.0, style=ProgressStyle(descripti…"
            ]
          },
          "metadata": {
            "tags": []
          }
        },
        {
          "output_type": "stream",
          "text": [
            "\n"
          ],
          "name": "stdout"
        }
      ]
    },
    {
      "cell_type": "code",
      "metadata": {
        "id": "1J-kDJKEk0zl"
      },
      "source": [
        "tokenized_texts_and_labels = [\n",
        "    tokenize_and_preserve_labels(sent, labs)\n",
        "    for sent, labs in zip(sentences, labels)\n",
        "]"
      ],
      "execution_count": 44,
      "outputs": []
    },
    {
      "cell_type": "code",
      "metadata": {
        "id": "ePtP7_Ysk1s0"
      },
      "source": [
        "tokenized_texts = [token_label_pair[0] for token_label_pair in tokenized_texts_and_labels]\n",
        "labels = [token_label_pair[1] for token_label_pair in tokenized_texts_and_labels]"
      ],
      "execution_count": 45,
      "outputs": []
    },
    {
      "cell_type": "code",
      "metadata": {
        "id": "24wVPYfUk5S6"
      },
      "source": [
        "#cut and pad to the desied length 75 bcz ab no of token increase ho gya\n",
        "input_ids = pad_sequences([tokenizer.convert_tokens_to_ids(txt) for txt in tokenized_texts],\n",
        "                          maxlen=MAX_LEN, dtype=\"long\", value=0.0,\n",
        "                          truncating=\"post\", padding=\"post\")"
      ],
      "execution_count": 46,
      "outputs": []
    },
    {
      "cell_type": "code",
      "metadata": {
        "id": "VJ0Xpww2k6C3"
      },
      "source": [
        "tags = pad_sequences([[tag2idx.get(l) for l in lab] for lab in labels],\n",
        "                     maxlen=MAX_LEN, value=tag2idx[\"PAD\"], padding=\"post\",\n",
        "                     dtype=\"long\", truncating=\"post\")"
      ],
      "execution_count": 47,
      "outputs": []
    },
    {
      "cell_type": "code",
      "metadata": {
        "colab": {
          "base_uri": "https://localhost:8080/",
          "height": 36
        },
        "id": "9aFkQEysk-m7",
        "outputId": "9c02619f-5827-429c-e0b6-bccfbb520284"
      },
      "source": [
        "#attenation mask to ignore PAD token\n",
        "attention_masks = [[float(i != 0.0) for i in ii] for ii in input_ids]\n",
        "\n",
        "tr_inputs, val_inputs, tr_tags, val_tags = train_test_split(input_ids, tags,\n",
        "                                                            random_state=2018, test_size=0.1)\n",
        "tr_masks, val_masks, _, _ = train_test_split(attention_masks, input_ids,\n",
        "                                             random_state=2018, test_size=0.1)\n",
        "# convert to torch tenors\n",
        "tr_inputs = torch.tensor(tr_inputs)\n",
        "val_inputs = torch.tensor(val_inputs)\n",
        "tr_tags = torch.tensor(tr_tags)\n",
        "val_tags = torch.tensor(val_tags)\n",
        "tr_masks = torch.tensor(tr_masks)\n",
        "val_masks = torch.tensor(val_masks)\n",
        "#training time shuffling of the data and testing time we pass them sequentially\n",
        "train_data = TensorDataset(tr_inputs, tr_masks, tr_tags)\n",
        "train_sampler = RandomSampler(train_data)\n",
        "train_dataloader = DataLoader(train_data, sampler=train_sampler, batch_size=bs)\n",
        "\n",
        "valid_data = TensorDataset(val_inputs, val_masks, val_tags)\n",
        "valid_sampler = SequentialSampler(valid_data)\n",
        "valid_dataloader = DataLoader(valid_data, sampler=valid_sampler, batch_size=bs)\n",
        "#Fine tune\n",
        "\n",
        "import transformers\n",
        "from transformers import BertForTokenClassification, AdamW\n",
        "\n",
        "transformers.__version__"
      ],
      "execution_count": 48,
      "outputs": [
        {
          "output_type": "execute_result",
          "data": {
            "application/vnd.google.colaboratory.intrinsic+json": {
              "type": "string"
            },
            "text/plain": [
              "'2.6.0'"
            ]
          },
          "metadata": {
            "tags": []
          },
          "execution_count": 48
        }
      ]
    },
    {
      "cell_type": "code",
      "metadata": {
        "id": "3JMPxTw8lOfI",
        "colab": {
          "base_uri": "https://localhost:8080/",
          "height": 116,
          "referenced_widgets": [
            "8b8b2ccad9ba4429a3cccb505ea60cd4",
            "3effae8235614977bc59598d5c113d7e",
            "07a98823c98e429789a2aec7864ce82c",
            "5ecb00b966e146fabbeee9994e323015",
            "9342619e424e466395ae637322951e50",
            "02fbc6c9b11f4d3d9c58e19c7fea680b",
            "c426eb0e4ede408b84ece6154dcf5268",
            "79d1a74f9f25491888204be8e22b9dbc",
            "16f2afae2ed54e00a103162c77999725",
            "55c3f01ee3414067a5df5e344d4b1118",
            "79b67edfa62c4833bb83aabed679fc41",
            "e5cef3a8e4b5410d98028e90104a01a1",
            "091a6c3b1d204b918b19fa8836546231",
            "4ada1da1c3ea4fc4b0d6339aa80bf717",
            "3b3832691394468f8e85146cf933d222",
            "3998985f53a048ecb9c204269ea50157"
          ]
        },
        "outputId": "29d6f499-f167-4a8e-f42b-8f05cb6bf17d"
      },
      "source": [
        "model = BertForTokenClassification.from_pretrained(\n",
        "    \"bert-base-cased\",\n",
        "    num_labels=len(tag2idx),\n",
        "    output_attentions = False,\n",
        "    output_hidden_states = False\n",
        ")\n",
        "model.cuda();\n",
        "#now fine tuning uske liye optimizer use krna hai and we are using AdamW.\n",
        "\n",
        "FULL_FINETUNING = True\n",
        "if FULL_FINETUNING:\n",
        "    param_optimizer = list(model.named_parameters())\n",
        "    no_decay = ['bias', 'gamma', 'beta']\n",
        "    optimizer_grouped_parameters = [\n",
        "        {'params': [p for n, p in param_optimizer if not any(nd in n for nd in no_decay)],\n",
        "         'weight_decay_rate': 0.01},\n",
        "        {'params': [p for n, p in param_optimizer if any(nd in n for nd in no_decay)],\n",
        "         'weight_decay_rate': 0.0}\n",
        "    ]\n",
        "else:\n",
        "    param_optimizer = list(model.classifier.named_parameters())\n",
        "    optimizer_grouped_parameters = [{\"params\": [p for n, p in param_optimizer]}]\n",
        "\n",
        "optimizer = AdamW(\n",
        "    optimizer_grouped_parameters,\n",
        "    lr=3e-5,\n",
        "    eps=1e-8\n",
        ")\n",
        "#schduler to reduce learning rate linearly throughout the epochs\n",
        "from transformers import get_linear_schedule_with_warmup\n",
        "\n",
        "epochs = 10\n",
        "max_grad_norm = 1.0\n",
        "\n",
        "# Total number of training steps is number of batches * number of epochs.\n",
        "total_steps = len(train_dataloader) * epochs\n",
        "\n",
        "# Create the learning rate scheduler.\n",
        "scheduler = get_linear_schedule_with_warmup(\n",
        "    optimizer,\n",
        "    num_warmup_steps=0,\n",
        "    num_training_steps=total_steps\n",
        ")"
      ],
      "execution_count": 49,
      "outputs": [
        {
          "output_type": "display_data",
          "data": {
            "application/vnd.jupyter.widget-view+json": {
              "model_id": "8b8b2ccad9ba4429a3cccb505ea60cd4",
              "version_minor": 0,
              "version_major": 2
            },
            "text/plain": [
              "HBox(children=(FloatProgress(value=0.0, description='Downloading', max=433.0, style=ProgressStyle(description_…"
            ]
          },
          "metadata": {
            "tags": []
          }
        },
        {
          "output_type": "stream",
          "text": [
            "\n"
          ],
          "name": "stdout"
        },
        {
          "output_type": "display_data",
          "data": {
            "application/vnd.jupyter.widget-view+json": {
              "model_id": "16f2afae2ed54e00a103162c77999725",
              "version_minor": 0,
              "version_major": 2
            },
            "text/plain": [
              "HBox(children=(FloatProgress(value=0.0, description='Downloading', max=435779157.0, style=ProgressStyle(descri…"
            ]
          },
          "metadata": {
            "tags": []
          }
        },
        {
          "output_type": "stream",
          "text": [
            "\n"
          ],
          "name": "stdout"
        }
      ]
    },
    {
      "cell_type": "code",
      "metadata": {
        "colab": {
          "base_uri": "https://localhost:8080/"
        },
        "id": "-_anyB8NlPlI",
        "outputId": "bfd2c18c-9188-4399-886d-73a0396b0450"
      },
      "source": [
        "!pip install seqeval"
      ],
      "execution_count": null,
      "outputs": [
        {
          "output_type": "stream",
          "text": [
            "Collecting seqeval\n",
            "\u001b[?25l  Downloading https://files.pythonhosted.org/packages/9d/2d/233c79d5b4e5ab1dbf111242299153f3caddddbb691219f363ad55ce783d/seqeval-1.2.2.tar.gz (43kB)\n",
            "\r\u001b[K     |███████▌                        | 10kB 25.2MB/s eta 0:00:01\r\u001b[K     |███████████████                 | 20kB 14.5MB/s eta 0:00:01\r\u001b[K     |██████████████████████▌         | 30kB 12.9MB/s eta 0:00:01\r\u001b[K     |██████████████████████████████  | 40kB 12.3MB/s eta 0:00:01\r\u001b[K     |████████████████████████████████| 51kB 4.1MB/s \n",
            "\u001b[?25hRequirement already satisfied: numpy>=1.14.0 in /usr/local/lib/python3.7/dist-packages (from seqeval) (1.19.5)\n",
            "Requirement already satisfied: scikit-learn>=0.21.3 in /usr/local/lib/python3.7/dist-packages (from seqeval) (0.22.2.post1)\n",
            "Requirement already satisfied: joblib>=0.11 in /usr/local/lib/python3.7/dist-packages (from scikit-learn>=0.21.3->seqeval) (1.0.1)\n",
            "Requirement already satisfied: scipy>=0.17.0 in /usr/local/lib/python3.7/dist-packages (from scikit-learn>=0.21.3->seqeval) (1.4.1)\n",
            "Building wheels for collected packages: seqeval\n",
            "  Building wheel for seqeval (setup.py) ... \u001b[?25l\u001b[?25hdone\n",
            "  Created wheel for seqeval: filename=seqeval-1.2.2-cp37-none-any.whl size=16172 sha256=b2055eb37f81119adce54ffcc13628358de8a5b0a8b1e27b2a0c0f264d875024\n",
            "  Stored in directory: /root/.cache/pip/wheels/52/df/1b/45d75646c37428f7e626214704a0e35bd3cfc32eda37e59e5f\n",
            "Successfully built seqeval\n",
            "Installing collected packages: seqeval\n",
            "Successfully installed seqeval-1.2.2\n"
          ],
          "name": "stdout"
        }
      ]
    },
    {
      "cell_type": "code",
      "metadata": {
        "id": "KBQLo7aBlRGy"
      },
      "source": [
        "from seqeval.metrics import f1_score\n",
        "\n",
        "def flat_accuracy(preds, labels):\n",
        "    pred_flat = np.argmax(preds, axis=2).flatten()\n",
        "    labels_flat = labels.flatten()\n",
        "    return np.sum(pred_flat == labels_flat) / len(labels_flat)"
      ],
      "execution_count": 50,
      "outputs": []
    },
    {
      "cell_type": "code",
      "metadata": {
        "id": "fpjJXSL6md8p"
      },
      "source": [
        "is_notebook = False\n",
        "if is_notebook:\n",
        "   from tqdm import tnrange as trange\n",
        "   from tqdm import tqdm_notebook as tqdm\n",
        "else:\n",
        "   from tqdm import trange\n",
        "   from tqdm import tqdm"
      ],
      "execution_count": 51,
      "outputs": []
    },
    {
      "cell_type": "code",
      "metadata": {
        "colab": {
          "base_uri": "https://localhost:8080/",
          "height": 1000
        },
        "id": "fkKPpW4pnxRE",
        "outputId": "9eab59a6-6195-4725-b35d-866ff57863a6"
      },
      "source": [
        "epochs = 10\n",
        "loss_values, validation_loss_values = [], []\n",
        "\n",
        "for _ in trange(epochs, desc=\"Epoch\"):\n",
        "    \n",
        "    #               Training\n",
        "    \n",
        "    # Perform one full pass over the training set.\n",
        "\n",
        "    # Put the model into training mode.\n",
        "    model.train()\n",
        "    # Reset the total loss for this epoch.\n",
        "    total_loss = 0\n",
        "\n",
        "    # Training loop\n",
        "    for step, batch in enumerate(train_dataloader):\n",
        "        # add batch to gpu\n",
        "        batch = tuple(t.to(device) for t in batch)\n",
        "        b_input_ids, b_input_mask, b_labels = batch\n",
        "        # Always clear any previously calculated gradients before performing a backward pass.\n",
        "        model.zero_grad()\n",
        "        # forward pass\n",
        "        # This will return the loss (rather than the model output)   # because we have provided the `labels`.\n",
        "        outputs = model(b_input_ids, token_type_ids=None,\n",
        "                        attention_mask=b_input_mask, labels=b_labels)\n",
        "        # get the loss\n",
        "        loss = outputs[0]\n",
        "        # Perform a backward pass to calculate the gradients.\n",
        "        loss.backward()\n",
        "        # track train loss\n",
        "        total_loss += loss.item()\n",
        "        # Clip the norm of the gradient        # This is to help prevent the \"exploding gradients\" problem.\n",
        "        torch.nn.utils.clip_grad_norm_(parameters=model.parameters(), max_norm=max_grad_norm)\n",
        "        # update parameters\n",
        "        optimizer.step()\n",
        "        # Update the learning rate.\n",
        "        scheduler.step()\n",
        "\n",
        "    # Calculate the average loss over the training data.\n",
        "    avg_train_loss = total_loss / len(train_dataloader)\n",
        "    print(\"Average train loss: {}\".format(avg_train_loss))\n",
        "\n",
        "    # Store the loss value for plotting the learning curve.\n",
        "    loss_values.append(avg_train_loss)\n",
        "\n",
        "\n",
        "    \n",
        "    #               Validation\n",
        "    \n",
        "    # After the completion of each training epoch, measure our performance on\n",
        "    # our validation set.\n",
        "\n",
        "    # Put the model into evaluation mode\n",
        "    model.eval()\n",
        "    # Reset the validation loss for this epoch.\n",
        "    eval_loss, eval_accuracy = 0, 0\n",
        "    nb_eval_steps, nb_eval_examples = 0, 0\n",
        "    predictions , true_labels = [], []\n",
        "    for batch in valid_dataloader:\n",
        "        batch = tuple(t.to(device) for t in batch)\n",
        "        b_input_ids, b_input_mask, b_labels = batch\n",
        "\n",
        "        # Telling the model not to compute or store gradients,\n",
        "        # saving memory and speeding up validation\n",
        "        with torch.no_grad():\n",
        "            # Forward pass, calculate logit predictions.\n",
        "            # This will return the logits rather than the loss because we have not provided labels.\n",
        "            outputs = model(b_input_ids, token_type_ids=None,\n",
        "                            attention_mask=b_input_mask, labels=b_labels)\n",
        "        # Move logits and labels to CPU\n",
        "        logits = outputs[1].detach().cpu().numpy()\n",
        "        label_ids = b_labels.to('cpu').numpy()\n",
        "\n",
        "        # Calculate the accuracy for this batch of test sentences.\n",
        "        eval_loss += outputs[0].mean().item()\n",
        "        eval_accuracy += flat_accuracy(logits, label_ids)\n",
        "        predictions.extend([list(p) for p in np.argmax(logits, axis=2)])\n",
        "        true_labels.extend(label_ids)\n",
        "\n",
        "        nb_eval_examples += b_input_ids.size(0)\n",
        "        nb_eval_steps += 1\n",
        "\n",
        "    eval_loss = eval_loss / nb_eval_steps\n",
        "    validation_loss_values.append(eval_loss)\n",
        "    print(\"Validation loss: {}\".format(eval_loss))\n",
        "    print(\"Validation Accuracy: {}\".format(eval_accuracy/nb_eval_steps))\n",
        "    pred_tags = [tag_values[p_i] for p, l in zip(predictions, true_labels)\n",
        "                                 for p_i, l_i in zip(p, l) if tag_values[l_i] != \"PAD\"]\n",
        "    valid_tags = [tag_values[l_i] for l in true_labels\n",
        "                                  for l_i in l if tag_values[l_i] != \"PAD\"]\n",
        "    #print(\"Validation F1-Score: {}\".format(f1_score(pred_tags)))\n",
        "    print()\n",
        "import matplotlib.pyplot as plt\n",
        "%matplotlib inline\n",
        "\n",
        "import seaborn as sns\n",
        "\n",
        "# Use plot styling from seaborn.\n",
        "sns.set(style='darkgrid')\n",
        "\n",
        "# Increase the plot size and font size.\n",
        "sns.set(font_scale=1.5)\n",
        "plt.rcParams[\"figure.figsize\"] = (12,6)\n",
        "\n",
        "# Plot the learning curve.\n",
        "plt.plot(loss_values, 'b-o', label=\"training loss\")\n",
        "plt.plot(validation_loss_values, 'r-o', label=\"validation loss\")\n",
        "\n",
        "# Label the plot.\n",
        "plt.title(\"Learning curve\")\n",
        "plt.xlabel(\"Epoch\")\n",
        "plt.ylabel(\"Loss\")\n",
        "plt.legend()\n",
        "\n",
        "plt.show()\n"
      ],
      "execution_count": 53,
      "outputs": [
        {
          "output_type": "stream",
          "text": [
            "\n",
            "Epoch:   0%|          | 0/10 [00:00<?, ?it/s]\u001b[A"
          ],
          "name": "stderr"
        },
        {
          "output_type": "stream",
          "text": [
            "Average train loss: 0.1440099630507608\n"
          ],
          "name": "stdout"
        },
        {
          "output_type": "stream",
          "text": [
            "\n",
            "Epoch:  10%|█         | 1/10 [08:24<1:15:36, 504.01s/it]\u001b[A"
          ],
          "name": "stderr"
        },
        {
          "output_type": "stream",
          "text": [
            "Validation loss: 0.13007949168483415\n",
            "Validation Accuracy: 0.3977317525370805\n",
            "\n",
            "Average train loss: 0.10326011114932591\n"
          ],
          "name": "stdout"
        },
        {
          "output_type": "stream",
          "text": [
            "\n",
            "Epoch:  20%|██        | 2/10 [16:47<1:07:10, 503.81s/it]\u001b[A"
          ],
          "name": "stderr"
        },
        {
          "output_type": "stream",
          "text": [
            "Validation loss: 0.13346187219023706\n",
            "Validation Accuracy: 0.3984089578454331\n",
            "\n",
            "Average train loss: 0.07630730695812635\n"
          ],
          "name": "stdout"
        },
        {
          "output_type": "stream",
          "text": [
            "\n",
            "Epoch:  30%|███       | 3/10 [25:10<58:45, 503.58s/it]  \u001b[A"
          ],
          "name": "stderr"
        },
        {
          "output_type": "stream",
          "text": [
            "Validation loss: 0.13792123915006718\n",
            "Validation Accuracy: 0.3985080015612803\n",
            "\n",
            "Average train loss: 0.05618270858846124\n"
          ],
          "name": "stdout"
        },
        {
          "output_type": "stream",
          "text": [
            "\n",
            "Epoch:  40%|████      | 4/10 [33:33<50:21, 503.52s/it]\u001b[A"
          ],
          "name": "stderr"
        },
        {
          "output_type": "stream",
          "text": [
            "Validation loss: 0.1436138563603163\n",
            "Validation Accuracy: 0.39884465261514435\n",
            "\n",
            "Average train loss: 0.04198880014586241\n"
          ],
          "name": "stdout"
        },
        {
          "output_type": "stream",
          "text": [
            "\n",
            "Epoch:  50%|█████     | 5/10 [41:57<41:57, 503.46s/it]\u001b[A"
          ],
          "name": "stderr"
        },
        {
          "output_type": "stream",
          "text": [
            "Validation loss: 0.1619788135588169\n",
            "Validation Accuracy: 0.3990593286494928\n",
            "\n",
            "Average train loss: 0.03162945048425145\n"
          ],
          "name": "stdout"
        },
        {
          "output_type": "stream",
          "text": [
            "\n",
            "Epoch:  60%|██████    | 6/10 [50:19<33:32, 503.23s/it]\u001b[A"
          ],
          "name": "stderr"
        },
        {
          "output_type": "stream",
          "text": [
            "Validation loss: 0.1861314084753394\n",
            "Validation Accuracy: 0.3986616900858705\n",
            "\n",
            "Average train loss: 0.023844418463002396\n"
          ],
          "name": "stdout"
        },
        {
          "output_type": "stream",
          "text": [
            "\n",
            "Epoch:  70%|███████   | 7/10 [58:43<25:10, 503.52s/it]\u001b[A"
          ],
          "name": "stderr"
        },
        {
          "output_type": "stream",
          "text": [
            "Validation loss: 0.1947197628269593\n",
            "Validation Accuracy: 0.39922716627634663\n",
            "\n",
            "Average train loss: 0.01891298536212978\n"
          ],
          "name": "stdout"
        },
        {
          "output_type": "stream",
          "text": [
            "\n",
            "Epoch:  80%|████████  | 8/10 [1:07:07<16:46, 503.42s/it]\u001b[A"
          ],
          "name": "stderr"
        },
        {
          "output_type": "stream",
          "text": [
            "Validation loss: 0.21050048962235451\n",
            "Validation Accuracy: 0.39916813036690085\n",
            "\n",
            "Average train loss: 0.014363556443615226\n"
          ],
          "name": "stdout"
        },
        {
          "output_type": "stream",
          "text": [
            "\n",
            "Epoch:  90%|█████████ | 9/10 [1:15:29<08:23, 503.04s/it]\u001b[A"
          ],
          "name": "stderr"
        },
        {
          "output_type": "stream",
          "text": [
            "Validation loss: 0.21998218127836783\n",
            "Validation Accuracy: 0.39918471896955515\n",
            "\n",
            "Average train loss: 0.01160109489080907\n"
          ],
          "name": "stdout"
        },
        {
          "output_type": "stream",
          "text": [
            "\n",
            "Epoch: 100%|██████████| 10/10 [1:23:50<00:00, 503.04s/it]"
          ],
          "name": "stderr"
        },
        {
          "output_type": "stream",
          "text": [
            "Validation loss: 0.23634787717213232\n",
            "Validation Accuracy: 0.39934084699453565\n",
            "\n"
          ],
          "name": "stdout"
        },
        {
          "output_type": "stream",
          "text": [
            "\n"
          ],
          "name": "stderr"
        },
        {
          "output_type": "display_data",
          "data": {
            "image/png": "[encoded data removed]",
            "text/plain": [
              "<Figure size 864x432 with 1 Axes>"
            ]
          },
          "metadata": {
            "tags": []
          }
        }
      ]
    },
    {
      "cell_type": "code",
      "metadata": {
        "id": "0r8goTHOmB4B",
        "colab": {
          "base_uri": "https://localhost:8080/",
          "height": 427
        },
        "outputId": "5da0c558-d628-4b73-8715-7d108522b5b7"
      },
      "source": [
        "plt.plot(loss_values, 'b-o', label=\"training loss\")\n",
        "#plt.plot(training_loss_values, 'r-o', label=\"train loss\")\n",
        "\n",
        "# Label the plot.\n",
        "plt.title(\"Learning curve\")\n",
        "plt.xlabel(\"Epoch\")\n",
        "plt.ylabel(\"Loss\")\n",
        "plt.legend()\n",
        "\n",
        "plt.show()"
      ],
      "execution_count": 58,
      "outputs": [
        {
          "output_type": "display_data",
          "data": {
            "image/png": "[encoded data removed]",
            "text/plain": [
              "<Figure size 864x432 with 1 Axes>"
            ]
          },
          "metadata": {
            "tags": []
          }
        }
      ]
    },
    {
      "cell_type": "code",
      "metadata": {
        "id": "6IcqgDOoi4od"
      },
      "source": [
        ""
      ],
      "execution_count": null,
      "outputs": []
    }
  ]
}